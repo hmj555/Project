{
 "cells": [
  {
   "cell_type": "markdown",
   "id": "4bcf02f3-214f-46e8-b810-47441572c054",
   "metadata": {},
   "source": [
    "## 201822037 통계학과 한민주"
   ]
  },
  {
   "cell_type": "code",
   "execution_count": 1,
   "id": "70b16b21-82a2-4a26-a7ea-1787cee7663e",
   "metadata": {},
   "outputs": [],
   "source": [
    "#패키지 부착\n",
    "library(ISLR2)"
   ]
  },
  {
   "cell_type": "markdown",
   "id": "94510479-76b4-4130-a1af-31a79614e050",
   "metadata": {},
   "source": [
    "## Boston data"
   ]
  },
  {
   "cell_type": "code",
   "execution_count": 2,
   "id": "cabe5c7f-bf55-40b7-ba16-6eab44dafa39",
   "metadata": {},
   "outputs": [],
   "source": [
    "#Boston 데이터셋\n",
    "Boston<-Boston\n",
    "\n",
    "#medv가 20이상이면 1(high), 20미만이면 0(low)\n",
    "medv1=ifelse(Boston[,'medv']>=20,1,0)\n",
    "Boston['medv1']=medv1\n",
    "Boston<-Boston[,-13]\n",
    "Boston[\"medv1\"]=as.factor(Boston$medv1)"
   ]
  },
  {
   "cell_type": "code",
   "execution_count": 3,
   "id": "10b7936a-e7db-48dd-91fa-b2d15e9baedb",
   "metadata": {},
   "outputs": [
    {
     "data": {
      "text/html": [
       "<table class=\"dataframe\">\n",
       "<caption>A data.frame: 6 × 13</caption>\n",
       "<thead>\n",
       "\t<tr><th></th><th scope=col>crim</th><th scope=col>zn</th><th scope=col>indus</th><th scope=col>chas</th><th scope=col>nox</th><th scope=col>rm</th><th scope=col>age</th><th scope=col>dis</th><th scope=col>rad</th><th scope=col>tax</th><th scope=col>ptratio</th><th scope=col>lstat</th><th scope=col>medv1</th></tr>\n",
       "\t<tr><th></th><th scope=col>&lt;dbl&gt;</th><th scope=col>&lt;dbl&gt;</th><th scope=col>&lt;dbl&gt;</th><th scope=col>&lt;int&gt;</th><th scope=col>&lt;dbl&gt;</th><th scope=col>&lt;dbl&gt;</th><th scope=col>&lt;dbl&gt;</th><th scope=col>&lt;dbl&gt;</th><th scope=col>&lt;int&gt;</th><th scope=col>&lt;dbl&gt;</th><th scope=col>&lt;dbl&gt;</th><th scope=col>&lt;dbl&gt;</th><th scope=col>&lt;fct&gt;</th></tr>\n",
       "</thead>\n",
       "<tbody>\n",
       "\t<tr><th scope=row>1</th><td>0.00632</td><td>18</td><td>2.31</td><td>0</td><td>0.538</td><td>6.575</td><td>65.2</td><td>4.0900</td><td>1</td><td>296</td><td>15.3</td><td>4.98</td><td>1</td></tr>\n",
       "\t<tr><th scope=row>2</th><td>0.02731</td><td> 0</td><td>7.07</td><td>0</td><td>0.469</td><td>6.421</td><td>78.9</td><td>4.9671</td><td>2</td><td>242</td><td>17.8</td><td>9.14</td><td>1</td></tr>\n",
       "\t<tr><th scope=row>3</th><td>0.02729</td><td> 0</td><td>7.07</td><td>0</td><td>0.469</td><td>7.185</td><td>61.1</td><td>4.9671</td><td>2</td><td>242</td><td>17.8</td><td>4.03</td><td>1</td></tr>\n",
       "\t<tr><th scope=row>4</th><td>0.03237</td><td> 0</td><td>2.18</td><td>0</td><td>0.458</td><td>6.998</td><td>45.8</td><td>6.0622</td><td>3</td><td>222</td><td>18.7</td><td>2.94</td><td>1</td></tr>\n",
       "\t<tr><th scope=row>5</th><td>0.06905</td><td> 0</td><td>2.18</td><td>0</td><td>0.458</td><td>7.147</td><td>54.2</td><td>6.0622</td><td>3</td><td>222</td><td>18.7</td><td>5.33</td><td>1</td></tr>\n",
       "\t<tr><th scope=row>6</th><td>0.02985</td><td> 0</td><td>2.18</td><td>0</td><td>0.458</td><td>6.430</td><td>58.7</td><td>6.0622</td><td>3</td><td>222</td><td>18.7</td><td>5.21</td><td>1</td></tr>\n",
       "</tbody>\n",
       "</table>\n"
      ],
      "text/latex": [
       "A data.frame: 6 × 13\n",
       "\\begin{tabular}{r|lllllllllllll}\n",
       "  & crim & zn & indus & chas & nox & rm & age & dis & rad & tax & ptratio & lstat & medv1\\\\\n",
       "  & <dbl> & <dbl> & <dbl> & <int> & <dbl> & <dbl> & <dbl> & <dbl> & <int> & <dbl> & <dbl> & <dbl> & <fct>\\\\\n",
       "\\hline\n",
       "\t1 & 0.00632 & 18 & 2.31 & 0 & 0.538 & 6.575 & 65.2 & 4.0900 & 1 & 296 & 15.3 & 4.98 & 1\\\\\n",
       "\t2 & 0.02731 &  0 & 7.07 & 0 & 0.469 & 6.421 & 78.9 & 4.9671 & 2 & 242 & 17.8 & 9.14 & 1\\\\\n",
       "\t3 & 0.02729 &  0 & 7.07 & 0 & 0.469 & 7.185 & 61.1 & 4.9671 & 2 & 242 & 17.8 & 4.03 & 1\\\\\n",
       "\t4 & 0.03237 &  0 & 2.18 & 0 & 0.458 & 6.998 & 45.8 & 6.0622 & 3 & 222 & 18.7 & 2.94 & 1\\\\\n",
       "\t5 & 0.06905 &  0 & 2.18 & 0 & 0.458 & 7.147 & 54.2 & 6.0622 & 3 & 222 & 18.7 & 5.33 & 1\\\\\n",
       "\t6 & 0.02985 &  0 & 2.18 & 0 & 0.458 & 6.430 & 58.7 & 6.0622 & 3 & 222 & 18.7 & 5.21 & 1\\\\\n",
       "\\end{tabular}\n"
      ],
      "text/markdown": [
       "\n",
       "A data.frame: 6 × 13\n",
       "\n",
       "| <!--/--> | crim &lt;dbl&gt; | zn &lt;dbl&gt; | indus &lt;dbl&gt; | chas &lt;int&gt; | nox &lt;dbl&gt; | rm &lt;dbl&gt; | age &lt;dbl&gt; | dis &lt;dbl&gt; | rad &lt;int&gt; | tax &lt;dbl&gt; | ptratio &lt;dbl&gt; | lstat &lt;dbl&gt; | medv1 &lt;fct&gt; |\n",
       "|---|---|---|---|---|---|---|---|---|---|---|---|---|---|\n",
       "| 1 | 0.00632 | 18 | 2.31 | 0 | 0.538 | 6.575 | 65.2 | 4.0900 | 1 | 296 | 15.3 | 4.98 | 1 |\n",
       "| 2 | 0.02731 |  0 | 7.07 | 0 | 0.469 | 6.421 | 78.9 | 4.9671 | 2 | 242 | 17.8 | 9.14 | 1 |\n",
       "| 3 | 0.02729 |  0 | 7.07 | 0 | 0.469 | 7.185 | 61.1 | 4.9671 | 2 | 242 | 17.8 | 4.03 | 1 |\n",
       "| 4 | 0.03237 |  0 | 2.18 | 0 | 0.458 | 6.998 | 45.8 | 6.0622 | 3 | 222 | 18.7 | 2.94 | 1 |\n",
       "| 5 | 0.06905 |  0 | 2.18 | 0 | 0.458 | 7.147 | 54.2 | 6.0622 | 3 | 222 | 18.7 | 5.33 | 1 |\n",
       "| 6 | 0.02985 |  0 | 2.18 | 0 | 0.458 | 6.430 | 58.7 | 6.0622 | 3 | 222 | 18.7 | 5.21 | 1 |\n",
       "\n"
      ],
      "text/plain": [
       "  crim    zn indus chas nox   rm    age  dis    rad tax ptratio lstat medv1\n",
       "1 0.00632 18 2.31  0    0.538 6.575 65.2 4.0900 1   296 15.3    4.98  1    \n",
       "2 0.02731  0 7.07  0    0.469 6.421 78.9 4.9671 2   242 17.8    9.14  1    \n",
       "3 0.02729  0 7.07  0    0.469 7.185 61.1 4.9671 2   242 17.8    4.03  1    \n",
       "4 0.03237  0 2.18  0    0.458 6.998 45.8 6.0622 3   222 18.7    2.94  1    \n",
       "5 0.06905  0 2.18  0    0.458 7.147 54.2 6.0622 3   222 18.7    5.33  1    \n",
       "6 0.02985  0 2.18  0    0.458 6.430 58.7 6.0622 3   222 18.7    5.21  1    "
      ]
     },
     "metadata": {},
     "output_type": "display_data"
    }
   ],
   "source": [
    "head(Boston)"
   ]
  },
  {
   "cell_type": "markdown",
   "id": "15481842-93e2-4c86-9ded-338b744086f2",
   "metadata": {},
   "source": [
    "## 로지스틱 회귀모형"
   ]
  },
  {
   "cell_type": "code",
   "execution_count": 4,
   "id": "1e584f92-78c0-412a-b994-23b1104dff6c",
   "metadata": {},
   "outputs": [],
   "source": [
    "set.seed(9876)\n",
    "# idx 설정 (6 : 4) \n",
    "idx <- sample(x = c(\"train\", \"test\"), size = nrow(Boston), \n",
    "              replace = TRUE, prob = c(6, 4))"
   ]
  },
  {
   "cell_type": "code",
   "execution_count": 5,
   "id": "569c633a-e094-46f0-88df-fc8ab025ae5e",
   "metadata": {},
   "outputs": [],
   "source": [
    "# idx에 따라 훈련/검정 자료 나누기 \n",
    "train <- Boston[idx == \"train\", ] \n",
    "test <- Boston[idx == \"test\", ]\n",
    "\n",
    "# test 데이터 설명변수/반응변수 나누기 \n",
    "test_x <- test[, -13] \n",
    "test_y <- test[, 13]"
   ]
  },
  {
   "cell_type": "code",
   "execution_count": 6,
   "id": "fb27dc5e-2ff1-45d6-b221-229bf7e2667c",
   "metadata": {},
   "outputs": [
    {
     "data": {
      "text/plain": [
       "\n",
       "Call:\n",
       "glm(formula = medv1 ~ ., family = \"binomial\", data = train)\n",
       "\n",
       "Deviance Residuals: \n",
       "     Min        1Q    Median        3Q       Max  \n",
       "-2.47097  -0.24838   0.03584   0.26935   2.08979  \n",
       "\n",
       "Coefficients:\n",
       "              Estimate Std. Error z value Pr(>|z|)    \n",
       "(Intercept)  16.552016   5.226316   3.167  0.00154 ** \n",
       "crim         -0.117998   0.092064  -1.282  0.19995    \n",
       "zn            0.003442   0.021265   0.162  0.87141    \n",
       "indus         0.125980   0.065588   1.921  0.05476 .  \n",
       "chas          1.586298   0.895453   1.772  0.07648 .  \n",
       "nox         -13.736424   4.179847  -3.286  0.00101 ** \n",
       "rm            1.515633   0.607680   2.494  0.01263 *  \n",
       "age          -0.038666   0.015836  -2.442  0.01462 *  \n",
       "dis          -0.865917   0.234356  -3.695  0.00022 ***\n",
       "rad           0.228860   0.082155   2.786  0.00534 ** \n",
       "tax          -0.009602   0.004182  -2.296  0.02169 *  \n",
       "ptratio      -0.303161   0.140187  -2.163  0.03058 *  \n",
       "lstat        -0.412278   0.076988  -5.355 8.55e-08 ***\n",
       "---\n",
       "Signif. codes:  0 '***' 0.001 '**' 0.01 '*' 0.05 '.' 0.1 ' ' 1\n",
       "\n",
       "(Dispersion parameter for binomial family taken to be 1)\n",
       "\n",
       "    Null deviance: 416.74  on 307  degrees of freedom\n",
       "Residual deviance: 142.69  on 295  degrees of freedom\n",
       "AIC: 168.69\n",
       "\n",
       "Number of Fisher Scoring iterations: 7\n"
      ]
     },
     "metadata": {},
     "output_type": "display_data"
    }
   ],
   "source": [
    "# 로지스틱 회귀분석 모델 생성 (full모델)\n",
    "full <- glm(formula = medv1 ~ ., data = train, family = \"binomial\") \n",
    "summary(full)"
   ]
  },
  {
   "cell_type": "markdown",
   "id": "c366a3a7-9aad-42e1-9427-976efb0104f0",
   "metadata": {},
   "source": [
    "#### crime과 zn변수가 유효하지 않고 , AIC 값은 168.69이다."
   ]
  },
  {
   "cell_type": "code",
   "execution_count": 7,
   "id": "0d9fd3c7-36da-4f46-9834-cfff534cc2b9",
   "metadata": {},
   "outputs": [
    {
     "name": "stdout",
     "output_type": "stream",
     "text": [
      "   test_y\n",
      "      0   1\n",
      "  0  65  10\n",
      "  1  19 104\n"
     ]
    }
   ],
   "source": [
    "# full 모델 확률 예측\n",
    "pre=predict(object = full, newdata = test_x, type = \"response\")\n",
    "t=table(round(pre),test_y)\n",
    "print(t)"
   ]
  },
  {
   "cell_type": "code",
   "execution_count": 8,
   "id": "1048eeb6-2214-48f9-b7c8-618ad1ce4f17",
   "metadata": {},
   "outputs": [
    {
     "data": {
      "text/html": [
       "0.845528455284553"
      ],
      "text/latex": [
       "0.845528455284553"
      ],
      "text/markdown": [
       "0.845528455284553"
      ],
      "text/plain": [
       "[1] 0.8455285"
      ]
     },
     "metadata": {},
     "output_type": "display_data"
    }
   ],
   "source": [
    "#민감도\n",
    "t[2,2]/(t[2,1]+t[2,2])"
   ]
  },
  {
   "cell_type": "code",
   "execution_count": 9,
   "id": "90c98b98-6a1d-4ef7-b84d-b6aed2fc21ae",
   "metadata": {},
   "outputs": [
    {
     "data": {
      "text/html": [
       "0.866666666666667"
      ],
      "text/latex": [
       "0.866666666666667"
      ],
      "text/markdown": [
       "0.866666666666667"
      ],
      "text/plain": [
       "[1] 0.8666667"
      ]
     },
     "metadata": {},
     "output_type": "display_data"
    }
   ],
   "source": [
    "#특이도\n",
    "t[1,1]/(t[1,1]+t[1,2])"
   ]
  },
  {
   "cell_type": "code",
   "execution_count": 10,
   "id": "f9b47f2f-cef1-4b8f-b005-7af3faec3679",
   "metadata": {},
   "outputs": [
    {
     "data": {
      "text/html": [
       "0.853535353535353"
      ],
      "text/latex": [
       "0.853535353535353"
      ],
      "text/markdown": [
       "0.853535353535353"
      ],
      "text/plain": [
       "[1] 0.8535354"
      ]
     },
     "metadata": {},
     "output_type": "display_data"
    }
   ],
   "source": [
    "#정분류율\n",
    "(t[1,1]+t[2,2])/(t[1,1]+t[1,2]+t[2,1]+t[2,2])"
   ]
  },
  {
   "cell_type": "code",
   "execution_count": 11,
   "id": "c6161895-99f8-4a95-8386-f50d7b95236e",
   "metadata": {},
   "outputs": [
    {
     "data": {
      "text/plain": [
       "\n",
       "Call:\n",
       "glm(formula = medv1 ~ crim + indus + chas + nox + rm + age + \n",
       "    dis + rad + tax + ptratio + lstat, family = \"binomial\", data = train)\n",
       "\n",
       "Deviance Residuals: \n",
       "    Min       1Q   Median       3Q      Max  \n",
       "-2.4711  -0.2469   0.0376   0.2682   2.0933  \n",
       "\n",
       "Coefficients:\n",
       "              Estimate Std. Error z value Pr(>|z|)    \n",
       "(Intercept)  16.522380   5.225472   3.162  0.00157 ** \n",
       "crim         -0.116780   0.091485  -1.277  0.20178    \n",
       "indus         0.126342   0.065382   1.932  0.05332 .  \n",
       "chas          1.590562   0.895156   1.777  0.07559 .  \n",
       "nox         -13.752406   4.181203  -3.289  0.00101 ** \n",
       "rm            1.524606   0.604726   2.521  0.01170 *  \n",
       "age          -0.038926   0.015759  -2.470  0.01351 *  \n",
       "dis          -0.845329   0.195987  -4.313 1.61e-05 ***\n",
       "rad           0.226591   0.080718   2.807  0.00500 ** \n",
       "tax          -0.009434   0.004037  -2.337  0.01944 *  \n",
       "ptratio      -0.308964   0.135677  -2.277  0.02277 *  \n",
       "lstat        -0.412184   0.076994  -5.353 8.63e-08 ***\n",
       "---\n",
       "Signif. codes:  0 '***' 0.001 '**' 0.01 '*' 0.05 '.' 0.1 ' ' 1\n",
       "\n",
       "(Dispersion parameter for binomial family taken to be 1)\n",
       "\n",
       "    Null deviance: 416.74  on 307  degrees of freedom\n",
       "Residual deviance: 142.72  on 296  degrees of freedom\n",
       "AIC: 166.72\n",
       "\n",
       "Number of Fisher Scoring iterations: 7\n"
      ]
     },
     "metadata": {},
     "output_type": "display_data"
    }
   ],
   "source": [
    "# 로지스틱 회귀분석 모델 생성 ( stepwise 모델 )\n",
    "step <- step(object = full, trace = F) \n",
    "summary(step)"
   ]
  },
  {
   "cell_type": "markdown",
   "id": "e5d11055-2861-40f3-bca7-a8d61c72b269",
   "metadata": {},
   "source": [
    "#### crime과 zn 변수가 유효하지 않고, AIC값은 166.72 이다."
   ]
  },
  {
   "cell_type": "code",
   "execution_count": 12,
   "id": "b7e011a6-511a-446e-a0e9-857d51e4bfca",
   "metadata": {},
   "outputs": [
    {
     "name": "stdout",
     "output_type": "stream",
     "text": [
      "   test_y\n",
      "      0   1\n",
      "  0  65  10\n",
      "  1  19 104\n"
     ]
    }
   ],
   "source": [
    "# stepwise 모델 확률 예측 \n",
    "pre=predict(object = step, newdata = test_x, type = \"response\")\n",
    "t=table(round(pre),test_y)\n",
    "print(t)"
   ]
  },
  {
   "cell_type": "code",
   "execution_count": 13,
   "id": "9567cbbc-8e3f-494b-b2a2-0f95f827d53e",
   "metadata": {},
   "outputs": [
    {
     "data": {
      "text/html": [
       "0.845528455284553"
      ],
      "text/latex": [
       "0.845528455284553"
      ],
      "text/markdown": [
       "0.845528455284553"
      ],
      "text/plain": [
       "[1] 0.8455285"
      ]
     },
     "metadata": {},
     "output_type": "display_data"
    }
   ],
   "source": [
    "#민감도\n",
    "t[2,2]/(t[2,1]+t[2,2])"
   ]
  },
  {
   "cell_type": "code",
   "execution_count": 14,
   "id": "b0c08002-b658-43ff-b7cf-8bb03ddd9a4e",
   "metadata": {},
   "outputs": [
    {
     "data": {
      "text/html": [
       "0.866666666666667"
      ],
      "text/latex": [
       "0.866666666666667"
      ],
      "text/markdown": [
       "0.866666666666667"
      ],
      "text/plain": [
       "[1] 0.8666667"
      ]
     },
     "metadata": {},
     "output_type": "display_data"
    }
   ],
   "source": [
    "#특이도\n",
    "t[1,1]/(t[1,1]+t[1,2])"
   ]
  },
  {
   "cell_type": "code",
   "execution_count": 15,
   "id": "554dec34-e46a-482d-b1b9-ce4e5177a313",
   "metadata": {},
   "outputs": [
    {
     "data": {
      "text/html": [
       "0.853535353535353"
      ],
      "text/latex": [
       "0.853535353535353"
      ],
      "text/markdown": [
       "0.853535353535353"
      ],
      "text/plain": [
       "[1] 0.8535354"
      ]
     },
     "metadata": {},
     "output_type": "display_data"
    }
   ],
   "source": [
    "#정분류율\n",
    "(t[1,1]+t[2,2])/(t[1,1]+t[1,2]+t[2,1]+t[2,2])"
   ]
  },
  {
   "cell_type": "markdown",
   "id": "c8a88bf4-a4c6-4be0-bc12-df41d65a826d",
   "metadata": {},
   "source": [
    "#### full모델과 stepwise모델은 같은 test data에 대해서 민감도, 특이도, 정분류율은 같지만, AIC 측면에서 stepwise 모델이 조금 더 낫다"
   ]
  },
  {
   "cell_type": "markdown",
   "id": "f8af7d05-bf52-497c-82a1-1c7d450ca03b",
   "metadata": {},
   "source": [
    "## 의사결정 나무"
   ]
  },
  {
   "cell_type": "code",
   "execution_count": 16,
   "id": "b7ff072b-5d76-4fff-bd18-6a758f205ebc",
   "metadata": {},
   "outputs": [],
   "source": [
    "# 패키지 부착\n",
    "library(rpart)\n",
    "library(rpart.plot)"
   ]
  },
  {
   "cell_type": "code",
   "execution_count": 17,
   "id": "cef2364b-0e51-499e-9416-ce1fb5fd00de",
   "metadata": {},
   "outputs": [
    {
     "data": {
      "image/png": "[encoded data removed]",
      "text/plain": [
       "plot without title"
      ]
     },
     "metadata": {
      "image/png": {
       "height": 420,
       "width": 420
      }
     },
     "output_type": "display_data"
    }
   ],
   "source": [
    "# 의사결정 나무 모형 적합\n",
    "tree=rpart(medv1~. ,data=train,method=\"class\")\n",
    "rpart.plot(tree) # medv1의 분류에 4개의 예측변수가 사용되었다"
   ]
  },
  {
   "cell_type": "code",
   "execution_count": 18,
   "id": "5d099813-6fee-4ea2-ac90-446b6225482f",
   "metadata": {},
   "outputs": [
    {
     "name": "stdout",
     "output_type": "stream",
     "text": [
      "Call:\n",
      "rpart(formula = medv1 ~ ., data = train, method = \"class\")\n",
      "  n= 308 \n",
      "\n",
      "          CP nsplit rel error    xerror       xstd\n",
      "1 0.68253968      0 1.0000000 1.0000000 0.06848178\n",
      "2 0.02777778      1 0.3174603 0.3571429 0.04919696\n",
      "3 0.02380952      3 0.2619048 0.3412698 0.04827377\n",
      "4 0.01000000      4 0.2380952 0.3730159 0.05008680\n",
      "\n",
      "Variable importance\n",
      "  lstat     age   indus     tax    crim     nox      rm     dis      zn ptratio \n",
      "     28      14      13      12      12      12       3       2       2       1 \n",
      "\n",
      "Node number 1: 308 observations,    complexity param=0.6825397\n",
      "  predicted class=1  expected loss=0.4090909  P(node) =1\n",
      "    class counts:   126   182\n",
      "   probabilities: 0.409 0.591 \n",
      "  left son=2 (110 obs) right son=3 (198 obs)\n",
      "  Primary splits:\n",
      "      lstat   < 14.4     to the right, improve=79.44646, (0 missing)\n",
      "      age     < 76.25    to the right, improve=41.54493, (0 missing)\n",
      "      nox     < 0.522    to the right, improve=39.60646, (0 missing)\n",
      "      ptratio < 19.9     to the right, improve=38.98384, (0 missing)\n",
      "      tax     < 402.5    to the right, improve=36.12602, (0 missing)\n",
      "  Surrogate splits:\n",
      "      age   < 91.6     to the right, agree=0.825, adj=0.509, (0 split)\n",
      "      indus < 16.57    to the right, agree=0.802, adj=0.445, (0 split)\n",
      "      tax   < 434.5    to the right, agree=0.802, adj=0.445, (0 split)\n",
      "      crim  < 4.65786  to the right, agree=0.795, adj=0.427, (0 split)\n",
      "      nox   < 0.5775   to the right, agree=0.795, adj=0.427, (0 split)\n",
      "\n",
      "Node number 2: 110 observations\n",
      "  predicted class=0  expected loss=0.1090909  P(node) =0.3571429\n",
      "    class counts:    98    12\n",
      "   probabilities: 0.891 0.109 \n",
      "\n",
      "Node number 3: 198 observations,    complexity param=0.02777778\n",
      "  predicted class=1  expected loss=0.1414141  P(node) =0.6428571\n",
      "    class counts:    28   170\n",
      "   probabilities: 0.141 0.859 \n",
      "  left son=6 (55 obs) right son=7 (143 obs)\n",
      "  Primary splits:\n",
      "      rm      < 6.0985   to the left,  improve=7.521368, (0 missing)\n",
      "      lstat   < 7.765    to the right, improve=6.466129, (0 missing)\n",
      "      ptratio < 20.55    to the right, improve=3.874190, (0 missing)\n",
      "      tax     < 302      to the right, improve=3.103030, (0 missing)\n",
      "      age     < 74.1     to the right, improve=2.127165, (0 missing)\n",
      "  Surrogate splits:\n",
      "      lstat < 11.265   to the right, agree=0.763, adj=0.145, (0 split)\n",
      "      indus < 23.77    to the right, agree=0.737, adj=0.055, (0 split)\n",
      "      dis   < 1.6141   to the left,  agree=0.737, adj=0.055, (0 split)\n",
      "      crim  < 7.461085 to the right, agree=0.732, adj=0.036, (0 split)\n",
      "      age   < 98.95    to the right, agree=0.732, adj=0.036, (0 split)\n",
      "\n",
      "Node number 6: 55 observations,    complexity param=0.02777778\n",
      "  predicted class=1  expected loss=0.3636364  P(node) =0.1785714\n",
      "    class counts:    20    35\n",
      "   probabilities: 0.364 0.636 \n",
      "  left son=12 (7 obs) right son=13 (48 obs)\n",
      "  Primary splits:\n",
      "      dis   < 6.55475  to the right, improve=6.496212, (0 missing)\n",
      "      crim  < 0.065305 to the left,  improve=3.906926, (0 missing)\n",
      "      zn    < 20.5     to the right, improve=3.906926, (0 missing)\n",
      "      rad   < 7.5      to the left,  improve=2.845850, (0 missing)\n",
      "      indus < 12.925   to the left,  improve=2.798868, (0 missing)\n",
      "  Surrogate splits:\n",
      "      zn    < 20.5     to the right, agree=0.964, adj=0.714, (0 split)\n",
      "      indus < 2.185    to the left,  agree=0.909, adj=0.286, (0 split)\n",
      "      crim  < 0.0456   to the left,  agree=0.891, adj=0.143, (0 split)\n",
      "      nox   < 0.445    to the left,  agree=0.891, adj=0.143, (0 split)\n",
      "      age   < 26.75    to the left,  agree=0.891, adj=0.143, (0 split)\n",
      "\n",
      "Node number 7: 143 observations\n",
      "  predicted class=1  expected loss=0.05594406  P(node) =0.4642857\n",
      "    class counts:     8   135\n",
      "   probabilities: 0.056 0.944 \n",
      "\n",
      "Node number 12: 7 observations\n",
      "  predicted class=0  expected loss=0  P(node) =0.02272727\n",
      "    class counts:     7     0\n",
      "   probabilities: 1.000 0.000 \n",
      "\n",
      "Node number 13: 48 observations,    complexity param=0.02380952\n",
      "  predicted class=1  expected loss=0.2708333  P(node) =0.1558442\n",
      "    class counts:    13    35\n",
      "   probabilities: 0.271 0.729 \n",
      "  left son=26 (7 obs) right son=27 (41 obs)\n",
      "  Primary splits:\n",
      "      ptratio < 20.6     to the right, improve=3.223142, (0 missing)\n",
      "      age     < 69.1     to the right, improve=3.148810, (0 missing)\n",
      "      nox     < 0.5125   to the right, improve=1.724214, (0 missing)\n",
      "      rad     < 7        to the left,  improve=1.625000, (0 missing)\n",
      "      crim    < 1.5775   to the left,  improve=1.408333, (0 missing)\n",
      "\n",
      "Node number 26: 7 observations\n",
      "  predicted class=0  expected loss=0.2857143  P(node) =0.02272727\n",
      "    class counts:     5     2\n",
      "   probabilities: 0.714 0.286 \n",
      "\n",
      "Node number 27: 41 observations\n",
      "  predicted class=1  expected loss=0.195122  P(node) =0.1331169\n",
      "    class counts:     8    33\n",
      "   probabilities: 0.195 0.805 \n",
      "\n"
     ]
    }
   ],
   "source": [
    "summary(tree) #분기가 4번 일어남 , cp값이 작을수록 좋음"
   ]
  },
  {
   "cell_type": "code",
   "execution_count": 19,
   "id": "4c77f723-27af-4555-bcde-f9f3cf221d00",
   "metadata": {},
   "outputs": [
    {
     "name": "stdout",
     "output_type": "stream",
     "text": [
      "\n",
      "Classification tree:\n",
      "rpart(formula = medv1 ~ ., data = train, method = \"class\")\n",
      "\n",
      "Variables actually used in tree construction:\n",
      "[1] dis     lstat   ptratio rm     \n",
      "\n",
      "Root node error: 126/308 = 0.40909\n",
      "\n",
      "n= 308 \n",
      "\n",
      "        CP nsplit rel error  xerror     xstd\n",
      "1 0.682540      0   1.00000 1.00000 0.068482\n",
      "2 0.027778      1   0.31746 0.35714 0.049197\n",
      "3 0.023810      3   0.26190 0.34127 0.048274\n",
      "4 0.010000      4   0.23810 0.37302 0.050087\n"
     ]
    }
   ],
   "source": [
    "printcp(tree)"
   ]
  },
  {
   "cell_type": "code",
   "execution_count": 20,
   "id": "33289102-1238-49d0-9e80-d28c6a643e09",
   "metadata": {},
   "outputs": [
    {
     "name": "stdout",
     "output_type": "stream",
     "text": [
      "\n",
      "Classification tree:\n",
      "rpart(formula = medv1 ~ ., data = train, method = \"class\")\n",
      "\n",
      "Variables actually used in tree construction:\n",
      "[1] lstat\n",
      "\n",
      "Root node error: 126/308 = 0.40909\n",
      "\n",
      "n= 308 \n",
      "\n",
      "       CP nsplit rel error  xerror     xstd\n",
      "1 0.68254      0   1.00000 1.00000 0.068482\n",
      "2 0.03000      1   0.31746 0.35714 0.049197\n"
     ]
    },
    {
     "data": {
      "image/png": "[encoded data removed]",
      "text/plain": [
       "plot without title"
      ]
     },
     "metadata": {
      "image/png": {
       "height": 420,
       "width": 420
      }
     },
     "output_type": "display_data"
    }
   ],
   "source": [
    " #cp=0.03으로 가지치기기\n",
    "pruned_tree=prune(tree,cp=0.03)\n",
    "rpart.plot(pruned_tree)  #분기가 1번 일어남\n",
    "printcp(pruned_tree) #cp값이 작을수록 좋음, medv1의 분류에 Istat 예측변수만 사용되었다."
   ]
  },
  {
   "cell_type": "code",
   "execution_count": 21,
   "id": "a99f13af-d5bd-460e-a262-43c78c401b62",
   "metadata": {},
   "outputs": [
    {
     "name": "stdout",
     "output_type": "stream",
     "text": [
      "   test_y\n",
      "pre   0   1\n",
      "  0  64  13\n",
      "  1  20 101\n"
     ]
    }
   ],
   "source": [
    "#가지치기 전 나무모델 예측\n",
    "pre=predict(tree,test_x,type=\"class\")\n",
    "t=table(pre,test_y)\n",
    "print(t)"
   ]
  },
  {
   "cell_type": "code",
   "execution_count": 22,
   "id": "22262605-bc70-459a-975c-171bbdf830b1",
   "metadata": {},
   "outputs": [
    {
     "data": {
      "text/html": [
       "0.834710743801653"
      ],
      "text/latex": [
       "0.834710743801653"
      ],
      "text/markdown": [
       "0.834710743801653"
      ],
      "text/plain": [
       "[1] 0.8347107"
      ]
     },
     "metadata": {},
     "output_type": "display_data"
    }
   ],
   "source": [
    "#민감도\n",
    "t[2,2]/(t[2,1]+t[2,2])"
   ]
  },
  {
   "cell_type": "code",
   "execution_count": 23,
   "id": "97d56636-0ebe-40f3-9a93-a0334a3b0ff5",
   "metadata": {},
   "outputs": [
    {
     "data": {
      "text/html": [
       "0.831168831168831"
      ],
      "text/latex": [
       "0.831168831168831"
      ],
      "text/markdown": [
       "0.831168831168831"
      ],
      "text/plain": [
       "[1] 0.8311688"
      ]
     },
     "metadata": {},
     "output_type": "display_data"
    }
   ],
   "source": [
    "#특이도\n",
    "t[1,1]/(t[1,1]+t[1,2])"
   ]
  },
  {
   "cell_type": "code",
   "execution_count": 24,
   "id": "8ed29e7f-c073-4726-bbc0-0712d496d626",
   "metadata": {},
   "outputs": [
    {
     "data": {
      "text/html": [
       "0.833333333333333"
      ],
      "text/latex": [
       "0.833333333333333"
      ],
      "text/markdown": [
       "0.833333333333333"
      ],
      "text/plain": [
       "[1] 0.8333333"
      ]
     },
     "metadata": {},
     "output_type": "display_data"
    }
   ],
   "source": [
    "#정분류율\n",
    "(t[1,1]+t[2,2])/(t[1,1]+t[1,2]+t[2,1]+t[2,2])"
   ]
  },
  {
   "cell_type": "code",
   "execution_count": 25,
   "id": "63a1e41b-eb13-4d4c-a8e1-5e7534145d6e",
   "metadata": {},
   "outputs": [
    {
     "name": "stdout",
     "output_type": "stream",
     "text": [
      "    test_y\n",
      "ppre   0   1\n",
      "   0  59   9\n",
      "   1  25 105\n"
     ]
    }
   ],
   "source": [
    "#가지치기 후 나무모델 예측\n",
    "ppre=predict(pruned_tree,test_x,type=\"class\")\n",
    "t=table(ppre,test_y)\n",
    "print(t)"
   ]
  },
  {
   "cell_type": "code",
   "execution_count": 26,
   "id": "23da8b93-6f24-4ed8-851c-c6e7f8b1167f",
   "metadata": {},
   "outputs": [
    {
     "data": {
      "text/html": [
       "0.807692307692308"
      ],
      "text/latex": [
       "0.807692307692308"
      ],
      "text/markdown": [
       "0.807692307692308"
      ],
      "text/plain": [
       "[1] 0.8076923"
      ]
     },
     "metadata": {},
     "output_type": "display_data"
    }
   ],
   "source": [
    "#민감도\n",
    "t[2,2]/(t[2,1]+t[2,2])"
   ]
  },
  {
   "cell_type": "code",
   "execution_count": 27,
   "id": "60a5bb36-426a-47d8-a91c-79f3632ce3e4",
   "metadata": {},
   "outputs": [
    {
     "data": {
      "text/html": [
       "0.867647058823529"
      ],
      "text/latex": [
       "0.867647058823529"
      ],
      "text/markdown": [
       "0.867647058823529"
      ],
      "text/plain": [
       "[1] 0.8676471"
      ]
     },
     "metadata": {},
     "output_type": "display_data"
    }
   ],
   "source": [
    "#특이도\n",
    "t[1,1]/(t[1,1]+t[1,2])"
   ]
  },
  {
   "cell_type": "code",
   "execution_count": 28,
   "id": "82f0e9fe-75c5-4438-a9df-80f22feaf41f",
   "metadata": {},
   "outputs": [
    {
     "data": {
      "text/html": [
       "0.828282828282828"
      ],
      "text/latex": [
       "0.828282828282828"
      ],
      "text/markdown": [
       "0.828282828282828"
      ],
      "text/plain": [
       "[1] 0.8282828"
      ]
     },
     "metadata": {},
     "output_type": "display_data"
    }
   ],
   "source": [
    "#정분류율\n",
    "(t[1,1]+t[2,2])/(t[1,1]+t[1,2]+t[2,1]+t[2,2])"
   ]
  },
  {
   "cell_type": "code",
   "execution_count": 29,
   "id": "5864ea03-4219-4509-aeb7-703d2607cd71",
   "metadata": {},
   "outputs": [],
   "source": [
    "#혼동행렬 시각화\n",
    "library(ggplot2)"
   ]
  },
  {
   "cell_type": "code",
   "execution_count": 30,
   "id": "35adb40f-3de3-4b33-adf7-86fccc8ee0e7",
   "metadata": {},
   "outputs": [
    {
     "data": {
      "image/png": "[encoded data removed]",
      "text/plain": [
       "plot without title"
      ]
     },
     "metadata": {
      "image/png": {
       "height": 420,
       "width": 420
      }
     },
     "output_type": "display_data"
    }
   ],
   "source": [
    "ggplot(test, aes(medv1, pre, color = medv1)) +\n",
    "   geom_jitter(width = 0.2, height = 0.1, size=2) +\n",
    "     labs(title=\"가지치기 전 Confusion Matrix\", \n",
    "                 subtitle=\"Predicted vs. Observed from Iris dataset\", \n",
    "               y=\"Predicted\", \n",
    "                x=\"Truth\")"
   ]
  },
  {
   "cell_type": "code",
   "execution_count": 31,
   "id": "3d0b42e9-2390-4452-a86e-06d7277c2c9a",
   "metadata": {},
   "outputs": [
    {
     "data": {
      "image/png": "[encoded data removed]",
      "text/plain": [
       "plot without title"
      ]
     },
     "metadata": {
      "image/png": {
       "height": 420,
       "width": 420
      }
     },
     "output_type": "display_data"
    }
   ],
   "source": [
    "ggplot(test, aes(medv1, ppre, color = medv1)) +\n",
    "   geom_jitter(width = 0.2, height = 0.1, size=2) +\n",
    "     labs(title=\"가지치기 후 Confusion Matrix\", \n",
    "                 subtitle=\"Predicted vs. Observed from Iris dataset\", \n",
    "               y=\"Predicted\", \n",
    "                x=\"Truth\")"
   ]
  },
  {
   "cell_type": "markdown",
   "id": "0b807950-846b-41e4-975b-666cded75d06",
   "metadata": {
    "tags": []
   },
   "source": [
    "#### 가지치기 전 나무 모형과 가지치기 후 나무모형은 민감도와 특이도 측면에서 조금 차이가 있지만, 전체적으로 큰 차이는 없어보임. 다만 해석력의 측면에서는 가지치기 후 모델이 더 좋다."
   ]
  },
  {
   "cell_type": "markdown",
   "id": "7486f195-57a1-4bb4-ae3d-f28ad3416a11",
   "metadata": {},
   "source": [
    "## 서포트 벡터 머신"
   ]
  },
  {
   "cell_type": "code",
   "execution_count": 32,
   "id": "711f380e-eb57-4b7b-a54b-fcb03a4a2c44",
   "metadata": {},
   "outputs": [],
   "source": [
    "#패키지 부착\n",
    "library(e1071)"
   ]
  },
  {
   "cell_type": "code",
   "execution_count": 33,
   "id": "ed104bf8-5855-45e8-815d-2d60720a728e",
   "metadata": {},
   "outputs": [
    {
     "data": {
      "text/plain": [
       "\n",
       "Call:\n",
       "svm(formula = medv1 ~ ., data = train, type = \"C-classification\", \n",
       "    gamma = 1)\n",
       "\n",
       "\n",
       "Parameters:\n",
       "   SVM-Type:  C-classification \n",
       " SVM-Kernel:  radial \n",
       "       cost:  1 \n",
       "\n",
       "Number of Support Vectors:  246\n",
       "\n",
       " ( 152 94 )\n",
       "\n",
       "\n",
       "Number of Classes:  2 \n",
       "\n",
       "Levels: \n",
       " 0 1\n",
       "\n",
       "\n"
      ]
     },
     "metadata": {},
     "output_type": "display_data"
    }
   ],
   "source": [
    "#모델 적합\n",
    "sv <- svm(medv1 ~., data = train, type = \"C-classification\",gamma=1 )\n",
    "summary(sv)"
   ]
  },
  {
   "cell_type": "code",
   "execution_count": 34,
   "id": "1b29fba6-c05d-40a8-9a22-07200c19bb85",
   "metadata": {},
   "outputs": [],
   "source": [
    "# svm 모델로 medv1 예측\n",
    "pre=predict(sv,test_x)\n",
    "t=table(pre,test_y)"
   ]
  },
  {
   "cell_type": "code",
   "execution_count": 35,
   "id": "28bf5588-762f-4446-a4b6-7b266020472d",
   "metadata": {},
   "outputs": [
    {
     "data": {
      "text/html": [
       "0.830769230769231"
      ],
      "text/latex": [
       "0.830769230769231"
      ],
      "text/markdown": [
       "0.830769230769231"
      ],
      "text/plain": [
       "[1] 0.8307692"
      ]
     },
     "metadata": {},
     "output_type": "display_data"
    }
   ],
   "source": [
    "#민감도\n",
    "t[2,2]/(t[2,1]+t[2,2])"
   ]
  },
  {
   "cell_type": "code",
   "execution_count": 36,
   "id": "740028ae-5bba-440c-9a16-0934d198f0d2",
   "metadata": {},
   "outputs": [
    {
     "data": {
      "text/html": [
       "0.911764705882353"
      ],
      "text/latex": [
       "0.911764705882353"
      ],
      "text/markdown": [
       "0.911764705882353"
      ],
      "text/plain": [
       "[1] 0.9117647"
      ]
     },
     "metadata": {},
     "output_type": "display_data"
    }
   ],
   "source": [
    "#특이도\n",
    "t[1,1]/(t[1,1]+t[1,2])"
   ]
  },
  {
   "cell_type": "code",
   "execution_count": 37,
   "id": "e5dfda38-23f2-426b-af7f-ac523b137134",
   "metadata": {},
   "outputs": [
    {
     "data": {
      "text/html": [
       "0.858585858585859"
      ],
      "text/latex": [
       "0.858585858585859"
      ],
      "text/markdown": [
       "0.858585858585859"
      ],
      "text/plain": [
       "[1] 0.8585859"
      ]
     },
     "metadata": {},
     "output_type": "display_data"
    }
   ],
   "source": [
    "#정분류율\n",
    "(t[1,1]+t[2,2])/(t[1,1]+t[1,2]+t[2,1]+t[2,2])"
   ]
  },
  {
   "cell_type": "code",
   "execution_count": 38,
   "id": "6c3209aa-d118-4fcb-b6f0-4ab91e78ada9",
   "metadata": {},
   "outputs": [
    {
     "data": {
      "text/plain": [
       "\n",
       "Parameter tuning of 'svm':\n",
       "\n",
       "- sampling method: 10-fold cross validation \n",
       "\n",
       "- best parameters:\n",
       " cost gamma\n",
       "   10   0.5\n",
       "\n",
       "- best performance: 0.1234409 \n",
       "\n",
       "- Detailed performance results:\n",
       "    cost gamma     error dispersion\n",
       "1  1e-01   0.5 0.2952688 0.05480286\n",
       "2  1e+00   0.5 0.1654839 0.06920524\n",
       "3  1e+01   0.5 0.1234409 0.05916650\n",
       "4  1e+02   0.5 0.1494624 0.06445437\n",
       "5  1e+03   0.5 0.1494624 0.06445437\n",
       "6  1e-01   1.0 0.3602151 0.06428873\n",
       "7  1e+00   1.0 0.1847312 0.08220131\n",
       "8  1e+01   1.0 0.1654839 0.06751389\n",
       "9  1e+02   1.0 0.1653763 0.05975632\n",
       "10 1e+03   1.0 0.1653763 0.05975632\n",
       "11 1e-01   2.0 0.4054839 0.07916272\n",
       "12 1e+00   2.0 0.2403226 0.05115601\n",
       "13 1e+01   2.0 0.2079570 0.07417744\n",
       "14 1e+02   2.0 0.2079570 0.07417744\n",
       "15 1e+03   2.0 0.2079570 0.07417744\n",
       "16 1e-01   3.0 0.4087097 0.07446654\n",
       "17 1e+00   3.0 0.2794624 0.06777976\n",
       "18 1e+01   3.0 0.2469892 0.06933803\n",
       "19 1e+02   3.0 0.2469892 0.06933803\n",
       "20 1e+03   3.0 0.2469892 0.06933803\n",
       "21 1e-01   4.0 0.4087097 0.07446654\n",
       "22 1e+00   4.0 0.2891398 0.08592356\n",
       "23 1e+01   4.0 0.2762366 0.07446654\n",
       "24 1e+02   4.0 0.2762366 0.07446654\n",
       "25 1e+03   4.0 0.2762366 0.07446654\n"
      ]
     },
     "metadata": {},
     "output_type": "display_data"
    }
   ],
   "source": [
    "#최선의 tunning parameter 선택을 위한 cross-validation 실시\n",
    "set.seed(1)\n",
    "tune.out <- tune(svm, medv1 ~ ., data = train, \n",
    "                 ranges = list(\n",
    "                   cost = c(0.1, 1, 10, 100, 1000),\n",
    "                   gamma = c(0.5, 1, 2, 3, 4) ))\n",
    "summary(tune.out)"
   ]
  },
  {
   "cell_type": "code",
   "execution_count": 39,
   "id": "25331df4-7fa0-450f-b252-4bdc7beb3c53",
   "metadata": {},
   "outputs": [
    {
     "name": "stdout",
     "output_type": "stream",
     "text": [
      "    pred\n",
      "true   0   1\n",
      "   0  66  18\n",
      "   1   9 105\n"
     ]
    }
   ],
   "source": [
    "t=table( true = test_y,  pred = predict( tune.out$best.model, newdata = test_x ))\n",
    "print(t)"
   ]
  },
  {
   "cell_type": "code",
   "execution_count": 40,
   "id": "22ab02e9-87d2-45d3-b89b-116392fb60c2",
   "metadata": {},
   "outputs": [
    {
     "data": {
      "text/html": [
       "0.921052631578947"
      ],
      "text/latex": [
       "0.921052631578947"
      ],
      "text/markdown": [
       "0.921052631578947"
      ],
      "text/plain": [
       "[1] 0.9210526"
      ]
     },
     "metadata": {},
     "output_type": "display_data"
    }
   ],
   "source": [
    "#민감도\n",
    "t[2,2]/(t[2,1]+t[2,2])"
   ]
  },
  {
   "cell_type": "code",
   "execution_count": 41,
   "id": "dc5d49ae-80d8-4868-a7a1-a5175a875c62",
   "metadata": {},
   "outputs": [
    {
     "data": {
      "text/html": [
       "0.785714285714286"
      ],
      "text/latex": [
       "0.785714285714286"
      ],
      "text/markdown": [
       "0.785714285714286"
      ],
      "text/plain": [
       "[1] 0.7857143"
      ]
     },
     "metadata": {},
     "output_type": "display_data"
    }
   ],
   "source": [
    "#특이도\n",
    "t[1,1]/(t[1,1]+t[1,2])"
   ]
  },
  {
   "cell_type": "code",
   "execution_count": 42,
   "id": "769c6059-bdc2-41f9-b103-9c3490fc11f0",
   "metadata": {},
   "outputs": [
    {
     "data": {
      "text/html": [
       "0.863636363636364"
      ],
      "text/latex": [
       "0.863636363636364"
      ],
      "text/markdown": [
       "0.863636363636364"
      ],
      "text/plain": [
       "[1] 0.8636364"
      ]
     },
     "metadata": {},
     "output_type": "display_data"
    }
   ],
   "source": [
    "#정분류율\n",
    "(t[1,1]+t[2,2])/(t[1,1]+t[1,2]+t[2,1]+t[2,2])"
   ]
  },
  {
   "cell_type": "markdown",
   "id": "51d53acd-7a59-4710-86bf-d9ea802b0eab",
   "metadata": {},
   "source": [
    "### 부스팅"
   ]
  },
  {
   "cell_type": "code",
   "execution_count": 43,
   "id": "9a6ab5ff-1c61-4a54-957a-ae73827acebe",
   "metadata": {},
   "outputs": [
    {
     "name": "stderr",
     "output_type": "stream",
     "text": [
      "Loaded gbm 2.1.8\n",
      "\n"
     ]
    }
   ],
   "source": [
    "library(gbm)"
   ]
  },
  {
   "cell_type": "code",
   "execution_count": 44,
   "id": "e240699b-5c05-4a17-a4ae-396ae746da9d",
   "metadata": {},
   "outputs": [],
   "source": [
    "boost<- gbm(medv1 ~ ., data = train,\n",
    "    distribution = \"bernoulli\", n.trees = 5000 , #n.trees=B \n",
    "    interaction.depth = 4) # depth = d, shrinkage=0.001"
   ]
  },
  {
   "cell_type": "code",
   "execution_count": 45,
   "id": "e012c367-c293-4474-b79d-9ebcbdf81b11",
   "metadata": {},
   "outputs": [
    {
     "name": "stderr",
     "output_type": "stream",
     "text": [
      "Warning message in min(x):\n",
      "\"min에 전달되는 인자들 중 누락이 있어 Inf를 반환합니다\"\n",
      "Warning message in max(x):\n",
      "\"max에 전달되는 인자들 중 누락이 있어 -Inf를 반환합니다\"\n"
     ]
    },
    {
     "ename": "ERROR",
     "evalue": "Error in plot.window(xlim, ylim, log = log, ...): 유한한 값들만이 'xlim'에 사용될 수 있습니다\n",
     "output_type": "error",
     "traceback": [
      "Error in plot.window(xlim, ylim, log = log, ...): 유한한 값들만이 'xlim'에 사용될 수 있습니다\nTraceback:\n",
      "1. summary(boost)",
      "2. summary.gbm(boost)",
      "3. barplot(rel.inf[i[cBars:1]], horiz = TRUE, col = rainbow(cBars, \n .     start = 3/6, end = 4/6), names = object$var.names[i[cBars:1]], \n .     xlab = \"Relative influence\", ...)",
      "4. barplot.default(rel.inf[i[cBars:1]], horiz = TRUE, col = rainbow(cBars, \n .     start = 3/6, end = 4/6), names = object$var.names[i[cBars:1]], \n .     xlab = \"Relative influence\", ...)",
      "5. plot.window(xlim, ylim, log = log, ...)"
     ]
    },
    {
     "data": {
      "image/png": "[encoded data removed]",
      "text/plain": [
       "plot without title"
      ]
     },
     "metadata": {
      "image/png": {
       "height": 420,
       "width": 420
      }
     },
     "output_type": "display_data"
    }
   ],
   "source": [
    "summary(boost) # distribution = \"bernoulli\" 로 주면 오류 발생"
   ]
  },
  {
   "cell_type": "code",
   "execution_count": null,
   "id": "f74a717a-7cf1-4b1f-8e43-19568764edd2",
   "metadata": {},
   "outputs": [],
   "source": [
    "boost <- gbm(medv1 ~ ., data = train,\n",
    "    distribution = \"gaussian\", n.trees = 5000 , #n.trees=B \n",
    "    interaction.depth = 4) # depth = d, shrinkage=0.001\n",
    "summary(boost)"
   ]
  },
  {
   "cell_type": "markdown",
   "id": "a95b1201-d521-42da-8de5-b994af564913",
   "metadata": {},
   "source": [
    "#### rm 과 Istat 변수가 medv1에 대해 가장 높은 영향력을 가짐"
   ]
  },
  {
   "cell_type": "code",
   "execution_count": null,
   "id": "90d09915-a87b-4508-b8c8-0514ff8c6935",
   "metadata": {},
   "outputs": [],
   "source": [
    "par(mfrow=c(1,2))\n",
    "plot(boost.boston,i=\"rm\") #rm이 커짐에 따라 증가\n",
    "plot(boost.boston,i=\"lstat\") #Istat에 따라 감소"
   ]
  },
  {
   "cell_type": "code",
   "execution_count": null,
   "id": "9f0f58bb-f497-46f5-8739-be0494512373",
   "metadata": {},
   "outputs": [],
   "source": [
    "pre<-predict(boost,newdata=test_x,n.trees=5000)\n",
    "head(pre) #연속형 변수로 나옴"
   ]
  },
  {
   "cell_type": "code",
   "execution_count": 265,
   "id": "15a90a22-f498-4719-b426-c2c197738e68",
   "metadata": {},
   "outputs": [
    {
     "name": "stdout",
     "output_type": "stream",
     "text": [
      "[1] 0.691191 2.345325\n"
     ]
    }
   ],
   "source": [
    "r=range(pre) #구간별로 기준을 세워 원래 범주형 변수로 변환\n",
    "print(r)"
   ]
  },
  {
   "cell_type": "code",
   "execution_count": 261,
   "id": "3cd8ecbd-c86a-4307-88e2-09e08f29398d",
   "metadata": {},
   "outputs": [
    {
     "data": {
      "text/html": [
       "1.51825813019141"
      ],
      "text/latex": [
       "1.51825813019141"
      ],
      "text/markdown": [
       "1.51825813019141"
      ],
      "text/plain": [
       "[1] 1.518258"
      ]
     },
     "metadata": {},
     "output_type": "display_data"
    }
   ],
   "source": [
    "r[1]+((r[2]-r[1])/2) # 1.5를 기준"
   ]
  },
  {
   "cell_type": "code",
   "execution_count": 262,
   "id": "768c1f6f-28f7-4825-90a8-5efbafb65ab3",
   "metadata": {},
   "outputs": [
    {
     "name": "stdout",
     "output_type": "stream",
     "text": [
      "   test_y\n",
      "pre   0   1\n",
      "  0  66   8\n",
      "  1  18 106\n"
     ]
    }
   ],
   "source": [
    "# 부스팅 모델로 medv1 을 예측\n",
    "pre=ifelse(pre<=1.5,0,1)\n",
    "t=table(pre,test_y)\n",
    "print(t)"
   ]
  },
  {
   "cell_type": "code",
   "execution_count": 255,
   "id": "0c700b44-5a1b-4b73-a9b0-2aa42ba3009c",
   "metadata": {},
   "outputs": [
    {
     "data": {
      "text/html": [
       "0.854838709677419"
      ],
      "text/latex": [
       "0.854838709677419"
      ],
      "text/markdown": [
       "0.854838709677419"
      ],
      "text/plain": [
       "[1] 0.8548387"
      ]
     },
     "metadata": {},
     "output_type": "display_data"
    }
   ],
   "source": [
    "#민감도\n",
    "t[2,2]/(t[2,1]+t[2,2])"
   ]
  },
  {
   "cell_type": "code",
   "execution_count": 256,
   "id": "4b718784-0721-4755-b319-97dc6a469248",
   "metadata": {},
   "outputs": [
    {
     "data": {
      "text/html": [
       "0.891891891891892"
      ],
      "text/latex": [
       "0.891891891891892"
      ],
      "text/markdown": [
       "0.891891891891892"
      ],
      "text/plain": [
       "[1] 0.8918919"
      ]
     },
     "metadata": {},
     "output_type": "display_data"
    }
   ],
   "source": [
    "#특이도\n",
    "t[1,1]/(t[1,1]+t[1,2])"
   ]
  },
  {
   "cell_type": "code",
   "execution_count": 257,
   "id": "71036b49-31a1-435c-88e9-5480b38bfdec",
   "metadata": {},
   "outputs": [
    {
     "data": {
      "text/html": [
       "0.868686868686869"
      ],
      "text/latex": [
       "0.868686868686869"
      ],
      "text/markdown": [
       "0.868686868686869"
      ],
      "text/plain": [
       "[1] 0.8686869"
      ]
     },
     "metadata": {},
     "output_type": "display_data"
    }
   ],
   "source": [
    "#정분류율\n",
    "(t[1,1]+t[2,2])/(t[1,1]+t[1,2]+t[2,1]+t[2,2])"
   ]
  },
  {
   "cell_type": "markdown",
   "id": "a7262d69-5ba2-4a08-9fb4-599d65cfbe95",
   "metadata": {},
   "source": [
    "#### 정분류율을 예측성능 척도로 봤을 때 가장 우수한 모델은 boosting 모델이었고, 민감도를 예측성능으로 봤을 때 가장 우수한 모델은 support vector machine이었다."
   ]
  },
  {
   "cell_type": "code",
   "execution_count": null,
   "id": "abdca051-bf07-4694-a51b-f3611df8359e",
   "metadata": {},
   "outputs": [],
   "source": []
  }
 ],
 "metadata": {
  "kernelspec": {
   "display_name": "R",
   "language": "R",
   "name": "ir"
  },
  "language_info": {
   "codemirror_mode": "r",
   "file_extension": ".r",
   "mimetype": "text/x-r-source",
   "name": "R",
   "pygments_lexer": "r",
   "version": "4.0.5"
  }
 },
 "nbformat": 4,
 "nbformat_minor": 5
}
