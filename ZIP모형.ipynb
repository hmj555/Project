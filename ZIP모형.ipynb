{
 "cells": [
  {
   "cell_type": "markdown",
   "id": "5a307c1b-c2fd-4381-9a7c-516c4497b603",
   "metadata": {
    "tags": []
   },
   "source": [
    "# 응용통계학 과제 : ZIP \n",
    "## <div style=\"text-align: right\"> 201822037 한민주 </div>"
   ]
  },
  {
   "cell_type": "markdown",
   "id": "e74a3612-9399-4dc8-9459-3e4e1902cd02",
   "metadata": {},
   "source": [
    "## Packages"
   ]
  },
  {
   "cell_type": "code",
   "execution_count": 10,
   "id": "92b04122-9e3f-4126-a2d8-490d5282d365",
   "metadata": {},
   "outputs": [
    {
     "name": "stderr",
     "output_type": "stream",
     "text": [
      "Classes and Methods for R developed in the\n",
      "Political Science Computational Laboratory\n",
      "Department of Political Science\n",
      "Stanford University\n",
      "Simon Jackman\n",
      "hurdle and zeroinfl functions by Achim Zeileis\n",
      "\n"
     ]
    }
   ],
   "source": [
    "library(tidyverse)\n",
    "library(gridExtra)\n",
    "library(pscl)"
   ]
  },
  {
   "cell_type": "markdown",
   "id": "9c096f63-91b6-434e-9c56-c1ce75e83a1d",
   "metadata": {},
   "source": [
    "## 데이터 불러오기 : fish"
   ]
  },
  {
   "cell_type": "code",
   "execution_count": 1,
   "id": "59c35c9f-de12-414c-91c5-dac12dd63baf",
   "metadata": {},
   "outputs": [],
   "source": [
    "fish = read.csv(\"fish2.csv\")"
   ]
  },
  {
   "cell_type": "code",
   "execution_count": 5,
   "id": "68e0557c-183e-4899-8dec-2f50c05a52f4",
   "metadata": {},
   "outputs": [
    {
     "name": "stdout",
     "output_type": "stream",
     "text": [
      "Rows: 250\n",
      "Columns: 5\n",
      "$ camper  \u001b[3m\u001b[90m<int>\u001b[39m\u001b[23m 0, 1, 0, 1, 0, 1, 0, 0, 1, 1, 0, 1, 0, 0, 1, 1, 0, 1, 1, 0, 0,~\n",
      "$ persons \u001b[3m\u001b[90m<int>\u001b[39m\u001b[23m 1, 1, 1, 2, 1, 4, 3, 4, 3, 1, 4, 3, 3, 3, 1, 1, 4, 3, 2, 3, 4,~\n",
      "$ child   \u001b[3m\u001b[90m<int>\u001b[39m\u001b[23m 0, 0, 0, 1, 0, 2, 1, 3, 2, 0, 1, 2, 0, 0, 0, 0, 1, 2, 1, 1, 1,~\n",
      "$ count   \u001b[3m\u001b[90m<int>\u001b[39m\u001b[23m 0, 0, 0, 0, 1, 0, 0, 0, 0, 1, 0, 0, 1, 2, 0, 1, 0, 0, 1, 0, 1,~\n",
      "$ LOS     \u001b[3m\u001b[90m<dbl>\u001b[39m\u001b[23m 3.0, 3.0, 3.0, 3.0, 3.4, 3.0, 3.0, 3.0, 3.0, 3.1, 3.0, 3.0, 3.~\n"
     ]
    }
   ],
   "source": [
    "fish %>% glimpse"
   ]
  },
  {
   "cell_type": "markdown",
   "id": "ca21d6ce-df89-4f16-83e5-928b02033a46",
   "metadata": {},
   "source": [
    "|변수 |설명 |\n",
    "|---|---|\n",
    "| count | 잡은 물고기 수 | \n",
    "|child | 그룹 당 아이들의 수|\n",
    "|persons | 그룹 당 사람 수 |\n",
    "|camper | 공원에서 야영 여부 |\n",
    "|LOS | 공원에서 체류 시간|"
   ]
  },
  {
   "cell_type": "markdown",
   "id": "19e06a56-93ca-48b1-acdd-412ce0195b69",
   "metadata": {
    "tags": []
   },
   "source": [
    "## 탐색적 자료 분석"
   ]
  },
  {
   "cell_type": "code",
   "execution_count": 16,
   "id": "8eb2979a-eb50-43dc-9351-ef1605c89159",
   "metadata": {},
   "outputs": [
    {
     "data": {
      "text/html": [
       "<table class=\"dataframe\">\n",
       "<caption>A tibble: 25 × 3</caption>\n",
       "<thead>\n",
       "\t<tr><th scope=col>count</th><th scope=col>n</th><th scope=col>prop</th></tr>\n",
       "\t<tr><th scope=col>&lt;int&gt;</th><th scope=col>&lt;int&gt;</th><th scope=col>&lt;dbl&gt;</th></tr>\n",
       "</thead>\n",
       "<tbody>\n",
       "\t<tr><td>  0</td><td>142</td><td>0.568</td></tr>\n",
       "\t<tr><td>  1</td><td> 31</td><td>0.124</td></tr>\n",
       "\t<tr><td>  2</td><td> 20</td><td>0.080</td></tr>\n",
       "\t<tr><td>  3</td><td> 12</td><td>0.048</td></tr>\n",
       "\t<tr><td>  4</td><td>  6</td><td>0.024</td></tr>\n",
       "\t<tr><td>  5</td><td> 10</td><td>0.040</td></tr>\n",
       "\t<tr><td>  6</td><td>  4</td><td>0.016</td></tr>\n",
       "\t<tr><td>  7</td><td>  3</td><td>0.012</td></tr>\n",
       "\t<tr><td>  8</td><td>  2</td><td>0.008</td></tr>\n",
       "\t<tr><td>  9</td><td>  2</td><td>0.008</td></tr>\n",
       "\t<tr><td> 10</td><td>  1</td><td>0.004</td></tr>\n",
       "\t<tr><td> 11</td><td>  1</td><td>0.004</td></tr>\n",
       "\t<tr><td> 13</td><td>  1</td><td>0.004</td></tr>\n",
       "\t<tr><td> 14</td><td>  1</td><td>0.004</td></tr>\n",
       "\t<tr><td> 15</td><td>  2</td><td>0.008</td></tr>\n",
       "\t<tr><td> 16</td><td>  1</td><td>0.004</td></tr>\n",
       "\t<tr><td> 21</td><td>  2</td><td>0.008</td></tr>\n",
       "\t<tr><td> 22</td><td>  1</td><td>0.004</td></tr>\n",
       "\t<tr><td> 29</td><td>  1</td><td>0.004</td></tr>\n",
       "\t<tr><td> 30</td><td>  1</td><td>0.004</td></tr>\n",
       "\t<tr><td> 31</td><td>  1</td><td>0.004</td></tr>\n",
       "\t<tr><td> 32</td><td>  2</td><td>0.008</td></tr>\n",
       "\t<tr><td> 38</td><td>  1</td><td>0.004</td></tr>\n",
       "\t<tr><td> 65</td><td>  1</td><td>0.004</td></tr>\n",
       "\t<tr><td>149</td><td>  1</td><td>0.004</td></tr>\n",
       "</tbody>\n",
       "</table>\n"
      ],
      "text/latex": [
       "A tibble: 25 × 3\n",
       "\\begin{tabular}{lll}\n",
       " count & n & prop\\\\\n",
       " <int> & <int> & <dbl>\\\\\n",
       "\\hline\n",
       "\t   0 & 142 & 0.568\\\\\n",
       "\t   1 &  31 & 0.124\\\\\n",
       "\t   2 &  20 & 0.080\\\\\n",
       "\t   3 &  12 & 0.048\\\\\n",
       "\t   4 &   6 & 0.024\\\\\n",
       "\t   5 &  10 & 0.040\\\\\n",
       "\t   6 &   4 & 0.016\\\\\n",
       "\t   7 &   3 & 0.012\\\\\n",
       "\t   8 &   2 & 0.008\\\\\n",
       "\t   9 &   2 & 0.008\\\\\n",
       "\t  10 &   1 & 0.004\\\\\n",
       "\t  11 &   1 & 0.004\\\\\n",
       "\t  13 &   1 & 0.004\\\\\n",
       "\t  14 &   1 & 0.004\\\\\n",
       "\t  15 &   2 & 0.008\\\\\n",
       "\t  16 &   1 & 0.004\\\\\n",
       "\t  21 &   2 & 0.008\\\\\n",
       "\t  22 &   1 & 0.004\\\\\n",
       "\t  29 &   1 & 0.004\\\\\n",
       "\t  30 &   1 & 0.004\\\\\n",
       "\t  31 &   1 & 0.004\\\\\n",
       "\t  32 &   2 & 0.008\\\\\n",
       "\t  38 &   1 & 0.004\\\\\n",
       "\t  65 &   1 & 0.004\\\\\n",
       "\t 149 &   1 & 0.004\\\\\n",
       "\\end{tabular}\n"
      ],
      "text/markdown": [
       "\n",
       "A tibble: 25 × 3\n",
       "\n",
       "| count &lt;int&gt; | n &lt;int&gt; | prop &lt;dbl&gt; |\n",
       "|---|---|---|\n",
       "|   0 | 142 | 0.568 |\n",
       "|   1 |  31 | 0.124 |\n",
       "|   2 |  20 | 0.080 |\n",
       "|   3 |  12 | 0.048 |\n",
       "|   4 |   6 | 0.024 |\n",
       "|   5 |  10 | 0.040 |\n",
       "|   6 |   4 | 0.016 |\n",
       "|   7 |   3 | 0.012 |\n",
       "|   8 |   2 | 0.008 |\n",
       "|   9 |   2 | 0.008 |\n",
       "|  10 |   1 | 0.004 |\n",
       "|  11 |   1 | 0.004 |\n",
       "|  13 |   1 | 0.004 |\n",
       "|  14 |   1 | 0.004 |\n",
       "|  15 |   2 | 0.008 |\n",
       "|  16 |   1 | 0.004 |\n",
       "|  21 |   2 | 0.008 |\n",
       "|  22 |   1 | 0.004 |\n",
       "|  29 |   1 | 0.004 |\n",
       "|  30 |   1 | 0.004 |\n",
       "|  31 |   1 | 0.004 |\n",
       "|  32 |   2 | 0.008 |\n",
       "|  38 |   1 | 0.004 |\n",
       "|  65 |   1 | 0.004 |\n",
       "| 149 |   1 | 0.004 |\n",
       "\n"
      ],
      "text/plain": [
       "   count n   prop \n",
       "1    0   142 0.568\n",
       "2    1    31 0.124\n",
       "3    2    20 0.080\n",
       "4    3    12 0.048\n",
       "5    4     6 0.024\n",
       "6    5    10 0.040\n",
       "7    6     4 0.016\n",
       "8    7     3 0.012\n",
       "9    8     2 0.008\n",
       "10   9     2 0.008\n",
       "11  10     1 0.004\n",
       "12  11     1 0.004\n",
       "13  13     1 0.004\n",
       "14  14     1 0.004\n",
       "15  15     2 0.008\n",
       "16  16     1 0.004\n",
       "17  21     2 0.008\n",
       "18  22     1 0.004\n",
       "19  29     1 0.004\n",
       "20  30     1 0.004\n",
       "21  31     1 0.004\n",
       "22  32     2 0.008\n",
       "23  38     1 0.004\n",
       "24  65     1 0.004\n",
       "25 149     1 0.004"
      ]
     },
     "metadata": {},
     "output_type": "display_data"
    },
    {
     "name": "stdout",
     "output_type": "stream",
     "text": [
      "  lambda max\n",
      "1  3.296 149\n"
     ]
    }
   ],
   "source": [
    "count.table = tally(group_by(fish , count)) %>% mutate(prop = n/sum(n))\n",
    "count.table\n",
    "\n",
    "print(fish %>% summarise(lambda = mean(count) , max = max(count)))"
   ]
  },
  {
   "cell_type": "markdown",
   "id": "8214d0df-36e8-46cb-82ba-9c7e3ceb0904",
   "metadata": {},
   "source": [
    "- 물고기를 한 마리도 잡지 못한 그룹이 56.8%임\n",
    "- `count`의 평균은 3.296 , 최대값은 149"
   ]
  },
  {
   "cell_type": "code",
   "execution_count": 19,
   "id": "fb1c0b9a-b193-428a-8ee4-942e16cb4e44",
   "metadata": {},
   "outputs": [
    {
     "data": {
      "text/html": [
       "<table class=\"dataframe\">\n",
       "<caption>A tibble: 4 × 3</caption>\n",
       "<thead>\n",
       "\t<tr><th scope=col>persons</th><th scope=col>n</th><th scope=col>prop</th></tr>\n",
       "\t<tr><th scope=col>&lt;int&gt;</th><th scope=col>&lt;int&gt;</th><th scope=col>&lt;dbl&gt;</th></tr>\n",
       "</thead>\n",
       "<tbody>\n",
       "\t<tr><td>1</td><td>57</td><td>0.228</td></tr>\n",
       "\t<tr><td>2</td><td>70</td><td>0.280</td></tr>\n",
       "\t<tr><td>3</td><td>57</td><td>0.228</td></tr>\n",
       "\t<tr><td>4</td><td>66</td><td>0.264</td></tr>\n",
       "</tbody>\n",
       "</table>\n"
      ],
      "text/latex": [
       "A tibble: 4 × 3\n",
       "\\begin{tabular}{lll}\n",
       " persons & n & prop\\\\\n",
       " <int> & <int> & <dbl>\\\\\n",
       "\\hline\n",
       "\t 1 & 57 & 0.228\\\\\n",
       "\t 2 & 70 & 0.280\\\\\n",
       "\t 3 & 57 & 0.228\\\\\n",
       "\t 4 & 66 & 0.264\\\\\n",
       "\\end{tabular}\n"
      ],
      "text/markdown": [
       "\n",
       "A tibble: 4 × 3\n",
       "\n",
       "| persons &lt;int&gt; | n &lt;int&gt; | prop &lt;dbl&gt; |\n",
       "|---|---|---|\n",
       "| 1 | 57 | 0.228 |\n",
       "| 2 | 70 | 0.280 |\n",
       "| 3 | 57 | 0.228 |\n",
       "| 4 | 66 | 0.264 |\n",
       "\n"
      ],
      "text/plain": [
       "  persons n  prop \n",
       "1 1       57 0.228\n",
       "2 2       70 0.280\n",
       "3 3       57 0.228\n",
       "4 4       66 0.264"
      ]
     },
     "metadata": {},
     "output_type": "display_data"
    }
   ],
   "source": [
    "persons.table = tally(group_by(fish , persons)) %>% mutate(prop = n/sum(n))\n",
    "persons.table"
   ]
  },
  {
   "cell_type": "code",
   "execution_count": 62,
   "id": "46900689-cf17-4094-a2d2-fe0dbda1f5e7",
   "metadata": {},
   "outputs": [
    {
     "data": {
      "image/png": "[encoded data removed]",
      "text/plain": [
       "plot without title"
      ]
     },
     "metadata": {
      "image/png": {
       "height": 420,
       "width": 420
      }
     },
     "output_type": "display_data"
    }
   ],
   "source": [
    "boxplot(count~persons , data = fish)"
   ]
  },
  {
   "cell_type": "markdown",
   "id": "15657b5e-15a8-44c8-9fe9-7753c0483831",
   "metadata": {},
   "source": [
    "- 그룹 당 사람 수는 1~4명까지 각각 비슷한 비율로 구성되어있음.\n",
    "- 그룹 당 사람 수(persons)에 따른 잡은 물고기 수(count)를 보니 그룹 당 사람 수가 많아질수록 박스의 길이가 길어지는 것처럼 보임"
   ]
  },
  {
   "cell_type": "code",
   "execution_count": 21,
   "id": "576b9d72-c403-498d-86b0-5259d4cf50b0",
   "metadata": {},
   "outputs": [
    {
     "data": {
      "text/html": [
       "<table class=\"dataframe\">\n",
       "<caption>A tibble: 4 × 3</caption>\n",
       "<thead>\n",
       "\t<tr><th scope=col>child</th><th scope=col>n</th><th scope=col>prop</th></tr>\n",
       "\t<tr><th scope=col>&lt;int&gt;</th><th scope=col>&lt;int&gt;</th><th scope=col>&lt;dbl&gt;</th></tr>\n",
       "</thead>\n",
       "<tbody>\n",
       "\t<tr><td>0</td><td>132</td><td>0.528</td></tr>\n",
       "\t<tr><td>1</td><td> 75</td><td>0.300</td></tr>\n",
       "\t<tr><td>2</td><td> 33</td><td>0.132</td></tr>\n",
       "\t<tr><td>3</td><td> 10</td><td>0.040</td></tr>\n",
       "</tbody>\n",
       "</table>\n"
      ],
      "text/latex": [
       "A tibble: 4 × 3\n",
       "\\begin{tabular}{lll}\n",
       " child & n & prop\\\\\n",
       " <int> & <int> & <dbl>\\\\\n",
       "\\hline\n",
       "\t 0 & 132 & 0.528\\\\\n",
       "\t 1 &  75 & 0.300\\\\\n",
       "\t 2 &  33 & 0.132\\\\\n",
       "\t 3 &  10 & 0.040\\\\\n",
       "\\end{tabular}\n"
      ],
      "text/markdown": [
       "\n",
       "A tibble: 4 × 3\n",
       "\n",
       "| child &lt;int&gt; | n &lt;int&gt; | prop &lt;dbl&gt; |\n",
       "|---|---|---|\n",
       "| 0 | 132 | 0.528 |\n",
       "| 1 |  75 | 0.300 |\n",
       "| 2 |  33 | 0.132 |\n",
       "| 3 |  10 | 0.040 |\n",
       "\n"
      ],
      "text/plain": [
       "  child n   prop \n",
       "1 0     132 0.528\n",
       "2 1      75 0.300\n",
       "3 2      33 0.132\n",
       "4 3      10 0.040"
      ]
     },
     "metadata": {},
     "output_type": "display_data"
    }
   ],
   "source": [
    "child.table = tally(group_by(fish , child)) %>% mutate(prop = n/sum(n))\n",
    "child.table"
   ]
  },
  {
   "cell_type": "code",
   "execution_count": 63,
   "id": "c8b75512-5ac4-4e8a-a1b9-8ca54970fb67",
   "metadata": {},
   "outputs": [
    {
     "data": {
      "image/png": "[encoded data removed]",
      "text/plain": [
       "plot without title"
      ]
     },
     "metadata": {
      "image/png": {
       "height": 420,
       "width": 420
      }
     },
     "output_type": "display_data"
    }
   ],
   "source": [
    "boxplot(count~child , data = fish)"
   ]
  },
  {
   "cell_type": "markdown",
   "id": "0d8d5144-9ae6-4b6b-a3c5-429428cd4874",
   "metadata": {},
   "source": [
    "- 아이가 없는 그룹이 52.8%\n",
    "- 그룹 당 아이의 수(child)에 따른 잡은 물고기 수(count)를 보니 아이가 적을수록 박스의 길이가 길어지는 것처럼 보임"
   ]
  },
  {
   "cell_type": "code",
   "execution_count": 22,
   "id": "9ee0f883-20be-4a59-a1df-e27bb5ec44cb",
   "metadata": {},
   "outputs": [
    {
     "data": {
      "text/html": [
       "<table class=\"dataframe\">\n",
       "<caption>A tibble: 2 × 3</caption>\n",
       "<thead>\n",
       "\t<tr><th scope=col>camper</th><th scope=col>n</th><th scope=col>prop</th></tr>\n",
       "\t<tr><th scope=col>&lt;int&gt;</th><th scope=col>&lt;int&gt;</th><th scope=col>&lt;dbl&gt;</th></tr>\n",
       "</thead>\n",
       "<tbody>\n",
       "\t<tr><td>0</td><td>103</td><td>0.412</td></tr>\n",
       "\t<tr><td>1</td><td>147</td><td>0.588</td></tr>\n",
       "</tbody>\n",
       "</table>\n"
      ],
      "text/latex": [
       "A tibble: 2 × 3\n",
       "\\begin{tabular}{lll}\n",
       " camper & n & prop\\\\\n",
       " <int> & <int> & <dbl>\\\\\n",
       "\\hline\n",
       "\t 0 & 103 & 0.412\\\\\n",
       "\t 1 & 147 & 0.588\\\\\n",
       "\\end{tabular}\n"
      ],
      "text/markdown": [
       "\n",
       "A tibble: 2 × 3\n",
       "\n",
       "| camper &lt;int&gt; | n &lt;int&gt; | prop &lt;dbl&gt; |\n",
       "|---|---|---|\n",
       "| 0 | 103 | 0.412 |\n",
       "| 1 | 147 | 0.588 |\n",
       "\n"
      ],
      "text/plain": [
       "  camper n   prop \n",
       "1 0      103 0.412\n",
       "2 1      147 0.588"
      ]
     },
     "metadata": {},
     "output_type": "display_data"
    }
   ],
   "source": [
    "camper.table = tally(group_by(fish , camper)) %>% mutate(prop = n/sum(n))\n",
    "camper.table"
   ]
  },
  {
   "cell_type": "code",
   "execution_count": 61,
   "id": "af5e1325-6542-40ad-ae01-ec193d421da7",
   "metadata": {},
   "outputs": [
    {
     "data": {
      "image/png": "[encoded data removed]",
      "text/plain": [
       "plot without title"
      ]
     },
     "metadata": {
      "image/png": {
       "height": 420,
       "width": 420
      }
     },
     "output_type": "display_data"
    }
   ],
   "source": [
    "boxplot(count~camper , data = fish)"
   ]
  },
  {
   "cell_type": "markdown",
   "id": "3b8f5ebe-cb26-40a5-af2f-ca62ebce23e3",
   "metadata": {},
   "source": [
    "- 공원에서 야영을 한 그룹, 58.8% , 공원에서 야영을 하지 않은 그룹 41.2%\n",
    "- 공원에서 야영 여부(camper)에 따른 잡은 물고기 수(count)를 보니 상자의 크기와 중앙값의 차이는 크지 않아 보이나, 야영을 한 그룹에 이상치가 존재함."
   ]
  },
  {
   "cell_type": "code",
   "execution_count": 26,
   "id": "efc30ac8-efd6-4063-9cbd-a190b8e6eb6c",
   "metadata": {},
   "outputs": [
    {
     "data": {
      "text/plain": [
       "   Min. 1st Qu.  Median    Mean 3rd Qu.    Max. \n",
       "  3.000   3.000   3.000   4.266   3.900  29.400 "
      ]
     },
     "metadata": {},
     "output_type": "display_data"
    }
   ],
   "source": [
    "summary(fish$LOS)"
   ]
  },
  {
   "cell_type": "code",
   "execution_count": 51,
   "id": "bbcfdb6c-3c98-46c9-abae-9c6f48d71c8e",
   "metadata": {},
   "outputs": [
    {
     "data": {
      "text/html": [
       "0.786050124822082"
      ],
      "text/latex": [
       "0.786050124822082"
      ],
      "text/markdown": [
       "0.786050124822082"
      ],
      "text/plain": [
       "[1] 0.7860501"
      ]
     },
     "metadata": {},
     "output_type": "display_data"
    }
   ],
   "source": [
    "cor(fish$count , fish$LOS)"
   ]
  },
  {
   "cell_type": "markdown",
   "id": "58b7e1b1-ca9c-429e-a53e-32ebf61929e8",
   "metadata": {},
   "source": [
    "- 공원에 머무른 시간은 3시간이 최소 , 29.4시간이 최대\n",
    "- 평균 4.26시간 공원에 머무름\n",
    "- 잡은 물고기 수(count)와 공원 체류 시간(LOS) 사이 상관성이 있어보임"
   ]
  },
  {
   "cell_type": "markdown",
   "id": "aab64601-7bb1-4039-a5f8-cfbd705697a5",
   "metadata": {
    "tags": []
   },
   "source": [
    "### 이상치 제거"
   ]
  },
  {
   "cell_type": "code",
   "execution_count": 69,
   "id": "d1c5b7f4-e69e-4398-97c2-6c5a6de5abc6",
   "metadata": {},
   "outputs": [],
   "source": [
    "fish = fish[fish$count != max(fish),]"
   ]
  },
  {
   "cell_type": "markdown",
   "id": "39094a50-a8fb-4fb7-a5c5-4c97797db34b",
   "metadata": {},
   "source": [
    "- 잡은 물고기 수가 149 마리인 그룹은 이상치같으므로 제거함."
   ]
  },
  {
   "cell_type": "markdown",
   "id": "5b37a9cb-d4fe-42da-8cc5-f964c49c9553",
   "metadata": {},
   "source": [
    "### Zero-Inflated(0과잉)인지 확인"
   ]
  },
  {
   "cell_type": "code",
   "execution_count": 80,
   "id": "296ad150-1cc2-4c80-83dd-ab7d4a9f04db",
   "metadata": {},
   "outputs": [],
   "source": [
    "count.table = tally(group_by(fish , count)) %>% mutate(prop = n/sum(n))\n",
    "\n",
    "## 데이터의 잡은 물고기 수에 따른 관측 비율 그림\n",
    "plot1 = count.table %>% \n",
    "    ggplot(aes(y = prop , x=count)) +\n",
    "    geom_bar(stat = \"identity\") + \n",
    "    labs(x= \"Number of count\" , y = \"Proportion\")+\n",
    "    ggtitle(\"a) Observed\") +\n",
    "    coord_cartesian(ylim = c(0, .6))"
   ]
  },
  {
   "cell_type": "markdown",
   "id": "f55d59e5-283f-4b2a-a5e6-80ae1f6b1935",
   "metadata": {},
   "source": [
    "#### Poission model"
   ]
  },
  {
   "cell_type": "code",
   "execution_count": 81,
   "id": "d894739f-6d16-4843-8f1d-21cb41d93e6c",
   "metadata": {},
   "outputs": [],
   "source": [
    "possible.values <- 0:max(fish$count)\n",
    "model.prob <- dpois(possible.values,mean(fish$count))\n",
    "pois.model <- data.frame(possible.values,model.prob)\n",
    "\n",
    "plot2 = ggplot(pois.model,aes(y=model.prob,x=possible.values)) + \n",
    "  geom_bar(stat=\"identity\") +\n",
    "  labs(x= \"Number of drinks\", y=\"Probability\") +\n",
    "  ggtitle(\"b) Poisson Model\") +\n",
    "  coord_cartesian(ylim = c(0, .6))"
   ]
  },
  {
   "cell_type": "code",
   "execution_count": 82,
   "id": "f1ad5cd1-340e-485f-a75e-1e787a800786",
   "metadata": {},
   "outputs": [
    {
     "data": {
      "image/png": "[encoded data removed]",
      "text/plain": [
       "plot without title"
      ]
     },
     "metadata": {
      "image/png": {
       "height": 420,
       "width": 420
      }
     },
     "output_type": "display_data"
    }
   ],
   "source": [
    "grid.arrange(plot1,plot2)"
   ]
  },
  {
   "cell_type": "markdown",
   "id": "d89bbfb4-c74f-4a36-9be0-0dc5c4bf658e",
   "metadata": {},
   "source": [
    "- 0이 너무 많음.\n",
    "- 낚시를 하지 않은 그룹도 0으로 응답."
   ]
  },
  {
   "cell_type": "markdown",
   "id": "fe4de289-5c58-41ff-906f-858c497c04ee",
   "metadata": {},
   "source": [
    "## 잡은 물고기 수 예측 (포아송)"
   ]
  },
  {
   "cell_type": "markdown",
   "id": "b1dc504f-fe24-404f-b0d3-e7721d08d50b",
   "metadata": {},
   "source": [
    "### Model1 : Poisson model"
   ]
  },
  {
   "cell_type": "markdown",
   "id": "9590fa38-46e3-4683-a495-d0df67ee2f14",
   "metadata": {},
   "source": [
    "#### $$log(\\lambda) = \\beta_0 + \\beta_1 (persons) + \\beta_2 (child) + \\beta_3 (LOS)$$"
   ]
  },
  {
   "cell_type": "code",
   "execution_count": 336,
   "id": "ab62ac22-c209-417f-afc2-929e1f2899a7",
   "metadata": {},
   "outputs": [],
   "source": [
    "model1 = glm(count ~ persons + child + LOS , family =poisson , data= fish)"
   ]
  },
  {
   "cell_type": "code",
   "execution_count": 337,
   "id": "69c75a1b-e6fa-491c-ab6d-55616cd55243",
   "metadata": {},
   "outputs": [
    {
     "data": {
      "text/plain": [
       "\n",
       "Call:\n",
       "glm(formula = count ~ persons + child + LOS, family = poisson, \n",
       "    data = fish)\n",
       "\n",
       "Deviance Residuals: \n",
       "    Min       1Q   Median       3Q      Max  \n",
       "-3.4745  -1.4292  -1.1235  -0.0532  10.9562  \n",
       "\n",
       "Coefficients:\n",
       "             Estimate Std. Error z value Pr(>|z|)    \n",
       "(Intercept) -0.858586   0.132818  -6.464 1.02e-10 ***\n",
       "persons      0.641839   0.046550  13.788  < 2e-16 ***\n",
       "child       -1.123182   0.085459 -13.143  < 2e-16 ***\n",
       "LOS          0.079255   0.004606  17.208  < 2e-16 ***\n",
       "---\n",
       "Signif. codes:  0 '***' 0.001 '**' 0.01 '*' 0.05 '.' 0.1 ' ' 1\n",
       "\n",
       "(Dispersion parameter for poisson family taken to be 1)\n",
       "\n",
       "    Null deviance: 2086.47  on 248  degrees of freedom\n",
       "Residual deviance:  836.56  on 245  degrees of freedom\n",
       "AIC: 1174.8\n",
       "\n",
       "Number of Fisher Scoring iterations: 6\n"
      ]
     },
     "metadata": {},
     "output_type": "display_data"
    }
   ],
   "source": [
    "summary(model1)"
   ]
  },
  {
   "cell_type": "markdown",
   "id": "d8bccd60-910e-418c-bd89-5b96d7cbd007",
   "metadata": {},
   "source": [
    "**회귀계수**"
   ]
  },
  {
   "cell_type": "code",
   "execution_count": 139,
   "id": "502d90cc-b8bf-472d-a9f7-43a54a4c5659",
   "metadata": {},
   "outputs": [
    {
     "data": {
      "text/html": [
       "<style>\n",
       ".dl-inline {width: auto; margin:0; padding: 0}\n",
       ".dl-inline>dt, .dl-inline>dd {float: none; width: auto; display: inline-block}\n",
       ".dl-inline>dt::after {content: \":\\0020\"; padding-right: .5ex}\n",
       ".dl-inline>dt:not(:first-of-type) {padding-left: .5ex}\n",
       "</style><dl class=dl-inline><dt>(Intercept)</dt><dd>0.423760903031472</dd><dt>persons</dt><dd>1.89997154083951</dd><dt>child</dt><dd>0.325243204373337</dd><dt>LOS</dt><dd>1.08248000501273</dd></dl>\n"
      ],
      "text/latex": [
       "\\begin{description*}\n",
       "\\item[(Intercept)] 0.423760903031472\n",
       "\\item[persons] 1.89997154083951\n",
       "\\item[child] 0.325243204373337\n",
       "\\item[LOS] 1.08248000501273\n",
       "\\end{description*}\n"
      ],
      "text/markdown": [
       "(Intercept)\n",
       ":   0.423760903031472persons\n",
       ":   1.89997154083951child\n",
       ":   0.325243204373337LOS\n",
       ":   1.08248000501273\n",
       "\n"
      ],
      "text/plain": [
       "(Intercept)     persons       child         LOS \n",
       "  0.4237609   1.8999715   0.3252432   1.0824800 "
      ]
     },
     "metadata": {},
     "output_type": "display_data"
    }
   ],
   "source": [
    "exp(coef(model1))"
   ]
  },
  {
   "cell_type": "markdown",
   "id": "7290bb6e-24e4-47f0-9a7a-e8043aa23430",
   "metadata": {},
   "source": [
    "- 세 변수(persons , child ,LOS) 모두 유의\n",
    "- 그룹 당 사람 수가 한 명 증가할 때, 잡은 물고기 수가 약 1.9배 \n",
    "- 그룹 당 아이 수가 한 명 증가할 때, 잡은 물고기 수가 약 0.325배\n",
    "- 그룹 당 공원 체류 시간이 한 단위 증가할 때, 잡은 물고기 수가 1.08배"
   ]
  },
  {
   "cell_type": "markdown",
   "id": "cbae67ef-2d2d-419c-92de-b2e3f8cf75ea",
   "metadata": {},
   "source": [
    "**Goodness of fit test**"
   ]
  },
  {
   "cell_type": "code",
   "execution_count": 140,
   "id": "1f92c132-c0c7-48d6-9d2d-4c33dd6bac7e",
   "metadata": {},
   "outputs": [
    {
     "data": {
      "text/html": [
       "836.56145427813"
      ],
      "text/latex": [
       "836.56145427813"
      ],
      "text/markdown": [
       "836.56145427813"
      ],
      "text/plain": [
       "[1] 836.5615"
      ]
     },
     "metadata": {},
     "output_type": "display_data"
    },
    {
     "data": {
      "text/html": [
       "245"
      ],
      "text/latex": [
       "245"
      ],
      "text/markdown": [
       "245"
      ],
      "text/plain": [
       "[1] 245"
      ]
     },
     "metadata": {},
     "output_type": "display_data"
    }
   ],
   "source": [
    "model1$deviance ; model1$df.residual"
   ]
  },
  {
   "cell_type": "code",
   "execution_count": 141,
   "id": "325c9cd9-96b1-4afd-bc9c-cb837d659058",
   "metadata": {},
   "outputs": [
    {
     "data": {
      "text/html": [
       "0"
      ],
      "text/latex": [
       "0"
      ],
      "text/markdown": [
       "0"
      ],
      "text/plain": [
       "[1] 0"
      ]
     },
     "metadata": {},
     "output_type": "display_data"
    }
   ],
   "source": [
    "1-pchisq(model1$deviance , model1$df.residual)"
   ]
  },
  {
   "cell_type": "markdown",
   "id": "4a750c9e-41e0-469b-b8b4-3d54c9ea3b51",
   "metadata": {},
   "source": [
    "- residual deviance : 836.5 , 자유도 : 245\n",
    "- $\\chi^2$ 검정 결과 유의확률 < 0.001 -> 영가설 기각\n",
    "- 적합도 검정에서 적합결여(모형이 충분히 적합x)"
   ]
  },
  {
   "cell_type": "markdown",
   "id": "92f0e968-6792-427c-833f-b9a0c4a98448",
   "metadata": {
    "tags": []
   },
   "source": [
    "### ZIP 모형 적합"
   ]
  },
  {
   "cell_type": "code",
   "execution_count": 338,
   "id": "8ae635b0-9f27-400b-b3af-33cb699bb5e3",
   "metadata": {},
   "outputs": [],
   "source": [
    "model2 = zeroinfl(count~ persons+ child + LOS | camper, data = fish )"
   ]
  },
  {
   "cell_type": "code",
   "execution_count": 339,
   "id": "0721a0fe-ceb5-4363-8fdf-13db8feb6db1",
   "metadata": {},
   "outputs": [
    {
     "data": {
      "text/plain": [
       "\n",
       "Call:\n",
       "zeroinfl(formula = count ~ persons + child + LOS | camper, data = fish)\n",
       "\n",
       "Pearson residuals:\n",
       "    Min      1Q  Median      3Q     Max \n",
       "-0.9659 -0.7231 -0.5833  0.1429 13.6725 \n",
       "\n",
       "Count model coefficients (poisson with log link):\n",
       "             Estimate Std. Error z value Pr(>|z|)    \n",
       "(Intercept)  0.125897   0.153871   0.818    0.413    \n",
       "persons      0.407477   0.051313   7.941 2.00e-15 ***\n",
       "child       -0.606615   0.118488  -5.120 3.06e-07 ***\n",
       "LOS          0.075378   0.004681  16.104  < 2e-16 ***\n",
       "\n",
       "Zero-inflation model coefficients (binomial with logit link):\n",
       "            Estimate Std. Error z value Pr(>|z|)   \n",
       "(Intercept)   0.5210     0.2284   2.281  0.02253 * \n",
       "camper       -0.8546     0.2999  -2.850  0.00437 **\n",
       "---\n",
       "Signif. codes:  0 '***' 0.001 '**' 0.01 '*' 0.05 '.' 0.1 ' ' 1 \n",
       "\n",
       "Number of iterations in BFGS optimization: 11 \n",
       "Log-likelihood: -510.7 on 6 Df"
      ]
     },
     "metadata": {},
     "output_type": "display_data"
    }
   ],
   "source": [
    "summary(model2)"
   ]
  },
  {
   "cell_type": "code",
   "execution_count": 340,
   "id": "48c82b22-56ea-4f6f-95be-8728ce815e3f",
   "metadata": {},
   "outputs": [
    {
     "data": {
      "text/html": [
       "<style>\n",
       ".dl-inline {width: auto; margin:0; padding: 0}\n",
       ".dl-inline>dt, .dl-inline>dd {float: none; width: auto; display: inline-block}\n",
       ".dl-inline>dt::after {content: \":\\0020\"; padding-right: .5ex}\n",
       ".dl-inline>dt:not(:first-of-type) {padding-left: .5ex}\n",
       "</style><dl class=dl-inline><dt>count_(Intercept)</dt><dd>1.13416528137238</dd><dt>count_persons</dt><dd>1.50302029719981</dd><dt>count_child</dt><dd>0.545193412228882</dd><dt>count_LOS</dt><dd>1.07829178389092</dd><dt>zero_(Intercept)</dt><dd>1.68378105859504</dd><dt>zero_camper</dt><dd>0.425457925567857</dd></dl>\n"
      ],
      "text/latex": [
       "\\begin{description*}\n",
       "\\item[count\\textbackslash{}\\_(Intercept)] 1.13416528137238\n",
       "\\item[count\\textbackslash{}\\_persons] 1.50302029719981\n",
       "\\item[count\\textbackslash{}\\_child] 0.545193412228882\n",
       "\\item[count\\textbackslash{}\\_LOS] 1.07829178389092\n",
       "\\item[zero\\textbackslash{}\\_(Intercept)] 1.68378105859504\n",
       "\\item[zero\\textbackslash{}\\_camper] 0.425457925567857\n",
       "\\end{description*}\n"
      ],
      "text/markdown": [
       "count_(Intercept)\n",
       ":   1.13416528137238count_persons\n",
       ":   1.50302029719981count_child\n",
       ":   0.545193412228882count_LOS\n",
       ":   1.07829178389092zero_(Intercept)\n",
       ":   1.68378105859504zero_camper\n",
       ":   0.425457925567857\n",
       "\n"
      ],
      "text/plain": [
       "count_(Intercept)     count_persons       count_child         count_LOS \n",
       "        1.1341653         1.5030203         0.5451934         1.0782918 \n",
       " zero_(Intercept)       zero_camper \n",
       "        1.6837811         0.4254579 "
      ]
     },
     "metadata": {},
     "output_type": "display_data"
    }
   ],
   "source": [
    "exp(coef(model2))"
   ]
  },
  {
   "cell_type": "markdown",
   "id": "28bdaaab-7804-4a95-a772-1d9119384e0d",
   "metadata": {},
   "source": [
    "**part1 : Count model coefficients**\n",
    "- 모든 회귀계수(persons , child , LOS)가 유의\n",
    "- 낚시를 한 그룹의 경우 평균 잡은 물고기 수는 사람이 한 명 증가할 때 1.5배\n",
    "- 낚시를 한 그룹의 경우 평균 잡은 물고기 수는 아이가 한 명 증가할 때 0.54배\n",
    "- 낚시를 한 그룹의 경우 평균 잡은 물고기 수는 체류 시간이 한 단위 증가할 때 1.07배"
   ]
  },
  {
   "cell_type": "markdown",
   "id": "64ce2ce8-0d09-4cb7-9f4b-86c684721991",
   "metadata": {},
   "source": [
    "**part2 : Zero - inflation model coefficients** (낚시를 하지 않은 비율 예측)"
   ]
  },
  {
   "cell_type": "markdown",
   "id": "9c33a3aa-2354-43b0-aafa-c560ce7469a4",
   "metadata": {},
   "source": [
    "#### $$log(\\frac{\\alpha}{1-\\alpha}) = \\gamma_0  + \\gamma_1(camper)$$"
   ]
  },
  {
   "cell_type": "code",
   "execution_count": 341,
   "id": "f495d317-808d-44e1-bd05-771371374a4c",
   "metadata": {},
   "outputs": [
    {
     "data": {
      "text/html": [
       "0.627381570011615"
      ],
      "text/latex": [
       "0.627381570011615"
      ],
      "text/markdown": [
       "0.627381570011615"
      ],
      "text/plain": [
       "[1] 0.6273816"
      ]
     },
     "metadata": {},
     "output_type": "display_data"
    }
   ],
   "source": [
    "exp(0.5210) / (1+exp(0.5210)) ## 야영 X , 낚시 x"
   ]
  },
  {
   "cell_type": "code",
   "execution_count": 342,
   "id": "e8d4173d-fc95-434c-8f99-ada3eacb39a6",
   "metadata": {},
   "outputs": [
    {
     "data": {
      "text/html": [
       "0.372618429988385"
      ],
      "text/latex": [
       "0.372618429988385"
      ],
      "text/markdown": [
       "0.372618429988385"
      ],
      "text/plain": [
       "[1] 0.3726184"
      ]
     },
     "metadata": {},
     "output_type": "display_data"
    }
   ],
   "source": [
    "1- exp(0.5210) / (1+exp(0.5210)) ## 야영 o , 낚시 x"
   ]
  },
  {
   "cell_type": "markdown",
   "id": "bca58d7d-4245-4321-b523-b2497ba15892",
   "metadata": {},
   "source": [
    "- 회귀계수(camper)가 유의 \n",
    "- 낚시를 안 한 그룹이 야영한 오즈는 낚시를 안 한 그룹이 야영 안 한 오즈의 0.425배\n",
    "- 야영을 한 그룹이 낚시를 안 할 확률 = 0.37 (37.2%)\n",
    "- 야영을 안 한 그룹이 낚시를 안 할 확률 = 0.627 (62.7%)"
   ]
  },
  {
   "cell_type": "markdown",
   "id": "4ec8a0e2-8ede-4212-aae3-bd2acc20559f",
   "metadata": {},
   "source": [
    "### 포아송모델(model1)과 ZIP모델(model2) 비교"
   ]
  },
  {
   "cell_type": "code",
   "execution_count": 343,
   "id": "445e2e22-5961-434d-ad60-5a1425f266dc",
   "metadata": {},
   "outputs": [
    {
     "name": "stdout",
     "output_type": "stream",
     "text": [
      "Vuong Non-Nested Hypothesis Test-Statistic: \n",
      "(test-statistic is asymptotically distributed N(0,1) under the\n",
      " null that the models are indistinguishible)\n",
      "-------------------------------------------------------------\n",
      "              Vuong z-statistic             H_A   p-value\n",
      "Raw                   -2.509247 model2 > model1 0.0060494\n",
      "AIC-corrected         -2.440193 model2 > model1 0.0073397\n",
      "BIC-corrected         -2.318747 model2 > model1 0.0102044\n"
     ]
    }
   ],
   "source": [
    "vuong(model1 , model2)"
   ]
  },
  {
   "cell_type": "markdown",
   "id": "15038497-4faa-4d80-b124-70bc8807d12d",
   "metadata": {},
   "source": [
    "- model1 : 포아송 모형 , model2 : ZIP 모형\n",
    "- 두 모형이 다르지 않은 경우 Voung의 검정 통계량은 근사적으로 N(0,1)\n",
    "- ZIP 모형이 더 나은 모형임 (Z = -2.509247 , p-value = 0.006)"
   ]
  },
  {
   "cell_type": "markdown",
   "id": "4953331a-1d57-48b6-bfb1-47a441ead6f0",
   "metadata": {},
   "source": [
    "### **최종 모형을 그래프로 표현**"
   ]
  },
  {
   "cell_type": "code",
   "execution_count": 344,
   "id": "74a30097-5d37-4bed-ab16-657a9f102ead",
   "metadata": {},
   "outputs": [
    {
     "data": {
      "text/html": [
       "<dl>\n",
       "\t<dt>$count</dt>\n",
       "\t\t<dd><style>\n",
       ".dl-inline {width: auto; margin:0; padding: 0}\n",
       ".dl-inline>dt, .dl-inline>dd {float: none; width: auto; display: inline-block}\n",
       ".dl-inline>dt::after {content: \":\\0020\"; padding-right: .5ex}\n",
       ".dl-inline>dt:not(:first-of-type) {padding-left: .5ex}\n",
       "</style><dl class=dl-inline><dt>(Intercept)</dt><dd>0.125896945454243</dd><dt>persons</dt><dd>0.407476615137278</dd><dt>child</dt><dd>-0.606614662451981</dd><dt>LOS</dt><dd>0.075378107374795</dd></dl>\n",
       "</dd>\n",
       "\t<dt>$zero</dt>\n",
       "\t\t<dd><style>\n",
       ".dl-inline {width: auto; margin:0; padding: 0}\n",
       ".dl-inline>dt, .dl-inline>dd {float: none; width: auto; display: inline-block}\n",
       ".dl-inline>dt::after {content: \":\\0020\"; padding-right: .5ex}\n",
       ".dl-inline>dt:not(:first-of-type) {padding-left: .5ex}\n",
       "</style><dl class=dl-inline><dt>(Intercept)</dt><dd>0.521041894656969</dd><dt>camper</dt><dd>-0.8545892181896</dd></dl>\n",
       "</dd>\n",
       "</dl>\n"
      ],
      "text/latex": [
       "\\begin{description}\n",
       "\\item[\\$count] \\begin{description*}\n",
       "\\item[(Intercept)] 0.125896945454243\n",
       "\\item[persons] 0.407476615137278\n",
       "\\item[child] -0.606614662451981\n",
       "\\item[LOS] 0.075378107374795\n",
       "\\end{description*}\n",
       "\n",
       "\\item[\\$zero] \\begin{description*}\n",
       "\\item[(Intercept)] 0.521041894656969\n",
       "\\item[camper] -0.8545892181896\n",
       "\\end{description*}\n",
       "\n",
       "\\end{description}\n"
      ],
      "text/markdown": [
       "$count\n",
       ":   (Intercept)\n",
       ":   0.125896945454243persons\n",
       ":   0.407476615137278child\n",
       ":   -0.606614662451981LOS\n",
       ":   0.075378107374795\n",
       "\n",
       "\n",
       "$zero\n",
       ":   (Intercept)\n",
       ":   0.521041894656969camper\n",
       ":   -0.8545892181896\n",
       "\n",
       "\n",
       "\n",
       "\n"
      ],
      "text/plain": [
       "$count\n",
       "(Intercept)     persons       child         LOS \n",
       " 0.12589695  0.40747662 -0.60661466  0.07537811 \n",
       "\n",
       "$zero\n",
       "(Intercept)      camper \n",
       "  0.5210419  -0.8545892 \n"
      ]
     },
     "metadata": {},
     "output_type": "display_data"
    }
   ],
   "source": [
    "model2$coefficients"
   ]
  },
  {
   "cell_type": "code",
   "execution_count": 346,
   "id": "f854e7a0-f02a-4691-880a-bd3050754f72",
   "metadata": {},
   "outputs": [],
   "source": [
    "group = (0.521041894656969 -0.521041894656969*fish$camper > 0.5)  %>% as.factor"
   ]
  },
  {
   "cell_type": "code",
   "execution_count": 350,
   "id": "ae780586-cf84-4518-9216-6015f168b722",
   "metadata": {},
   "outputs": [
    {
     "data": {
      "text/html": [
       "<style>\n",
       ".list-inline {list-style: none; margin:0; padding: 0}\n",
       ".list-inline>li {display: inline-block}\n",
       ".list-inline>li:not(:last-child)::after {content: \"\\00b7\"; padding: 0 .5ex}\n",
       "</style>\n",
       "<ol class=list-inline><li>TRUE</li><li>FALSE</li><li>TRUE</li><li>FALSE</li><li>TRUE</li><li>FALSE</li><li>TRUE</li><li>TRUE</li><li>FALSE</li><li>FALSE</li><li>TRUE</li><li>FALSE</li><li>TRUE</li><li>TRUE</li><li>FALSE</li><li>FALSE</li><li>TRUE</li><li>FALSE</li><li>FALSE</li><li>TRUE</li><li>TRUE</li><li>FALSE</li><li>FALSE</li><li>FALSE</li><li>FALSE</li><li>FALSE</li><li>FALSE</li><li>TRUE</li><li>TRUE</li><li>TRUE</li><li>TRUE</li><li>FALSE</li><li>FALSE</li><li>FALSE</li><li>FALSE</li><li>TRUE</li><li>FALSE</li><li>FALSE</li><li>FALSE</li><li>FALSE</li><li>FALSE</li><li>FALSE</li><li>TRUE</li><li>FALSE</li><li>TRUE</li><li>FALSE</li><li>FALSE</li><li>TRUE</li><li>FALSE</li><li>TRUE</li><li>FALSE</li><li>FALSE</li><li>FALSE</li><li>TRUE</li><li>FALSE</li><li>FALSE</li><li>FALSE</li><li>FALSE</li><li>FALSE</li><li>FALSE</li><li>TRUE</li><li>FALSE</li><li>TRUE</li><li>FALSE</li><li>TRUE</li><li>FALSE</li><li>TRUE</li><li>TRUE</li><li>FALSE</li><li>FALSE</li><li>FALSE</li><li>TRUE</li><li>TRUE</li><li>FALSE</li><li>FALSE</li><li>TRUE</li><li>TRUE</li><li>FALSE</li><li>TRUE</li><li>TRUE</li><li>FALSE</li><li>TRUE</li><li>FALSE</li><li>TRUE</li><li>FALSE</li><li>TRUE</li><li>TRUE</li><li>FALSE</li><li>FALSE</li><li>FALSE</li><li>TRUE</li><li>FALSE</li><li>TRUE</li><li>TRUE</li><li>FALSE</li><li>TRUE</li><li>TRUE</li><li>FALSE</li><li>TRUE</li><li>FALSE</li><li>FALSE</li><li>TRUE</li><li>TRUE</li><li>FALSE</li><li>TRUE</li><li>FALSE</li><li>TRUE</li><li>FALSE</li><li>FALSE</li><li>FALSE</li><li>FALSE</li><li>TRUE</li><li>TRUE</li><li>TRUE</li><li>TRUE</li><li>TRUE</li><li>TRUE</li><li>FALSE</li><li>FALSE</li><li>TRUE</li><li>TRUE</li><li>FALSE</li><li>TRUE</li><li>FALSE</li><li>TRUE</li><li>FALSE</li><li>FALSE</li><li>TRUE</li><li>FALSE</li><li>FALSE</li><li>FALSE</li><li>TRUE</li><li>FALSE</li><li>FALSE</li><li>TRUE</li><li>FALSE</li><li>TRUE</li><li>FALSE</li><li>TRUE</li><li>FALSE</li><li>FALSE</li><li>TRUE</li><li>FALSE</li><li>TRUE</li><li>TRUE</li><li>FALSE</li><li>TRUE</li><li>FALSE</li><li>FALSE</li><li>FALSE</li><li>FALSE</li><li>TRUE</li><li>TRUE</li><li>TRUE</li><li>FALSE</li><li>FALSE</li><li>FALSE</li><li>FALSE</li><li>FALSE</li><li>FALSE</li><li>TRUE</li><li>FALSE</li><li>TRUE</li><li>TRUE</li><li>TRUE</li><li>FALSE</li><li>FALSE</li><li>FALSE</li><li>FALSE</li><li>FALSE</li><li>FALSE</li><li>TRUE</li><li>TRUE</li><li>TRUE</li><li>TRUE</li><li>FALSE</li><li>TRUE</li><li>FALSE</li><li>TRUE</li><li>FALSE</li><li>TRUE</li><li>FALSE</li><li>FALSE</li><li>TRUE</li><li>FALSE</li><li>TRUE</li><li>FALSE</li><li>FALSE</li><li>FALSE</li><li>FALSE</li><li>FALSE</li><li>FALSE</li><li>TRUE</li><li>FALSE</li><li>FALSE</li><li>TRUE</li><li>FALSE</li><li>FALSE</li><li>FALSE</li><li>TRUE</li><li>TRUE</li><li>FALSE</li><li>FALSE</li><li>FALSE</li><li>FALSE</li><li>FALSE</li><li>FALSE</li><li>FALSE</li><li>TRUE</li><li>FALSE</li><li>TRUE</li><li>FALSE</li><li>TRUE</li><li>TRUE</li><li>TRUE</li><li>TRUE</li><li>TRUE</li><li>FALSE</li><li>TRUE</li><li>TRUE</li><li>TRUE</li><li>FALSE</li><li>FALSE</li><li>TRUE</li><li>FALSE</li><li>FALSE</li><li>TRUE</li><li>FALSE</li><li>FALSE</li><li>FALSE</li><li>TRUE</li><li>TRUE</li><li>TRUE</li><li>TRUE</li><li>FALSE</li><li>FALSE</li><li>FALSE</li><li>FALSE</li><li>FALSE</li><li>FALSE</li><li>FALSE</li><li>TRUE</li><li>FALSE</li><li>TRUE</li><li>FALSE</li><li>FALSE</li><li>FALSE</li><li>FALSE</li><li>FALSE</li></ol>\n"
      ],
      "text/latex": [
       "\\begin{enumerate*}\n",
       "\\item TRUE\n",
       "\\item FALSE\n",
       "\\item TRUE\n",
       "\\item FALSE\n",
       "\\item TRUE\n",
       "\\item FALSE\n",
       "\\item TRUE\n",
       "\\item TRUE\n",
       "\\item FALSE\n",
       "\\item FALSE\n",
       "\\item TRUE\n",
       "\\item FALSE\n",
       "\\item TRUE\n",
       "\\item TRUE\n",
       "\\item FALSE\n",
       "\\item FALSE\n",
       "\\item TRUE\n",
       "\\item FALSE\n",
       "\\item FALSE\n",
       "\\item TRUE\n",
       "\\item TRUE\n",
       "\\item FALSE\n",
       "\\item FALSE\n",
       "\\item FALSE\n",
       "\\item FALSE\n",
       "\\item FALSE\n",
       "\\item FALSE\n",
       "\\item TRUE\n",
       "\\item TRUE\n",
       "\\item TRUE\n",
       "\\item TRUE\n",
       "\\item FALSE\n",
       "\\item FALSE\n",
       "\\item FALSE\n",
       "\\item FALSE\n",
       "\\item TRUE\n",
       "\\item FALSE\n",
       "\\item FALSE\n",
       "\\item FALSE\n",
       "\\item FALSE\n",
       "\\item FALSE\n",
       "\\item FALSE\n",
       "\\item TRUE\n",
       "\\item FALSE\n",
       "\\item TRUE\n",
       "\\item FALSE\n",
       "\\item FALSE\n",
       "\\item TRUE\n",
       "\\item FALSE\n",
       "\\item TRUE\n",
       "\\item FALSE\n",
       "\\item FALSE\n",
       "\\item FALSE\n",
       "\\item TRUE\n",
       "\\item FALSE\n",
       "\\item FALSE\n",
       "\\item FALSE\n",
       "\\item FALSE\n",
       "\\item FALSE\n",
       "\\item FALSE\n",
       "\\item TRUE\n",
       "\\item FALSE\n",
       "\\item TRUE\n",
       "\\item FALSE\n",
       "\\item TRUE\n",
       "\\item FALSE\n",
       "\\item TRUE\n",
       "\\item TRUE\n",
       "\\item FALSE\n",
       "\\item FALSE\n",
       "\\item FALSE\n",
       "\\item TRUE\n",
       "\\item TRUE\n",
       "\\item FALSE\n",
       "\\item FALSE\n",
       "\\item TRUE\n",
       "\\item TRUE\n",
       "\\item FALSE\n",
       "\\item TRUE\n",
       "\\item TRUE\n",
       "\\item FALSE\n",
       "\\item TRUE\n",
       "\\item FALSE\n",
       "\\item TRUE\n",
       "\\item FALSE\n",
       "\\item TRUE\n",
       "\\item TRUE\n",
       "\\item FALSE\n",
       "\\item FALSE\n",
       "\\item FALSE\n",
       "\\item TRUE\n",
       "\\item FALSE\n",
       "\\item TRUE\n",
       "\\item TRUE\n",
       "\\item FALSE\n",
       "\\item TRUE\n",
       "\\item TRUE\n",
       "\\item FALSE\n",
       "\\item TRUE\n",
       "\\item FALSE\n",
       "\\item FALSE\n",
       "\\item TRUE\n",
       "\\item TRUE\n",
       "\\item FALSE\n",
       "\\item TRUE\n",
       "\\item FALSE\n",
       "\\item TRUE\n",
       "\\item FALSE\n",
       "\\item FALSE\n",
       "\\item FALSE\n",
       "\\item FALSE\n",
       "\\item TRUE\n",
       "\\item TRUE\n",
       "\\item TRUE\n",
       "\\item TRUE\n",
       "\\item TRUE\n",
       "\\item TRUE\n",
       "\\item FALSE\n",
       "\\item FALSE\n",
       "\\item TRUE\n",
       "\\item TRUE\n",
       "\\item FALSE\n",
       "\\item TRUE\n",
       "\\item FALSE\n",
       "\\item TRUE\n",
       "\\item FALSE\n",
       "\\item FALSE\n",
       "\\item TRUE\n",
       "\\item FALSE\n",
       "\\item FALSE\n",
       "\\item FALSE\n",
       "\\item TRUE\n",
       "\\item FALSE\n",
       "\\item FALSE\n",
       "\\item TRUE\n",
       "\\item FALSE\n",
       "\\item TRUE\n",
       "\\item FALSE\n",
       "\\item TRUE\n",
       "\\item FALSE\n",
       "\\item FALSE\n",
       "\\item TRUE\n",
       "\\item FALSE\n",
       "\\item TRUE\n",
       "\\item TRUE\n",
       "\\item FALSE\n",
       "\\item TRUE\n",
       "\\item FALSE\n",
       "\\item FALSE\n",
       "\\item FALSE\n",
       "\\item FALSE\n",
       "\\item TRUE\n",
       "\\item TRUE\n",
       "\\item TRUE\n",
       "\\item FALSE\n",
       "\\item FALSE\n",
       "\\item FALSE\n",
       "\\item FALSE\n",
       "\\item FALSE\n",
       "\\item FALSE\n",
       "\\item TRUE\n",
       "\\item FALSE\n",
       "\\item TRUE\n",
       "\\item TRUE\n",
       "\\item TRUE\n",
       "\\item FALSE\n",
       "\\item FALSE\n",
       "\\item FALSE\n",
       "\\item FALSE\n",
       "\\item FALSE\n",
       "\\item FALSE\n",
       "\\item TRUE\n",
       "\\item TRUE\n",
       "\\item TRUE\n",
       "\\item TRUE\n",
       "\\item FALSE\n",
       "\\item TRUE\n",
       "\\item FALSE\n",
       "\\item TRUE\n",
       "\\item FALSE\n",
       "\\item TRUE\n",
       "\\item FALSE\n",
       "\\item FALSE\n",
       "\\item TRUE\n",
       "\\item FALSE\n",
       "\\item TRUE\n",
       "\\item FALSE\n",
       "\\item FALSE\n",
       "\\item FALSE\n",
       "\\item FALSE\n",
       "\\item FALSE\n",
       "\\item FALSE\n",
       "\\item TRUE\n",
       "\\item FALSE\n",
       "\\item FALSE\n",
       "\\item TRUE\n",
       "\\item FALSE\n",
       "\\item FALSE\n",
       "\\item FALSE\n",
       "\\item TRUE\n",
       "\\item TRUE\n",
       "\\item FALSE\n",
       "\\item FALSE\n",
       "\\item FALSE\n",
       "\\item FALSE\n",
       "\\item FALSE\n",
       "\\item FALSE\n",
       "\\item FALSE\n",
       "\\item TRUE\n",
       "\\item FALSE\n",
       "\\item TRUE\n",
       "\\item FALSE\n",
       "\\item TRUE\n",
       "\\item TRUE\n",
       "\\item TRUE\n",
       "\\item TRUE\n",
       "\\item TRUE\n",
       "\\item FALSE\n",
       "\\item TRUE\n",
       "\\item TRUE\n",
       "\\item TRUE\n",
       "\\item FALSE\n",
       "\\item FALSE\n",
       "\\item TRUE\n",
       "\\item FALSE\n",
       "\\item FALSE\n",
       "\\item TRUE\n",
       "\\item FALSE\n",
       "\\item FALSE\n",
       "\\item FALSE\n",
       "\\item TRUE\n",
       "\\item TRUE\n",
       "\\item TRUE\n",
       "\\item TRUE\n",
       "\\item FALSE\n",
       "\\item FALSE\n",
       "\\item FALSE\n",
       "\\item FALSE\n",
       "\\item FALSE\n",
       "\\item FALSE\n",
       "\\item FALSE\n",
       "\\item TRUE\n",
       "\\item FALSE\n",
       "\\item TRUE\n",
       "\\item FALSE\n",
       "\\item FALSE\n",
       "\\item FALSE\n",
       "\\item FALSE\n",
       "\\item FALSE\n",
       "\\end{enumerate*}\n"
      ],
      "text/markdown": [
       "1. TRUE\n",
       "2. FALSE\n",
       "3. TRUE\n",
       "4. FALSE\n",
       "5. TRUE\n",
       "6. FALSE\n",
       "7. TRUE\n",
       "8. TRUE\n",
       "9. FALSE\n",
       "10. FALSE\n",
       "11. TRUE\n",
       "12. FALSE\n",
       "13. TRUE\n",
       "14. TRUE\n",
       "15. FALSE\n",
       "16. FALSE\n",
       "17. TRUE\n",
       "18. FALSE\n",
       "19. FALSE\n",
       "20. TRUE\n",
       "21. TRUE\n",
       "22. FALSE\n",
       "23. FALSE\n",
       "24. FALSE\n",
       "25. FALSE\n",
       "26. FALSE\n",
       "27. FALSE\n",
       "28. TRUE\n",
       "29. TRUE\n",
       "30. TRUE\n",
       "31. TRUE\n",
       "32. FALSE\n",
       "33. FALSE\n",
       "34. FALSE\n",
       "35. FALSE\n",
       "36. TRUE\n",
       "37. FALSE\n",
       "38. FALSE\n",
       "39. FALSE\n",
       "40. FALSE\n",
       "41. FALSE\n",
       "42. FALSE\n",
       "43. TRUE\n",
       "44. FALSE\n",
       "45. TRUE\n",
       "46. FALSE\n",
       "47. FALSE\n",
       "48. TRUE\n",
       "49. FALSE\n",
       "50. TRUE\n",
       "51. FALSE\n",
       "52. FALSE\n",
       "53. FALSE\n",
       "54. TRUE\n",
       "55. FALSE\n",
       "56. FALSE\n",
       "57. FALSE\n",
       "58. FALSE\n",
       "59. FALSE\n",
       "60. FALSE\n",
       "61. TRUE\n",
       "62. FALSE\n",
       "63. TRUE\n",
       "64. FALSE\n",
       "65. TRUE\n",
       "66. FALSE\n",
       "67. TRUE\n",
       "68. TRUE\n",
       "69. FALSE\n",
       "70. FALSE\n",
       "71. FALSE\n",
       "72. TRUE\n",
       "73. TRUE\n",
       "74. FALSE\n",
       "75. FALSE\n",
       "76. TRUE\n",
       "77. TRUE\n",
       "78. FALSE\n",
       "79. TRUE\n",
       "80. TRUE\n",
       "81. FALSE\n",
       "82. TRUE\n",
       "83. FALSE\n",
       "84. TRUE\n",
       "85. FALSE\n",
       "86. TRUE\n",
       "87. TRUE\n",
       "88. FALSE\n",
       "89. FALSE\n",
       "90. FALSE\n",
       "91. TRUE\n",
       "92. FALSE\n",
       "93. TRUE\n",
       "94. TRUE\n",
       "95. FALSE\n",
       "96. TRUE\n",
       "97. TRUE\n",
       "98. FALSE\n",
       "99. TRUE\n",
       "100. FALSE\n",
       "101. FALSE\n",
       "102. TRUE\n",
       "103. TRUE\n",
       "104. FALSE\n",
       "105. TRUE\n",
       "106. FALSE\n",
       "107. TRUE\n",
       "108. FALSE\n",
       "109. FALSE\n",
       "110. FALSE\n",
       "111. FALSE\n",
       "112. TRUE\n",
       "113. TRUE\n",
       "114. TRUE\n",
       "115. TRUE\n",
       "116. TRUE\n",
       "117. TRUE\n",
       "118. FALSE\n",
       "119. FALSE\n",
       "120. TRUE\n",
       "121. TRUE\n",
       "122. FALSE\n",
       "123. TRUE\n",
       "124. FALSE\n",
       "125. TRUE\n",
       "126. FALSE\n",
       "127. FALSE\n",
       "128. TRUE\n",
       "129. FALSE\n",
       "130. FALSE\n",
       "131. FALSE\n",
       "132. TRUE\n",
       "133. FALSE\n",
       "134. FALSE\n",
       "135. TRUE\n",
       "136. FALSE\n",
       "137. TRUE\n",
       "138. FALSE\n",
       "139. TRUE\n",
       "140. FALSE\n",
       "141. FALSE\n",
       "142. TRUE\n",
       "143. FALSE\n",
       "144. TRUE\n",
       "145. TRUE\n",
       "146. FALSE\n",
       "147. TRUE\n",
       "148. FALSE\n",
       "149. FALSE\n",
       "150. FALSE\n",
       "151. FALSE\n",
       "152. TRUE\n",
       "153. TRUE\n",
       "154. TRUE\n",
       "155. FALSE\n",
       "156. FALSE\n",
       "157. FALSE\n",
       "158. FALSE\n",
       "159. FALSE\n",
       "160. FALSE\n",
       "161. TRUE\n",
       "162. FALSE\n",
       "163. TRUE\n",
       "164. TRUE\n",
       "165. TRUE\n",
       "166. FALSE\n",
       "167. FALSE\n",
       "168. FALSE\n",
       "169. FALSE\n",
       "170. FALSE\n",
       "171. FALSE\n",
       "172. TRUE\n",
       "173. TRUE\n",
       "174. TRUE\n",
       "175. TRUE\n",
       "176. FALSE\n",
       "177. TRUE\n",
       "178. FALSE\n",
       "179. TRUE\n",
       "180. FALSE\n",
       "181. TRUE\n",
       "182. FALSE\n",
       "183. FALSE\n",
       "184. TRUE\n",
       "185. FALSE\n",
       "186. TRUE\n",
       "187. FALSE\n",
       "188. FALSE\n",
       "189. FALSE\n",
       "190. FALSE\n",
       "191. FALSE\n",
       "192. FALSE\n",
       "193. TRUE\n",
       "194. FALSE\n",
       "195. FALSE\n",
       "196. TRUE\n",
       "197. FALSE\n",
       "198. FALSE\n",
       "199. FALSE\n",
       "200. TRUE\n",
       "201. TRUE\n",
       "202. FALSE\n",
       "203. FALSE\n",
       "204. FALSE\n",
       "205. FALSE\n",
       "206. FALSE\n",
       "207. FALSE\n",
       "208. FALSE\n",
       "209. TRUE\n",
       "210. FALSE\n",
       "211. TRUE\n",
       "212. FALSE\n",
       "213. TRUE\n",
       "214. TRUE\n",
       "215. TRUE\n",
       "216. TRUE\n",
       "217. TRUE\n",
       "218. FALSE\n",
       "219. TRUE\n",
       "220. TRUE\n",
       "221. TRUE\n",
       "222. FALSE\n",
       "223. FALSE\n",
       "224. TRUE\n",
       "225. FALSE\n",
       "226. FALSE\n",
       "227. TRUE\n",
       "228. FALSE\n",
       "229. FALSE\n",
       "230. FALSE\n",
       "231. TRUE\n",
       "232. TRUE\n",
       "233. TRUE\n",
       "234. TRUE\n",
       "235. FALSE\n",
       "236. FALSE\n",
       "237. FALSE\n",
       "238. FALSE\n",
       "239. FALSE\n",
       "240. FALSE\n",
       "241. FALSE\n",
       "242. TRUE\n",
       "243. FALSE\n",
       "244. TRUE\n",
       "245. FALSE\n",
       "246. FALSE\n",
       "247. FALSE\n",
       "248. FALSE\n",
       "249. FALSE\n",
       "\n",
       "\n"
      ],
      "text/plain": [
       "  [1]  TRUE FALSE  TRUE FALSE  TRUE FALSE  TRUE  TRUE FALSE FALSE  TRUE FALSE\n",
       " [13]  TRUE  TRUE FALSE FALSE  TRUE FALSE FALSE  TRUE  TRUE FALSE FALSE FALSE\n",
       " [25] FALSE FALSE FALSE  TRUE  TRUE  TRUE  TRUE FALSE FALSE FALSE FALSE  TRUE\n",
       " [37] FALSE FALSE FALSE FALSE FALSE FALSE  TRUE FALSE  TRUE FALSE FALSE  TRUE\n",
       " [49] FALSE  TRUE FALSE FALSE FALSE  TRUE FALSE FALSE FALSE FALSE FALSE FALSE\n",
       " [61]  TRUE FALSE  TRUE FALSE  TRUE FALSE  TRUE  TRUE FALSE FALSE FALSE  TRUE\n",
       " [73]  TRUE FALSE FALSE  TRUE  TRUE FALSE  TRUE  TRUE FALSE  TRUE FALSE  TRUE\n",
       " [85] FALSE  TRUE  TRUE FALSE FALSE FALSE  TRUE FALSE  TRUE  TRUE FALSE  TRUE\n",
       " [97]  TRUE FALSE  TRUE FALSE FALSE  TRUE  TRUE FALSE  TRUE FALSE  TRUE FALSE\n",
       "[109] FALSE FALSE FALSE  TRUE  TRUE  TRUE  TRUE  TRUE  TRUE FALSE FALSE  TRUE\n",
       "[121]  TRUE FALSE  TRUE FALSE  TRUE FALSE FALSE  TRUE FALSE FALSE FALSE  TRUE\n",
       "[133] FALSE FALSE  TRUE FALSE  TRUE FALSE  TRUE FALSE FALSE  TRUE FALSE  TRUE\n",
       "[145]  TRUE FALSE  TRUE FALSE FALSE FALSE FALSE  TRUE  TRUE  TRUE FALSE FALSE\n",
       "[157] FALSE FALSE FALSE FALSE  TRUE FALSE  TRUE  TRUE  TRUE FALSE FALSE FALSE\n",
       "[169] FALSE FALSE FALSE  TRUE  TRUE  TRUE  TRUE FALSE  TRUE FALSE  TRUE FALSE\n",
       "[181]  TRUE FALSE FALSE  TRUE FALSE  TRUE FALSE FALSE FALSE FALSE FALSE FALSE\n",
       "[193]  TRUE FALSE FALSE  TRUE FALSE FALSE FALSE  TRUE  TRUE FALSE FALSE FALSE\n",
       "[205] FALSE FALSE FALSE FALSE  TRUE FALSE  TRUE FALSE  TRUE  TRUE  TRUE  TRUE\n",
       "[217]  TRUE FALSE  TRUE  TRUE  TRUE FALSE FALSE  TRUE FALSE FALSE  TRUE FALSE\n",
       "[229] FALSE FALSE  TRUE  TRUE  TRUE  TRUE FALSE FALSE FALSE FALSE FALSE FALSE\n",
       "[241] FALSE  TRUE FALSE  TRUE FALSE FALSE FALSE FALSE FALSE"
      ]
     },
     "metadata": {},
     "output_type": "display_data"
    }
   ],
   "source": [
    "(0.521041894656969 -0.521041894656969*fish$camper > 0.5)"
   ]
  },
  {
   "cell_type": "markdown",
   "id": "218dcc5c-bb07-4c44-93d7-c55529f24864",
   "metadata": {},
   "source": [
    "- camper를 설명변수로 한 logit모형에서 낚시를 안 한 그룹은 잡은 물고기 수가 0이 되도록 조정"
   ]
  },
  {
   "cell_type": "code",
   "execution_count": 347,
   "id": "073a9e45-07c5-4d2b-8cd0-a0c2112c3bbc",
   "metadata": {},
   "outputs": [
    {
     "data": {
      "text/html": [
       "<table class=\"dataframe\">\n",
       "<caption>A data.frame: 6 × 2</caption>\n",
       "<thead>\n",
       "\t<tr><th></th><th scope=col>group</th><th scope=col>fitted</th></tr>\n",
       "\t<tr><th></th><th scope=col>&lt;fct&gt;</th><th scope=col>&lt;dbl&gt;</th></tr>\n",
       "</thead>\n",
       "<tbody>\n",
       "\t<tr><th scope=row>1</th><td>TRUE </td><td>0.000000</td></tr>\n",
       "\t<tr><th scope=row>2</th><td>FALSE</td><td>1.245194</td></tr>\n",
       "\t<tr><th scope=row>3</th><td>TRUE </td><td>0.000000</td></tr>\n",
       "\t<tr><th scope=row>4</th><td>FALSE</td><td>1.020358</td></tr>\n",
       "\t<tr><th scope=row>5</th><td>TRUE </td><td>0.000000</td></tr>\n",
       "\t<tr><th scope=row>6</th><td>FALSE</td><td>1.256704</td></tr>\n",
       "</tbody>\n",
       "</table>\n"
      ],
      "text/latex": [
       "A data.frame: 6 × 2\n",
       "\\begin{tabular}{r|ll}\n",
       "  & group & fitted\\\\\n",
       "  & <fct> & <dbl>\\\\\n",
       "\\hline\n",
       "\t1 & TRUE  & 0.000000\\\\\n",
       "\t2 & FALSE & 1.245194\\\\\n",
       "\t3 & TRUE  & 0.000000\\\\\n",
       "\t4 & FALSE & 1.020358\\\\\n",
       "\t5 & TRUE  & 0.000000\\\\\n",
       "\t6 & FALSE & 1.256704\\\\\n",
       "\\end{tabular}\n"
      ],
      "text/markdown": [
       "\n",
       "A data.frame: 6 × 2\n",
       "\n",
       "| <!--/--> | group &lt;fct&gt; | fitted &lt;dbl&gt; |\n",
       "|---|---|---|\n",
       "| 1 | TRUE  | 0.000000 |\n",
       "| 2 | FALSE | 1.245194 |\n",
       "| 3 | TRUE  | 0.000000 |\n",
       "| 4 | FALSE | 1.020358 |\n",
       "| 5 | TRUE  | 0.000000 |\n",
       "| 6 | FALSE | 1.256704 |\n",
       "\n"
      ],
      "text/plain": [
       "  group fitted  \n",
       "1 TRUE  0.000000\n",
       "2 FALSE 1.245194\n",
       "3 TRUE  0.000000\n",
       "4 FALSE 1.020358\n",
       "5 TRUE  0.000000\n",
       "6 FALSE 1.256704"
      ]
     },
     "metadata": {},
     "output_type": "display_data"
    }
   ],
   "source": [
    "fitted = model2$fitted.values\n",
    "\n",
    "for (i in 1:length(fitted)){ \n",
    "    if(group[i]==TRUE){\n",
    "        fitted[i]=0}\n",
    "    else{\n",
    "    fitted[i]=fitted[i]}\n",
    "    }\n",
    "\n",
    "data = data.frame(group , fitted)\n",
    "\n",
    "head(data)"
   ]
  },
  {
   "cell_type": "code",
   "execution_count": 349,
   "id": "d24aebd3-c29c-42b4-b2bd-f3607ed95d77",
   "metadata": {},
   "outputs": [
    {
     "data": {
      "image/png": "[encoded data removed]",
      "text/plain": [
       "plot without title"
      ]
     },
     "metadata": {
      "image/png": {
       "height": 420,
       "width": 420
      }
     },
     "output_type": "display_data"
    }
   ],
   "source": [
    "data %>% ggplot(aes(x= fitted , fill = group)) + \n",
    "    geom_histogram(alpha=0.4,bins=20)"
   ]
  },
  {
   "cell_type": "markdown",
   "id": "d595da8a-46ed-42cd-962f-67eac34af22f",
   "metadata": {},
   "source": [
    "  "
   ]
  },
  {
   "cell_type": "markdown",
   "id": "67b7ac2a-bc0b-4f0a-b31b-ca52c6f418d1",
   "metadata": {},
   "source": [
    "  "
   ]
  },
  {
   "cell_type": "markdown",
   "id": "359ab3d0-79e9-49a4-93c8-d45280dc6f88",
   "metadata": {},
   "source": [
    "  "
   ]
  }
 ],
 "metadata": {
  "kernelspec": {
   "display_name": "R",
   "language": "R",
   "name": "ir"
  },
  "language_info": {
   "codemirror_mode": "r",
   "file_extension": ".r",
   "mimetype": "text/x-r-source",
   "name": "R",
   "pygments_lexer": "r",
   "version": "4.0.5"
  }
 },
 "nbformat": 4,
 "nbformat_minor": 5
}
