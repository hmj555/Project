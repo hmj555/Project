{
 "cells": [
  {
   "cell_type": "markdown",
   "id": "47031878",
   "metadata": {},
   "source": [
    "# 201822037 통계학과 한민주 #"
   ]
  },
  {
   "cell_type": "markdown",
   "id": "bff64a71",
   "metadata": {},
   "source": [
    "## 데이터 선택 동기"
   ]
  },
  {
   "cell_type": "markdown",
   "id": "31742bd6",
   "metadata": {},
   "source": [
    "2008년부터 많은 사람들의 분노를 사고 있는 아동성범죄자 조두순이 작년(2020년) 12월에 출소했다. 어린 아이를 상대로 끔찍한 범죄를 저질렀으며 그 이전에도 폭행,강간,살인의 전과가 있었음에도 징역 12년이라는 너무 약한 처벌을 받았다. 뉴스는 조두순이 400시간의 심리 치료를 받았음에도 재범 가능성이 높다는 내용을 보도했고 이에 따라 사회적으로 불안감이 증폭되었다. 이외에도 16개월 아이를 학대하여 죽인 입양모 장하영과 입양부 안성은, N번방 조주빈 등 극악무도한 범죄자들이 약소한 형을 받은 채 교도소 밥을 먹으며 살아가고 있다. 이러한 실태에 사형제도에 긍정적인 입장을 가지게 되었고, 아직 몇몇 주에서 사형이 집행되고 있는 미국의 과거 사형수 데이터를 분석해 볼 필요가 있다고 생각했다. "
   ]
  },
  {
   "cell_type": "markdown",
   "id": "5b1f31bf",
   "metadata": {},
   "source": [
    "## dataset : execution data"
   ]
  },
  {
   "cell_type": "markdown",
   "id": "7ab1bd7f",
   "metadata": {},
   "source": [
    "execution 데이터는 미국의 대법원이 사형을 부활시킨 1976 ~ 2016년 동안 미국에서 집행된 사형과 사형수에 대한 정보를 담고 있다. 1442개의 관측치와 17개의 변수가 존재한다.  \n"
   ]
  },
  {
   "cell_type": "markdown",
   "id": "93df3b23",
   "metadata": {},
   "source": [
    "## 변수 설명"
   ]
  },
  {
   "cell_type": "markdown",
   "id": "b9d75b7f",
   "metadata": {},
   "source": [
    "- `Date` : 사형집행 날짜\n",
    "- `Name` : 사형수 이름\n",
    "- `Crime` : 사형수가 저지른 범죄\n",
    "- `Method` : 사형 방법\n",
    "- `Sex` : 사형수 성별\n",
    "- `Age` : 사형수 나이\n",
    "- `Race` : 사형수 인종\n",
    "- `Victim Count` : 희생자 수\n",
    "- `Victim Sex` : 희생자 성별\n",
    "- `Victim Race` : 희생자 인종\n",
    "- `State` : 사형수 출신 주\n",
    "- `Region` : 사형수 출신 지역\n",
    "- `Juvenile` : 사형수가 범행 당시 18세 미만이었는지 여부\n",
    "- `Federal` : 연방범죄인지 여부\n",
    "- `Volunteer` : 집행 당시 통상적인 항소를 계속해서 포기한 자\n",
    "- `Foreign National`: 사형수의 외국인 국적 여부"
   ]
  },
  {
   "cell_type": "markdown",
   "id": "65b032cb",
   "metadata": {},
   "source": [
    "## data load"
   ]
  },
  {
   "cell_type": "code",
   "execution_count": 1,
   "id": "c595f5c5",
   "metadata": {},
   "outputs": [],
   "source": [
    "#패키지 실행\n",
    "import pandas as pd\n",
    "import matplotlib.pyplot as plt\n",
    "import matplotlib\n",
    "import seaborn as sns \n",
    "import numpy as np\n",
    "import scipy.stats as stats"
   ]
  },
  {
   "cell_type": "code",
   "execution_count": 2,
   "id": "9ff9efcb",
   "metadata": {
    "scrolled": true
   },
   "outputs": [],
   "source": [
    "#데이터 불러오기\n",
    "execution= pd.read_csv('./data/execution.csv')"
   ]
  },
  {
   "cell_type": "code",
   "execution_count": 3,
   "id": "4cf82a22",
   "metadata": {},
   "outputs": [
    {
     "data": {
      "text/html": [
       "<div>\n",
       "<style scoped>\n",
       "    .dataframe tbody tr th:only-of-type {\n",
       "        vertical-align: middle;\n",
       "    }\n",
       "\n",
       "    .dataframe tbody tr th {\n",
       "        vertical-align: top;\n",
       "    }\n",
       "\n",
       "    .dataframe thead th {\n",
       "        text-align: right;\n",
       "    }\n",
       "</style>\n",
       "<table border=\"1\" class=\"dataframe\">\n",
       "  <thead>\n",
       "    <tr style=\"text-align: right;\">\n",
       "      <th></th>\n",
       "      <th>Date</th>\n",
       "      <th>Name</th>\n",
       "      <th>Age</th>\n",
       "      <th>Sex</th>\n",
       "      <th>Race</th>\n",
       "      <th>Crime</th>\n",
       "      <th>Victim Count</th>\n",
       "      <th>Victim Sex</th>\n",
       "      <th>Victim Race</th>\n",
       "      <th>County</th>\n",
       "      <th>State</th>\n",
       "      <th>Region</th>\n",
       "      <th>Method</th>\n",
       "      <th>Juvenile</th>\n",
       "      <th>Volunteer</th>\n",
       "      <th>Federal</th>\n",
       "      <th>Foreign National</th>\n",
       "    </tr>\n",
       "  </thead>\n",
       "  <tbody>\n",
       "    <tr>\n",
       "      <th>0</th>\n",
       "      <td>01/17/1977</td>\n",
       "      <td>Gary Gilmore</td>\n",
       "      <td>36</td>\n",
       "      <td>Male</td>\n",
       "      <td>White</td>\n",
       "      <td>Murder</td>\n",
       "      <td>1</td>\n",
       "      <td>Male</td>\n",
       "      <td>White</td>\n",
       "      <td>Utah</td>\n",
       "      <td>UT</td>\n",
       "      <td>West</td>\n",
       "      <td>Firing Squad</td>\n",
       "      <td>No</td>\n",
       "      <td>Yes</td>\n",
       "      <td>No</td>\n",
       "      <td>No</td>\n",
       "    </tr>\n",
       "    <tr>\n",
       "      <th>1</th>\n",
       "      <td>05/25/1979</td>\n",
       "      <td>John Spenkelink</td>\n",
       "      <td>30</td>\n",
       "      <td>Male</td>\n",
       "      <td>White</td>\n",
       "      <td>Murder</td>\n",
       "      <td>1</td>\n",
       "      <td>Male</td>\n",
       "      <td>White</td>\n",
       "      <td>Leon</td>\n",
       "      <td>FL</td>\n",
       "      <td>South</td>\n",
       "      <td>Electrocution</td>\n",
       "      <td>No</td>\n",
       "      <td>No</td>\n",
       "      <td>No</td>\n",
       "      <td>No</td>\n",
       "    </tr>\n",
       "    <tr>\n",
       "      <th>2</th>\n",
       "      <td>10/22/1979</td>\n",
       "      <td>Jesse Bishop</td>\n",
       "      <td>46</td>\n",
       "      <td>Male</td>\n",
       "      <td>White</td>\n",
       "      <td>Murder</td>\n",
       "      <td>1</td>\n",
       "      <td>Male</td>\n",
       "      <td>White</td>\n",
       "      <td>Clark</td>\n",
       "      <td>NV</td>\n",
       "      <td>West</td>\n",
       "      <td>Gas Chamber</td>\n",
       "      <td>No</td>\n",
       "      <td>Yes</td>\n",
       "      <td>No</td>\n",
       "      <td>No</td>\n",
       "    </tr>\n",
       "    <tr>\n",
       "      <th>3</th>\n",
       "      <td>03/09/1981</td>\n",
       "      <td>Steven Judy</td>\n",
       "      <td>24</td>\n",
       "      <td>Male</td>\n",
       "      <td>White</td>\n",
       "      <td>Murder</td>\n",
       "      <td>4</td>\n",
       "      <td>2 Male, 2 Female</td>\n",
       "      <td>White</td>\n",
       "      <td>Marion</td>\n",
       "      <td>IN</td>\n",
       "      <td>Midwest</td>\n",
       "      <td>Electrocution</td>\n",
       "      <td>No</td>\n",
       "      <td>Yes</td>\n",
       "      <td>No</td>\n",
       "      <td>No</td>\n",
       "    </tr>\n",
       "    <tr>\n",
       "      <th>4</th>\n",
       "      <td>08/10/1982</td>\n",
       "      <td>Frank Coppola</td>\n",
       "      <td>38</td>\n",
       "      <td>Male</td>\n",
       "      <td>White</td>\n",
       "      <td>Murder</td>\n",
       "      <td>1</td>\n",
       "      <td>Male</td>\n",
       "      <td>White</td>\n",
       "      <td>Newport News City</td>\n",
       "      <td>VA</td>\n",
       "      <td>South</td>\n",
       "      <td>Electrocution</td>\n",
       "      <td>No</td>\n",
       "      <td>Yes</td>\n",
       "      <td>No</td>\n",
       "      <td>No</td>\n",
       "    </tr>\n",
       "    <tr>\n",
       "      <th>5</th>\n",
       "      <td>12/07/1982</td>\n",
       "      <td>Charlie Brooks</td>\n",
       "      <td>40</td>\n",
       "      <td>Male</td>\n",
       "      <td>Black</td>\n",
       "      <td>Murder</td>\n",
       "      <td>1</td>\n",
       "      <td>Male</td>\n",
       "      <td>White</td>\n",
       "      <td>Tarrant</td>\n",
       "      <td>TX</td>\n",
       "      <td>South</td>\n",
       "      <td>Lethal Injection</td>\n",
       "      <td>No</td>\n",
       "      <td>No</td>\n",
       "      <td>No</td>\n",
       "      <td>No</td>\n",
       "    </tr>\n",
       "  </tbody>\n",
       "</table>\n",
       "</div>"
      ],
      "text/plain": [
       "         Date             Name  Age   Sex   Race   Crime  Victim Count  \\\n",
       "0  01/17/1977     Gary Gilmore   36  Male  White  Murder             1   \n",
       "1  05/25/1979  John Spenkelink   30  Male  White  Murder             1   \n",
       "2  10/22/1979     Jesse Bishop   46  Male  White  Murder             1   \n",
       "3  03/09/1981      Steven Judy   24  Male  White  Murder             4   \n",
       "4  08/10/1982    Frank Coppola   38  Male  White  Murder             1   \n",
       "5  12/07/1982   Charlie Brooks   40  Male  Black  Murder             1   \n",
       "\n",
       "         Victim Sex Victim Race             County State   Region  \\\n",
       "0              Male       White               Utah    UT     West   \n",
       "1              Male       White               Leon    FL    South   \n",
       "2              Male       White              Clark    NV     West   \n",
       "3  2 Male, 2 Female       White             Marion    IN  Midwest   \n",
       "4              Male       White  Newport News City    VA    South   \n",
       "5              Male       White            Tarrant    TX    South   \n",
       "\n",
       "             Method Juvenile Volunteer Federal Foreign National  \n",
       "0      Firing Squad       No       Yes      No               No  \n",
       "1     Electrocution       No        No      No               No  \n",
       "2       Gas Chamber       No       Yes      No               No  \n",
       "3     Electrocution       No       Yes      No               No  \n",
       "4     Electrocution       No       Yes      No               No  \n",
       "5  Lethal Injection       No        No      No               No  "
      ]
     },
     "execution_count": 3,
     "metadata": {},
     "output_type": "execute_result"
    }
   ],
   "source": [
    "execution.head(6) #데이터 확인"
   ]
  },
  {
   "cell_type": "code",
   "execution_count": 4,
   "id": "507ce71c",
   "metadata": {},
   "outputs": [
    {
     "data": {
      "text/plain": [
       "Index(['Date', 'Name', 'Age', 'Sex', 'Race', 'Crime', 'Victim Count',\n",
       "       'Victim Sex', 'Victim Race', 'County', 'State', 'Region', 'Method',\n",
       "       'Juvenile', 'Volunteer', 'Federal', 'Foreign National'],\n",
       "      dtype='object')"
      ]
     },
     "execution_count": 4,
     "metadata": {},
     "output_type": "execute_result"
    }
   ],
   "source": [
    "execution.columns #변수 이름 확인"
   ]
  },
  {
   "cell_type": "code",
   "execution_count": 5,
   "id": "9aa23b13",
   "metadata": {},
   "outputs": [
    {
     "name": "stdout",
     "output_type": "stream",
     "text": [
      "<class 'pandas.core.frame.DataFrame'>\n",
      "RangeIndex: 1442 entries, 0 to 1441\n",
      "Data columns (total 17 columns):\n",
      " #   Column            Non-Null Count  Dtype \n",
      "---  ------            --------------  ----- \n",
      " 0   Date              1442 non-null   object\n",
      " 1   Name              1442 non-null   object\n",
      " 2   Age               1442 non-null   int64 \n",
      " 3   Sex               1442 non-null   object\n",
      " 4   Race              1442 non-null   object\n",
      " 5   Crime             1442 non-null   object\n",
      " 6   Victim Count      1442 non-null   int64 \n",
      " 7   Victim Sex        1437 non-null   object\n",
      " 8   Victim Race       1436 non-null   object\n",
      " 9   County            1440 non-null   object\n",
      " 10  State             1442 non-null   object\n",
      " 11  Region            1442 non-null   object\n",
      " 12  Method            1442 non-null   object\n",
      " 13  Juvenile          1442 non-null   object\n",
      " 14  Volunteer         1442 non-null   object\n",
      " 15  Federal           1442 non-null   object\n",
      " 16  Foreign National  1442 non-null   object\n",
      "dtypes: int64(2), object(15)\n",
      "memory usage: 191.6+ KB\n"
     ]
    }
   ],
   "source": [
    "execution.info() #변수별 데이터 타입 확인 : 수치형 변수 2개, 범주형 변수 15개"
   ]
  },
  {
   "cell_type": "markdown",
   "id": "4f0113ec",
   "metadata": {},
   "source": [
    "## 데이터 분석 및 시각화"
   ]
  },
  {
   "cell_type": "markdown",
   "id": "28e2f726",
   "metadata": {},
   "source": [
    "### Q1. \n",
    "어떤 이유로 사형이 집행되는가?\n",
    "### A1.\n",
    "모든 사형수들의 죄목이 살인인 것으로 보아 살인을 저지른 범죄자들에게만 사형이 집행된다."
   ]
  },
  {
   "cell_type": "code",
   "execution_count": 6,
   "id": "cdf2591c",
   "metadata": {
    "scrolled": true
   },
   "outputs": [
    {
     "data": {
      "text/plain": [
       "array(['Murder'], dtype=object)"
      ]
     },
     "execution_count": 6,
     "metadata": {},
     "output_type": "execute_result"
    }
   ],
   "source": [
    "execution['Crime'].unique()"
   ]
  },
  {
   "cell_type": "markdown",
   "id": "dfa39834",
   "metadata": {},
   "source": [
    "### Q2. \n",
    "사형수들에게 살해당한 희생자의 수는 몇 명인가?\n",
    "\n",
    "### A2.\n",
    "미국에서 사형제도가 부활한 해인 1976년부터 2016년까지 41년간 1442명에 대해 사형이 집행되었고, 이 사형수들에게 살해당한 희생자의 수는 2217명이다.  \n",
    "한 명의 사형수가 살인한 희생자의 수의 평균은 1.5명이지만, 어떤 사형수 한 명이 각 사형수 당 희생자 수의 평균을 높여주고 있는 것이 그래프를 통해 확인되었다."
   ]
  },
  {
   "cell_type": "code",
   "execution_count": 7,
   "id": "db6a7bd6",
   "metadata": {},
   "outputs": [
    {
     "data": {
      "text/plain": [
       "2217"
      ]
     },
     "execution_count": 7,
     "metadata": {},
     "output_type": "execute_result"
    }
   ],
   "source": [
    "sum(execution['Victim Count']) #희생자의 수"
   ]
  },
  {
   "cell_type": "code",
   "execution_count": 8,
   "id": "1186dff9",
   "metadata": {},
   "outputs": [
    {
     "data": {
      "text/plain": [
       "1442"
      ]
     },
     "execution_count": 8,
     "metadata": {},
     "output_type": "execute_result"
    }
   ],
   "source": [
    "len(execution['Name']) #사형수의 수"
   ]
  },
  {
   "cell_type": "code",
   "execution_count": 9,
   "id": "d37008a4",
   "metadata": {},
   "outputs": [
    {
     "data": {
      "text/plain": [
       "1.5374479889042996"
      ]
     },
     "execution_count": 9,
     "metadata": {},
     "output_type": "execute_result"
    }
   ],
   "source": [
    "np.mean(execution['Victim Count']) # 한 명의 사형수가 살인한 희생자의 수"
   ]
  },
  {
   "cell_type": "code",
   "execution_count": 10,
   "id": "5c17fddf",
   "metadata": {},
   "outputs": [
    {
     "data": {
      "text/plain": [
       "[<matplotlib.lines.Line2D at 0x1ba4952a0d0>]"
      ]
     },
     "execution_count": 10,
     "metadata": {},
     "output_type": "execute_result"
    },
    {
     "data": {
      "image/png": "[encoded data removed]",
      "text/plain": [
       "<Figure size 432x288 with 1 Axes>"
      ]
     },
     "metadata": {
      "needs_background": "light"
     },
     "output_type": "display_data"
    }
   ],
   "source": [
    "plt.plot(execution['Victim Count'],'ro',color=\"green\") # 희생자의 수에 대한 극단값이 있다."
   ]
  },
  {
   "cell_type": "markdown",
   "id": "f5ac9681",
   "metadata": {},
   "source": [
    "### Q3.\n",
    "가장 많은 살인을 저지른 사형수는 누구인가?\n",
    "### A3.\n",
    "168명의 희생자를 낸 Timothy McVeigh 이다. 그는 33살 백인의 남성이며, 오클라호마시티 폭탄테러를 일으킨 범죄자이자 테러범이다. 멕베이는 미국 연방정부에 대한 증오로 1995년 연방정부청사 앞에서 폭발물을 가득 실은 트럭을 폭발시켰다. 이로 인해 168명이 사망하고 680명 이상이 부상을 입었으며 6억 5200만 달러의 경제적 손실이 발생되었다.  이 사건은 2001.9.11 테러 전 미국의 가장 심한 폭탄 테러였다. 멕베이는 11개의 연방 범죄의 유죄 선고를 받았으며, 2001년 6월 11일에 사형이 집행되었다."
   ]
  },
  {
   "cell_type": "code",
   "execution_count": 11,
   "id": "a58f3df2",
   "metadata": {},
   "outputs": [
    {
     "data": {
      "text/plain": [
       "851       6\n",
       "1342      8\n",
       "1319      9\n",
       "236      12\n",
       "130      16\n",
       "716     168\n",
       "Name: Victim Count, dtype: int64"
      ]
     },
     "execution_count": 11,
     "metadata": {},
     "output_type": "execute_result"
    }
   ],
   "source": [
    "execution['Victim Count'].sort_values().tail(6) # 168명을 살해한 사형수가 있다."
   ]
  },
  {
   "cell_type": "code",
   "execution_count": 12,
   "id": "2a6cda9c",
   "metadata": {},
   "outputs": [
    {
     "data": {
      "text/html": [
       "<div>\n",
       "<style scoped>\n",
       "    .dataframe tbody tr th:only-of-type {\n",
       "        vertical-align: middle;\n",
       "    }\n",
       "\n",
       "    .dataframe tbody tr th {\n",
       "        vertical-align: top;\n",
       "    }\n",
       "\n",
       "    .dataframe thead th {\n",
       "        text-align: right;\n",
       "    }\n",
       "</style>\n",
       "<table border=\"1\" class=\"dataframe\">\n",
       "  <thead>\n",
       "    <tr style=\"text-align: right;\">\n",
       "      <th></th>\n",
       "      <th>Date</th>\n",
       "      <th>Name</th>\n",
       "      <th>Age</th>\n",
       "      <th>Sex</th>\n",
       "      <th>Race</th>\n",
       "      <th>Crime</th>\n",
       "      <th>Victim Count</th>\n",
       "      <th>Victim Sex</th>\n",
       "      <th>Victim Race</th>\n",
       "      <th>County</th>\n",
       "      <th>State</th>\n",
       "      <th>Region</th>\n",
       "      <th>Method</th>\n",
       "      <th>Juvenile</th>\n",
       "      <th>Volunteer</th>\n",
       "      <th>Federal</th>\n",
       "      <th>Foreign National</th>\n",
       "    </tr>\n",
       "  </thead>\n",
       "  <tbody>\n",
       "    <tr>\n",
       "      <th>716</th>\n",
       "      <td>06/11/2001</td>\n",
       "      <td>Timothy McVeigh*</td>\n",
       "      <td>33</td>\n",
       "      <td>Male</td>\n",
       "      <td>White</td>\n",
       "      <td>Murder</td>\n",
       "      <td>168</td>\n",
       "      <td>NaN</td>\n",
       "      <td>NaN</td>\n",
       "      <td>Oklahoma</td>\n",
       "      <td>FE</td>\n",
       "      <td>South</td>\n",
       "      <td>Lethal Injection</td>\n",
       "      <td>No</td>\n",
       "      <td>Yes</td>\n",
       "      <td>Yes</td>\n",
       "      <td>No</td>\n",
       "    </tr>\n",
       "  </tbody>\n",
       "</table>\n",
       "</div>"
      ],
      "text/plain": [
       "           Date              Name  Age   Sex   Race   Crime  Victim Count  \\\n",
       "716  06/11/2001  Timothy McVeigh*   33  Male  White  Murder           168   \n",
       "\n",
       "    Victim Sex Victim Race    County State Region            Method Juvenile  \\\n",
       "716        NaN         NaN  Oklahoma    FE  South  Lethal Injection       No   \n",
       "\n",
       "    Volunteer Federal Foreign National  \n",
       "716       Yes     Yes               No  "
      ]
     },
     "execution_count": 12,
     "metadata": {},
     "output_type": "execute_result"
    }
   ],
   "source": [
    "execution[execution['Victim Count']==max(execution['Victim Count'])] #가장 많은 살인을 저지른 사형수의 정보"
   ]
  },
  {
   "cell_type": "markdown",
   "id": "3a8321c4",
   "metadata": {},
   "source": [
    "### Q4.\n",
    "사형수/희생자의 인종에 대해 치우침이 있어보이는가?\n",
    "### A4.\n",
    "미국의 인종차별 문제와 관련하여 희생자는 흑인의 수가 많을 거라 생각했지만, 백인 희생자 수가 흑인 희생자 수의 약 5.2배로, 백인이 훨씬 많이 희생되었다. 사형수의 인종도 백인이 흑인의 1.6배로 더 많이 사형되었다. 아래 결과로 보면 사형수와 희생자 모두 다른 인종보다 백인에 더 많이 치우쳐있어 보인다.  \n",
    "하지만 2000년도 기준 미국 전체 인구 구성이 백인 75%, 흑인 12.3%, 아시아인 3.7%이던 것을 고려했을 때, 미국의 백인 인구/흑인 인구 = 6 이다. 두 인종에 대한 희생자의 비율은 5.2, 사형수의 비율은 1.6이므로 총 인구 구성 비율을 고려했을 때 희생자의 수는 백인과 흑인에 거의 차이가 없지만, 사형수의 비율은 흑인이 훨씬 많다는 것을 알 수 있다."
   ]
  },
  {
   "cell_type": "code",
   "execution_count": 13,
   "id": "a68cd518",
   "metadata": {},
   "outputs": [
    {
     "data": {
      "text/plain": [
       "'2 White, 1 Black'"
      ]
     },
     "execution_count": 13,
     "metadata": {},
     "output_type": "execute_result"
    }
   ],
   "source": [
    "VR=execution['Victim Race']\n",
    "VR.loc[21,] # Victim Race(희생자 인종) 변수의 데이터 전처리 필요"
   ]
  },
  {
   "cell_type": "code",
   "execution_count": 18,
   "id": "ea7b8513",
   "metadata": {},
   "outputs": [],
   "source": [
    "# Victim Race(희생자 인종) 변수의 데이터 전처리 필요\n",
    "\n",
    "VR1=VR[execution['Victim Race'].str.contains(',')==True]\n",
    "split=VR1.str.split(\",\")\n",
    "s1=split.str.get(0)\n",
    "s2=split.str.get(1)\n",
    "s3=split.str.get(2) \n",
    "\n",
    "def string_s(x):\n",
    "    xs=x.str.split(\" \")\n",
    "    xs=xs.dropna(axis=0)\n",
    "    xs=xs.reset_index(drop=True)\n",
    "    for j in range(len(xs)):\n",
    "        xs[j]=' '.join(xs[j]).split()\n",
    "    a1=xs.str.get(0)\n",
    "    a2=xs.str.get(1)\n",
    "    a1=pd.to_numeric(a1)\n",
    "    list=[]\n",
    "    for i in range(len(a1)):\n",
    "        l=[a2[i]]*a1[i]\n",
    "        list=list+l\n",
    "    return(list) \n",
    " \n",
    "VR2=VR[execution['Victim Race'].str.contains(',')!=True]\n",
    "VR2=VR2.dropna(axis=0)\n",
    "VR2=VR2.values.tolist()\n",
    "l1=string_s(s1)    \n",
    "l2=string_s(s2)\n",
    "l3=string_s(s3)       \n",
    "\n",
    "VictimRace= VR2 + l1+ l2 + l3\n",
    "\n",
    "#VictimRace #희생자의 인종\n"
   ]
  },
  {
   "cell_type": "code",
   "execution_count": 19,
   "id": "9b67d6a8",
   "metadata": {},
   "outputs": [
    {
     "data": {
      "text/plain": [
       "Text(0.5, 1.0, 'Death convict Race ')"
      ]
     },
     "execution_count": 19,
     "metadata": {},
     "output_type": "execute_result"
    },
    {
     "data": {
      "image/png": "[encoded data removed]",
      "text/plain": [
       "<Figure size 720x720 with 2 Axes>"
      ]
     },
     "metadata": {},
     "output_type": "display_data"
    }
   ],
   "source": [
    "VictimRace=pd.Series(VictimRace)\n",
    "VRc=VictimRace.value_counts()\n",
    "\n",
    "fig_dims = (10, 10)  # 그래프의 출력 사이즈를 나타냄.\n",
    "sns.set(rc={'figure.figsize':fig_dims}) # plot 사이즈 및 스타일 통일\n",
    "plt.subplot(2,1,1)\n",
    "plt.bar(VRc.index,VRc)\n",
    "plt.title('Victim Race',size=20)\n",
    "\n",
    "plt.subplot(2,1,2)\n",
    "DRc=pd.Series(execution[\"Race\"]).value_counts() #사형수 인종 count\n",
    "plt.bar(DRc.index,DRc)\n",
    "plt.title('Death convict Race ',size=20)"
   ]
  },
  {
   "cell_type": "code",
   "execution_count": 20,
   "id": "abf8de32",
   "metadata": {},
   "outputs": [
    {
     "data": {
      "text/plain": [
       "5.213636363636364"
      ]
     },
     "execution_count": 20,
     "metadata": {},
     "output_type": "execute_result"
    }
   ],
   "source": [
    "VRc['White']/VRc['Black']  #희생자 백인/흑인"
   ]
  },
  {
   "cell_type": "code",
   "execution_count": 21,
   "id": "0cbe2569",
   "metadata": {},
   "outputs": [
    {
     "data": {
      "text/plain": [
       "1.6222222222222222"
      ]
     },
     "execution_count": 21,
     "metadata": {},
     "output_type": "execute_result"
    }
   ],
   "source": [
    "DRc['White']/DRc['Black'] #사형수 백인/흑인"
   ]
  },
  {
   "cell_type": "markdown",
   "id": "4e311c7a",
   "metadata": {},
   "source": [
    "### Q5. \n",
    "사형 집행에 대해 흑인과 백인의 인종 차별이 있었다고 생각하는가?\n",
    "### A5. \n",
    "주어진 데이터만 보면 1~3명의 희생자를 낸 세 경우 모두 사형수의 인종은 백인이 더 많다.  \n",
    "하지만 2000년 기준 미국 거주 흑인과 백인의 비율을 고려 했을 때, 세 경우 모두 사형집행을 피하는 것에 백인이 흑인보다 3배 이상 유리해보인다. 따라서 인종의 차이가 경제적 여유, 생활 환경, 폭력성 등을 포함한 다른 외적변수들을 결정하지 않는다는 가정 하에 사형집행에 대한 인종 차별이 있었다고 생각한다."
   ]
  },
  {
   "cell_type": "code",
   "execution_count": 22,
   "id": "a46519ea",
   "metadata": {},
   "outputs": [
    {
     "data": {
      "text/plain": [
       "[578, 393, 138, 59, 50, 28]"
      ]
     },
     "execution_count": 22,
     "metadata": {},
     "output_type": "execute_result"
    }
   ],
   "source": [
    "W1=len(execution.loc[(execution.Race==\"White\")& (execution.iloc[:,6]==1)]) #1명 살인한 백인 사형수의 수\n",
    "B1=len(execution.loc[(execution.Race==\"Black\")& (execution.iloc[:,6]==1)]) #1명 살인한 흑인 사형수의 수\n",
    "W2=len(execution.loc[(execution.Race==\"White\")& (execution.iloc[:,6]==2)]) #2명 살인한 백인 사형수의 수\n",
    "B2=len(execution.loc[(execution.Race==\"Black\")& (execution.iloc[:,6]==2)]) #2명 살인한 흑인 사형수의 수\n",
    "W3=len(execution.loc[(execution.Race==\"White\")& (execution.iloc[:,6]==3)]) #3명 살인한 백인 사형수의 수\n",
    "B3=len(execution.loc[(execution.Race==\"Black\")& (execution.iloc[:,6]==3)]) #3명 살인한 흑인 사형수의 수\n",
    "[W1, B1 , W2 , B2 , W3 , B3]"
   ]
  },
  {
   "cell_type": "code",
   "execution_count": 23,
   "id": "4b46d2f1",
   "metadata": {},
   "outputs": [
    {
     "data": {
      "text/plain": [
       "0.24120101781170486"
      ]
     },
     "execution_count": 23,
     "metadata": {},
     "output_type": "execute_result"
    }
   ],
   "source": [
    "# 2000년 기준 미국 총인구에 대한 백인 : 흑인 = 75 : 12.3 (6 : 1)\n",
    "(W1/75)/(B1/12.3) "
   ]
  },
  {
   "cell_type": "code",
   "execution_count": 24,
   "id": "1702572b",
   "metadata": {},
   "outputs": [
    {
     "data": {
      "text/plain": [
       "0.3835932203389831"
      ]
     },
     "execution_count": 24,
     "metadata": {},
     "output_type": "execute_result"
    }
   ],
   "source": [
    "(W2/75)/(B2/12.3) #1보다 훨씬 작은 수이므로 총 인구 대비 흑인과 백인의 사형수의 수가 평등하지 않다."
   ]
  },
  {
   "cell_type": "code",
   "execution_count": 25,
   "id": "c3f5b5d8",
   "metadata": {},
   "outputs": [
    {
     "data": {
      "text/plain": [
       "0.29285714285714287"
      ]
     },
     "execution_count": 25,
     "metadata": {},
     "output_type": "execute_result"
    }
   ],
   "source": [
    "(W3/75)/(B3/12.3)"
   ]
  },
  {
   "cell_type": "markdown",
   "id": "1e2398bc",
   "metadata": {},
   "source": [
    "### Q6. \n",
    "어떤 방법으로 사형이 집행되었는가?\n",
    "### A6. \n",
    "독살형(치사 주사), 전기사형, 가스실형, 총살형, 교수형의 방법으로 사형이 집행되었고, 사형수들의 87%가 독살형으로 사망했다. \n"
   ]
  },
  {
   "cell_type": "code",
   "execution_count": 26,
   "id": "7ab3300b",
   "metadata": {},
   "outputs": [
    {
     "data": {
      "text/plain": [
       "Lethal Injection    0.878641\n",
       "Electrocution       0.109570\n",
       "Gas Chamber         0.007628\n",
       "Firing Squad        0.002080\n",
       "Hanging             0.002080\n",
       "Name: Method, dtype: float64"
      ]
     },
     "execution_count": 26,
     "metadata": {},
     "output_type": "execute_result"
    }
   ],
   "source": [
    "execution['Method'].value_counts()/len(execution)"
   ]
  },
  {
   "cell_type": "markdown",
   "id": "1605febd",
   "metadata": {},
   "source": [
    "### Q7.\n",
    "사형집행 당시 사형수의 나이는 어떠한가?\n",
    "### A7.\n",
    "사형된 사형수 중 가장 적은 나이는 22세, 가장 많은 나이는 77세였다. 평균적으로 41살에 사형되었다. "
   ]
  },
  {
   "cell_type": "code",
   "execution_count": 27,
   "id": "b399a575",
   "metadata": {},
   "outputs": [
    {
     "data": {
      "text/plain": [
       "[22, 77]"
      ]
     },
     "execution_count": 27,
     "metadata": {},
     "output_type": "execute_result"
    }
   ],
   "source": [
    "[min(execution['Age']),max(execution['Age'])] #사형수 나이의 범위"
   ]
  },
  {
   "cell_type": "code",
   "execution_count": 28,
   "id": "80908ebc",
   "metadata": {},
   "outputs": [
    {
     "data": {
      "text/plain": [
       "40.0"
      ]
     },
     "execution_count": 28,
     "metadata": {},
     "output_type": "execute_result"
    }
   ],
   "source": [
    "np.median(execution['Age']) #사형이 집행된 사형수의 나이 중앙값"
   ]
  },
  {
   "cell_type": "code",
   "execution_count": 29,
   "id": "033f3571",
   "metadata": {},
   "outputs": [
    {
     "data": {
      "text/plain": [
       "41.479889042995836"
      ]
     },
     "execution_count": 29,
     "metadata": {},
     "output_type": "execute_result"
    }
   ],
   "source": [
    "m=np.mean(execution['Age'])\n",
    "m#사형이 집행된 사형수의 평균 나이"
   ]
  },
  {
   "cell_type": "code",
   "execution_count": 30,
   "id": "bf7530bf",
   "metadata": {
    "scrolled": true
   },
   "outputs": [
    {
     "data": {
      "text/plain": [
       "9.468390978774558"
      ]
     },
     "execution_count": 30,
     "metadata": {},
     "output_type": "execute_result"
    }
   ],
   "source": [
    "s=np.std(execution['Age']) #사형이 집행된 사형수의 나이 표준편차\n",
    "s"
   ]
  },
  {
   "cell_type": "code",
   "execution_count": 31,
   "id": "d07e4181",
   "metadata": {},
   "outputs": [
    {
     "data": {
      "text/plain": [
       "<matplotlib.lines.Line2D at 0x1ba49e72340>"
      ]
     },
     "execution_count": 31,
     "metadata": {},
     "output_type": "execute_result"
    },
    {
     "data": {
      "image/png": "[encoded data removed]",
      "text/plain": [
       "<Figure size 720x720 with 1 Axes>"
      ]
     },
     "metadata": {},
     "output_type": "display_data"
    }
   ],
   "source": [
    "#히스토그램과 밀도곡선 겹쳐 그리기 \n",
    "sns.histplot(x='Age',binwidth=2,data=execution,kde=True,stat='density',color=\"Green\") #단봉 분포\n",
    "plt.title('Histogram of DAge',size=30) \n",
    "plt.xlabel('DAge',size=20)\n",
    "plt.ylabel('Density',size=20)\n",
    "\n",
    "n=len(execution['Age'])\n",
    "plt.text(60, 0.02,\"n=\"+str(n), fontsize=18)\n",
    "plt.text(60, 0.022,\"mean=\"+str(round(m,2)), fontsize=18)\n",
    "plt.text(60, 0.024,\"SD=\"+str(round(s,2)), fontsize=18)\n",
    "\n",
    "plt.axvline(m,0,1,color='red',linestyle='--') #평균 표시, 분포가 왼쪽으로 치우쳐져 있음."
   ]
  },
  {
   "cell_type": "code",
   "execution_count": 32,
   "id": "2b19a40c",
   "metadata": {},
   "outputs": [
    {
     "data": {
      "text/plain": [
       "1442"
      ]
     },
     "execution_count": 32,
     "metadata": {},
     "output_type": "execute_result"
    }
   ],
   "source": [
    "n=len(execution['Age'])\n",
    "n"
   ]
  },
  {
   "cell_type": "markdown",
   "id": "6c2f5adb",
   "metadata": {},
   "source": [
    "### Q8.\n",
    "미국의 어느 지역 교도소에서 사형수가 가장 많이 관리했는가?\n",
    "### A8.\n",
    "사형수의 약 81%가 미국 남부 지역 관할이었다. 남부 지역 중에서 텍사스 주 - 오클라호마 주 - 버지니아 주 - 플로리다 주 순으로 관리 중인 사형수의 수가 많았다. 특히 텍사스 주의 교도소에서 37%로, 상당히 많은 사형수가 있었습니다. "
   ]
  },
  {
   "cell_type": "code",
   "execution_count": 33,
   "id": "4dbe3d20",
   "metadata": {},
   "outputs": [
    {
     "data": {
      "text/plain": [
       "Region     State\n",
       "South      TX       538\n",
       "           OK       112\n",
       "           VA       111\n",
       "           FL        92\n",
       "Midwest    MO        87\n",
       "South      GA        69\n",
       "           AL        58\n",
       "Midwest    OH        53\n",
       "South      NC        43\n",
       "           SC        43\n",
       "West       AZ        37\n",
       "South      LA        28\n",
       "           AR        27\n",
       "           MS        21\n",
       "Midwest    IN        20\n",
       "South      DE        16\n",
       "West       CA        13\n",
       "           NV        12\n",
       "Midwest    IL        12\n",
       "West       UT         7\n",
       "South      TN         6\n",
       "           MD         5\n",
       "West       WA         5\n",
       "South      KY         3\n",
       "           FE         3\n",
       "Northeast  PA         3\n",
       "Midwest    SD         3\n",
       "West       ID         3\n",
       "           MT         3\n",
       "Midwest    NE         3\n",
       "West       OR         2\n",
       "Northeast  CT         1\n",
       "West       CO         1\n",
       "           NM         1\n",
       "           WY         1\n",
       "dtype: int64"
      ]
     },
     "execution_count": 33,
     "metadata": {},
     "output_type": "execute_result"
    }
   ],
   "source": [
    "execution[['Region','State']].value_counts()"
   ]
  },
  {
   "cell_type": "code",
   "execution_count": 34,
   "id": "97d6042e",
   "metadata": {},
   "outputs": [],
   "source": [
    "#사형수의 관할 지역에 대한 분할표 만들기\n",
    "RegionTB=pd.crosstab(execution['Region'], execution['State'],margins=True)"
   ]
  },
  {
   "cell_type": "code",
   "execution_count": 35,
   "id": "7be2710e",
   "metadata": {},
   "outputs": [
    {
     "data": {
      "text/plain": [
       "Region\n",
       "Midwest      0.123440\n",
       "Northeast    0.002774\n",
       "South        0.814840\n",
       "West         0.058946\n",
       "All          1.000000\n",
       "dtype: float64"
      ]
     },
     "execution_count": 35,
     "metadata": {},
     "output_type": "execute_result"
    }
   ],
   "source": [
    "RegionTB.sum(axis=1)/RegionTB.sum(axis=1)['All'] #남부지역 81% , 중서부 지역 12%"
   ]
  },
  {
   "cell_type": "code",
   "execution_count": 36,
   "id": "ce85475b",
   "metadata": {},
   "outputs": [
    {
     "data": {
      "text/plain": [
       "State\n",
       "AL      116\n",
       "AR       54\n",
       "AZ       74\n",
       "CA       26\n",
       "CO        2\n",
       "CT        2\n",
       "DE       32\n",
       "FE        6\n",
       "FL      184\n",
       "GA      138\n",
       "ID        6\n",
       "IL       24\n",
       "IN       40\n",
       "KY        6\n",
       "LA       56\n",
       "MD       10\n",
       "MO      174\n",
       "MS       42\n",
       "MT        6\n",
       "NC       86\n",
       "NE        6\n",
       "NM        2\n",
       "NV       24\n",
       "OH      106\n",
       "OK      224\n",
       "OR        4\n",
       "PA        6\n",
       "SC       86\n",
       "SD        6\n",
       "TN       12\n",
       "TX     1076\n",
       "UT       14\n",
       "VA      222\n",
       "WA       10\n",
       "WY        2\n",
       "All    2884\n",
       "dtype: int64"
      ]
     },
     "execution_count": 36,
     "metadata": {},
     "output_type": "execute_result"
    }
   ],
   "source": [
    "RegionTB.sum(axis=0)"
   ]
  },
  {
   "cell_type": "code",
   "execution_count": 37,
   "id": "64c88a6e",
   "metadata": {
    "scrolled": true
   },
   "outputs": [
    {
     "data": {
      "text/plain": [
       "0.37309292649098474"
      ]
     },
     "execution_count": 37,
     "metadata": {},
     "output_type": "execute_result"
    }
   ],
   "source": [
    "len(execution.loc[execution['State']=='TX'])/len(execution)  #전체 중 텍사스 주 사형수 관할 비율"
   ]
  },
  {
   "cell_type": "markdown",
   "id": "837777d3",
   "metadata": {},
   "source": [
    "### Q9. \n",
    "사형 집행 날짜에 대한 분석\n",
    "### A9.\n",
    "1976년부터 2016년까지 41년동안 집행된 1442건의 사형 날짜를 분석해봤을 때, 1976, 1978, 1980년도는 사형이 집행되지 않았다. \n",
    "반면 1999년에 98번으로 가장 많은 사형이 집행되었다.  \n",
    "년도를 고려하지 않았을 때는 41년간 총 149건으로 5월에  가장 많이, 총 96건으로 2월에 가장 적게 사형이 집행되었다. \n",
    "년도와 월을 모두 고려했을 때, 2000년 6월에 총 13건의 사형이 집행되었다.  \n",
    "또한 1999~2000년도를 기점으로 사형의 수가 점점 줄어들고 있다."
   ]
  },
  {
   "cell_type": "code",
   "execution_count": 38,
   "id": "f0d0883e",
   "metadata": {},
   "outputs": [
    {
     "data": {
      "text/html": [
       "<div>\n",
       "<style scoped>\n",
       "    .dataframe tbody tr th:only-of-type {\n",
       "        vertical-align: middle;\n",
       "    }\n",
       "\n",
       "    .dataframe tbody tr th {\n",
       "        vertical-align: top;\n",
       "    }\n",
       "\n",
       "    .dataframe thead th {\n",
       "        text-align: right;\n",
       "    }\n",
       "</style>\n",
       "<table border=\"1\" class=\"dataframe\">\n",
       "  <thead>\n",
       "    <tr style=\"text-align: right;\">\n",
       "      <th></th>\n",
       "      <th>year</th>\n",
       "      <th>month</th>\n",
       "    </tr>\n",
       "  </thead>\n",
       "  <tbody>\n",
       "    <tr>\n",
       "      <th>0</th>\n",
       "      <td>1977</td>\n",
       "      <td>1</td>\n",
       "    </tr>\n",
       "    <tr>\n",
       "      <th>1</th>\n",
       "      <td>1979</td>\n",
       "      <td>5</td>\n",
       "    </tr>\n",
       "    <tr>\n",
       "      <th>2</th>\n",
       "      <td>1979</td>\n",
       "      <td>10</td>\n",
       "    </tr>\n",
       "    <tr>\n",
       "      <th>3</th>\n",
       "      <td>1981</td>\n",
       "      <td>3</td>\n",
       "    </tr>\n",
       "    <tr>\n",
       "      <th>4</th>\n",
       "      <td>1982</td>\n",
       "      <td>8</td>\n",
       "    </tr>\n",
       "    <tr>\n",
       "      <th>...</th>\n",
       "      <td>...</td>\n",
       "      <td>...</td>\n",
       "    </tr>\n",
       "    <tr>\n",
       "      <th>1437</th>\n",
       "      <td>2016</td>\n",
       "      <td>10</td>\n",
       "    </tr>\n",
       "    <tr>\n",
       "      <th>1438</th>\n",
       "      <td>2016</td>\n",
       "      <td>10</td>\n",
       "    </tr>\n",
       "    <tr>\n",
       "      <th>1439</th>\n",
       "      <td>2016</td>\n",
       "      <td>11</td>\n",
       "    </tr>\n",
       "    <tr>\n",
       "      <th>1440</th>\n",
       "      <td>2016</td>\n",
       "      <td>12</td>\n",
       "    </tr>\n",
       "    <tr>\n",
       "      <th>1441</th>\n",
       "      <td>2016</td>\n",
       "      <td>12</td>\n",
       "    </tr>\n",
       "  </tbody>\n",
       "</table>\n",
       "<p>1442 rows × 2 columns</p>\n",
       "</div>"
      ],
      "text/plain": [
       "      year  month\n",
       "0     1977      1\n",
       "1     1979      5\n",
       "2     1979     10\n",
       "3     1981      3\n",
       "4     1982      8\n",
       "...    ...    ...\n",
       "1437  2016     10\n",
       "1438  2016     10\n",
       "1439  2016     11\n",
       "1440  2016     12\n",
       "1441  2016     12\n",
       "\n",
       "[1442 rows x 2 columns]"
      ]
     },
     "execution_count": 38,
     "metadata": {},
     "output_type": "execute_result"
    }
   ],
   "source": [
    "#Date(사형집행날짜) 변수에 대한 데이터 전처리\n",
    "#범주형 변수인 'Date'변수를 사형집형 년도(year), 사형집행 월(month)로 나눠 수치형 변수로 변환\n",
    "\n",
    "split=execution['Date'].str.split(\"/\") \n",
    "month=split.str.get(0)\n",
    "year=split.str.get(2)\n",
    "month=pd.to_numeric(month)\n",
    "year=pd.to_numeric(year)\n",
    "\n",
    "#사형집행 년도, 월 데이터프레임(Date) 만들기\n",
    "Date=pd.DataFrame({'year' : year, 'month': month})\n",
    "Date"
   ]
  },
  {
   "cell_type": "code",
   "execution_count": 39,
   "id": "971ed00e",
   "metadata": {},
   "outputs": [
    {
     "name": "stdout",
     "output_type": "stream",
     "text": [
      "1976\n",
      "1978\n",
      "1980\n"
     ]
    }
   ],
   "source": [
    "year=list(Date['year']) #사형 집행 년도 변수를 리스트로 변환\n",
    "check=range(1976,2017)  #사형 집행 가능 년도\n",
    "\n",
    "#사형이 집행되지 않았던 년도\n",
    "for i in check:\n",
    "    if i not in year:\n",
    "        print(i)"
   ]
  },
  {
   "cell_type": "code",
   "execution_count": 40,
   "id": "caf51f12",
   "metadata": {},
   "outputs": [
    {
     "data": {
      "text/plain": [
       "1999    98\n",
       "2000    85\n",
       "1997    74\n",
       "2002    71\n",
       "1998    68\n",
       "2001    66\n",
       "2003    65\n",
       "2005    60\n",
       "2004    59\n",
       "1995    56\n",
       "2006    53\n",
       "2009    52\n",
       "2010    46\n",
       "1996    45\n",
       "2011    43\n",
       "2012    43\n",
       "2007    42\n",
       "2013    39\n",
       "1993    38\n",
       "2008    37\n",
       "2014    35\n",
       "1992    31\n",
       "1994    31\n",
       "2015    28\n",
       "1987    25\n",
       "1990    23\n",
       "1984    21\n",
       "2016    20\n",
       "1986    18\n",
       "1985    18\n",
       "1989    16\n",
       "1991    14\n",
       "1988    11\n",
       "1983     5\n",
       "1979     2\n",
       "1982     2\n",
       "1981     1\n",
       "1977     1\n",
       "Name: year, dtype: int64"
      ]
     },
     "execution_count": 40,
     "metadata": {},
     "output_type": "execute_result"
    }
   ],
   "source": [
    "Date['year'].value_counts() #1999년에 사형수들이 가장 많이 사형되었다."
   ]
  },
  {
   "cell_type": "code",
   "execution_count": 41,
   "id": "2dc7dcdc",
   "metadata": {},
   "outputs": [
    {
     "data": {
      "text/plain": [
       "5     149\n",
       "1     146\n",
       "6     140\n",
       "3     135\n",
       "8     122\n",
       "4     118\n",
       "7     117\n",
       "11    113\n",
       "9     108\n",
       "12    102\n",
       "10     96\n",
       "2      96\n",
       "Name: month, dtype: int64"
      ]
     },
     "execution_count": 41,
     "metadata": {},
     "output_type": "execute_result"
    }
   ],
   "source": [
    "Date['month'].value_counts() # 41년의 기간동안 5월에 가장 많은 사형이 집행되었다."
   ]
  },
  {
   "cell_type": "code",
   "execution_count": 42,
   "id": "5877cb6a",
   "metadata": {},
   "outputs": [
    {
     "data": {
      "text/plain": [
       "year  month\n",
       "2000  6        13\n",
       "      1        12\n",
       "1999  2        12\n",
       "1997  5        11\n",
       "2003  7        11\n",
       "               ..\n",
       "1990  8         1\n",
       "2011  4         1\n",
       "1990  10        1\n",
       "      11        1\n",
       "1977  1         1\n",
       "Length: 366, dtype: int64"
      ]
     },
     "execution_count": 42,
     "metadata": {},
     "output_type": "execute_result"
    }
   ],
   "source": [
    "Date.value_counts() # 사형이 가장 많이 집행된 달은 2000년 6월이다."
   ]
  },
  {
   "cell_type": "code",
   "execution_count": 43,
   "id": "5c817116",
   "metadata": {},
   "outputs": [
    {
     "data": {
      "text/plain": [
       "Text(0.5, 1.0, 'execution year')"
      ]
     },
     "execution_count": 43,
     "metadata": {},
     "output_type": "execute_result"
    },
    {
     "data": {
      "image/png": "[encoded data removed]",
      "text/plain": [
       "<Figure size 720x720 with 1 Axes>"
      ]
     },
     "metadata": {},
     "output_type": "display_data"
    }
   ],
   "source": [
    "plt.hist(Date['year'],color=\"Green\") \n",
    "plt.xlabel(\"year\",size=20)\n",
    "plt.ylabel(\"count\",size=20)\n",
    "plt.title(\"execution year\",size=30) #1999~2000년도를 기점으로 사형의 수가 점점 줄어들고 있다."
   ]
  },
  {
   "cell_type": "markdown",
   "id": "b61dec2d",
   "metadata": {},
   "source": [
    "### Q10.\n",
    "사형수의 사형 집행 나이와 사형 집행 년도는 관계가 있는가?\n",
    "### A10.\n",
    "없다.  \n",
    "즉, 특정 해에 특정 나이를 가진 사형수의 사형이 더 많이(적게) 집행되지 않았다.\n"
   ]
  },
  {
   "cell_type": "code",
   "execution_count": 44,
   "id": "fdf1bcb9",
   "metadata": {},
   "outputs": [
    {
     "data": {
      "text/plain": [
       "0.2877182143546616"
      ]
     },
     "execution_count": 44,
     "metadata": {},
     "output_type": "execute_result"
    }
   ],
   "source": [
    "execution['Age'].corr(Date['year']) #사형집행 당시 사형수의 나이와 사형집행 년도는 무관하다. "
   ]
  },
  {
   "cell_type": "code",
   "execution_count": 45,
   "id": "e31b5459",
   "metadata": {},
   "outputs": [
    {
     "data": {
      "text/plain": [
       "[<matplotlib.lines.Line2D at 0x1ba4a526e50>]"
      ]
     },
     "execution_count": 45,
     "metadata": {},
     "output_type": "execute_result"
    },
    {
     "data": {
      "image/png": "[encoded data removed]",
      "text/plain": [
       "<Figure size 720x720 with 1 Axes>"
      ]
     },
     "metadata": {},
     "output_type": "display_data"
    }
   ],
   "source": [
    "plt.plot(Date['year'],execution['Age'],marker='o',linestyle='none',color=\"green\") #직선관계가 없다."
   ]
  },
  {
   "cell_type": "markdown",
   "id": "00cde664",
   "metadata": {},
   "source": [
    "### Q11.\n",
    "살해 당한 희생자의 수에 성별의 차이가 있는가?\n",
    "### A11.\n",
    "희생자의 성별 비는 남 : 여 = 51.2: 48.8 로 거의 차이가 없다.  \n",
    "하지만 사형수의 성별은 98.9%가 남자로, 사형된 사람의 거의 대부분이 남자였다.\n"
   ]
  },
  {
   "cell_type": "code",
   "execution_count": 46,
   "id": "6e115de8",
   "metadata": {},
   "outputs": [
    {
     "data": {
      "text/plain": [
       "<bound method NDFrame.head of 0                   Male\n",
       "1                   Male\n",
       "2                   Male\n",
       "3       2 Male, 2 Female\n",
       "4                   Male\n",
       "              ...       \n",
       "1437    1 Male, 1 Female\n",
       "1438                Male\n",
       "1439              Female\n",
       "1440                Male\n",
       "1441                Male\n",
       "Name: Victim Sex, Length: 1442, dtype: object>"
      ]
     },
     "execution_count": 46,
     "metadata": {},
     "output_type": "execute_result"
    }
   ],
   "source": [
    "execution['Victim Sex'].head # Victim Sex(희생자 성별) 변수 데이터 전처리 필요"
   ]
  },
  {
   "cell_type": "code",
   "execution_count": 47,
   "id": "199fe9cc",
   "metadata": {},
   "outputs": [
    {
     "data": {
      "text/plain": [
       "0         Male\n",
       "1         Male\n",
       "2         Male\n",
       "3         Male\n",
       "4         Male\n",
       "         ...  \n",
       "1820    Female\n",
       "1821    Female\n",
       "1822    Female\n",
       "1823    Female\n",
       "1824    Female\n",
       "Length: 1825, dtype: object"
      ]
     },
     "execution_count": 47,
     "metadata": {},
     "output_type": "execute_result"
    }
   ],
   "source": [
    "# Victim Sex(희생자 성별) 변수 데이터 전처리\n",
    "VS=execution['Victim Sex']\n",
    "VS1=VS[execution['Victim Sex'].str.contains(',')==True]\n",
    "split=VS1.str.split(\",\")\n",
    "s1=split.str.get(0)\n",
    "s2=split.str.get(1)\n",
    " \n",
    "VS2=VS[execution['Victim Sex'].str.contains(',')!=True]\n",
    "VS2=VS2.dropna(axis=0)\n",
    "VS2=VS2.values.tolist()\n",
    "l1=string_s(s1)    \n",
    "l2=string_s(s2)      \n",
    "\n",
    "VictimSex= VS2 + l1+ l2\n",
    "VictimSex=pd.Series(VictimSex) \n",
    "VictimSex #희생자의 성별"
   ]
  },
  {
   "cell_type": "code",
   "execution_count": 48,
   "id": "63a7d954",
   "metadata": {},
   "outputs": [
    {
     "data": {
      "text/plain": [
       "Male      935\n",
       "Female    890\n",
       "dtype: int64"
      ]
     },
     "execution_count": 48,
     "metadata": {},
     "output_type": "execute_result"
    }
   ],
   "source": [
    "VSc=VictimSex.value_counts()\n",
    "VSc #희생자 성별 요약"
   ]
  },
  {
   "cell_type": "code",
   "execution_count": 49,
   "id": "a1807480",
   "metadata": {},
   "outputs": [
    {
     "data": {
      "text/plain": [
       "Sex\n",
       "Female      16\n",
       "Male      1426\n",
       "dtype: int64"
      ]
     },
     "execution_count": 49,
     "metadata": {},
     "output_type": "execute_result"
    }
   ],
   "source": [
    "DSc=execution.groupby('Sex').size()\n",
    "DSc #사형수 성별 요약"
   ]
  },
  {
   "cell_type": "code",
   "execution_count": 50,
   "id": "a5fd2edd",
   "metadata": {},
   "outputs": [
    {
     "data": {
      "text/plain": [
       "Text(0.5, 1.0, 'Death Convict Sex')"
      ]
     },
     "execution_count": 50,
     "metadata": {},
     "output_type": "execute_result"
    },
    {
     "data": {
      "image/png": "[encoded data removed]",
      "text/plain": [
       "<Figure size 720x720 with 2 Axes>"
      ]
     },
     "metadata": {},
     "output_type": "display_data"
    }
   ],
   "source": [
    "#희생자 성별 원형 그래프\n",
    "plt.subplot(1,2,1)\n",
    "plt.pie(VSc,labels=VSc.index ,autopct='%.1f',colors=['green','grey'])\n",
    "plt.title(\"Victim Sex\",size=20)\n",
    "#사형수 성별 원형 그래프\n",
    "plt.subplot(1,2,2)\n",
    "plt.pie(DSc,labels=DSc.index ,autopct='%.1f',colors=['grey','green'])\n",
    "plt.title(\"Death Convict Sex\",size=20)"
   ]
  },
  {
   "cell_type": "markdown",
   "id": "77503604",
   "metadata": {},
   "source": [
    "### =============="
   ]
  },
  {
   "cell_type": "markdown",
   "id": "2ae03e9b",
   "metadata": {},
   "source": [
    "### Q12. 2000년을 기준으로 한 사형 집행 횟수의 분포는 어떠한가?"
   ]
  },
  {
   "cell_type": "markdown",
   "id": "f008417b",
   "metadata": {},
   "source": [
    "### A12."
   ]
  },
  {
   "cell_type": "markdown",
   "id": "637054b9",
   "metadata": {},
   "source": [
    "사형제도가 도입되고 사형 집행의 횟수는 증가하는 경향이 있었지만,  \n",
    "21세기에 들어서면서 사형 집행의 횟수가 줄어들고 있는 경향이 있다."
   ]
  },
  {
   "cell_type": "code",
   "execution_count": 51,
   "id": "c0ae5949",
   "metadata": {
    "scrolled": false
   },
   "outputs": [
    {
     "data": {
      "text/html": [
       "<div>\n",
       "<style scoped>\n",
       "    .dataframe tbody tr th:only-of-type {\n",
       "        vertical-align: middle;\n",
       "    }\n",
       "\n",
       "    .dataframe tbody tr th {\n",
       "        vertical-align: top;\n",
       "    }\n",
       "\n",
       "    .dataframe thead th {\n",
       "        text-align: right;\n",
       "    }\n",
       "</style>\n",
       "<table border=\"1\" class=\"dataframe\">\n",
       "  <thead>\n",
       "    <tr style=\"text-align: right;\">\n",
       "      <th></th>\n",
       "      <th>year</th>\n",
       "      <th>month</th>\n",
       "      <th>group</th>\n",
       "    </tr>\n",
       "  </thead>\n",
       "  <tbody>\n",
       "    <tr>\n",
       "      <th>0</th>\n",
       "      <td>1977</td>\n",
       "      <td>1</td>\n",
       "      <td>Y1</td>\n",
       "    </tr>\n",
       "    <tr>\n",
       "      <th>1</th>\n",
       "      <td>1979</td>\n",
       "      <td>5</td>\n",
       "      <td>Y1</td>\n",
       "    </tr>\n",
       "    <tr>\n",
       "      <th>2</th>\n",
       "      <td>1979</td>\n",
       "      <td>10</td>\n",
       "      <td>Y1</td>\n",
       "    </tr>\n",
       "    <tr>\n",
       "      <th>3</th>\n",
       "      <td>1981</td>\n",
       "      <td>3</td>\n",
       "      <td>Y1</td>\n",
       "    </tr>\n",
       "    <tr>\n",
       "      <th>4</th>\n",
       "      <td>1982</td>\n",
       "      <td>8</td>\n",
       "      <td>Y1</td>\n",
       "    </tr>\n",
       "    <tr>\n",
       "      <th>...</th>\n",
       "      <td>...</td>\n",
       "      <td>...</td>\n",
       "      <td>...</td>\n",
       "    </tr>\n",
       "    <tr>\n",
       "      <th>1437</th>\n",
       "      <td>2016</td>\n",
       "      <td>10</td>\n",
       "      <td>Y2</td>\n",
       "    </tr>\n",
       "    <tr>\n",
       "      <th>1438</th>\n",
       "      <td>2016</td>\n",
       "      <td>10</td>\n",
       "      <td>Y2</td>\n",
       "    </tr>\n",
       "    <tr>\n",
       "      <th>1439</th>\n",
       "      <td>2016</td>\n",
       "      <td>11</td>\n",
       "      <td>Y2</td>\n",
       "    </tr>\n",
       "    <tr>\n",
       "      <th>1440</th>\n",
       "      <td>2016</td>\n",
       "      <td>12</td>\n",
       "      <td>Y2</td>\n",
       "    </tr>\n",
       "    <tr>\n",
       "      <th>1441</th>\n",
       "      <td>2016</td>\n",
       "      <td>12</td>\n",
       "      <td>Y2</td>\n",
       "    </tr>\n",
       "  </tbody>\n",
       "</table>\n",
       "<p>1442 rows × 3 columns</p>\n",
       "</div>"
      ],
      "text/plain": [
       "      year  month group\n",
       "0     1977      1    Y1\n",
       "1     1979      5    Y1\n",
       "2     1979     10    Y1\n",
       "3     1981      3    Y1\n",
       "4     1982      8    Y1\n",
       "...    ...    ...   ...\n",
       "1437  2016     10    Y2\n",
       "1438  2016     10    Y2\n",
       "1439  2016     11    Y2\n",
       "1440  2016     12    Y2\n",
       "1441  2016     12    Y2\n",
       "\n",
       "[1442 rows x 3 columns]"
      ]
     },
     "execution_count": 51,
     "metadata": {},
     "output_type": "execute_result"
    }
   ],
   "source": [
    "f=Date.assign(group=(Date.year<2000)) #2000년을 기준으로 그룹 분할\n",
    "f2=f.replace([True,False],['Y1','Y2']) # Y1 = 1977~1999, Y2 = 2000~2016\n",
    "f2"
   ]
  },
  {
   "cell_type": "code",
   "execution_count": 52,
   "id": "67101c2f",
   "metadata": {},
   "outputs": [],
   "source": [
    "x1=Date['year'][Date['year']<2000]\n",
    "m1=round(np.mean(x1.value_counts()),2)\n",
    "s1=round(np.std(x1.value_counts()),2)\n",
    "n1=len(x1)"
   ]
  },
  {
   "cell_type": "code",
   "execution_count": 53,
   "id": "046baac1",
   "metadata": {},
   "outputs": [],
   "source": [
    "x2=Date['year'][Date['year']>=2000]\n",
    "m2=round(np.mean(x2.value_counts()),2)\n",
    "s2=round(np.std(x2.value_counts()),2)\n",
    "n2=len(x2)"
   ]
  },
  {
   "cell_type": "code",
   "execution_count": 54,
   "id": "2a19059a",
   "metadata": {},
   "outputs": [
    {
     "data": {
      "text/plain": [
       "Text(0.8, 0.32, 's=16.12')"
      ]
     },
     "execution_count": 54,
     "metadata": {},
     "output_type": "execute_result"
    },
    {
     "data": {
      "image/png": "[encoded data removed]",
      "text/plain": [
       "<Figure size 360x720 with 2 Axes>"
      ]
     },
     "metadata": {},
     "output_type": "display_data"
    }
   ],
   "source": [
    "p=sns.catplot(x='year',row='group',kind='count',data=f2)\n",
    "\n",
    "p.fig.text(0.80, 0.76,\"n=\"+str(n1), fontsize=15)\n",
    "p.fig.text(0.80, 0.74,\"m=\"+str(m1), fontsize=15)\n",
    "p.fig.text(0.80, 0.72,\"s=\"+str(s1), fontsize=15)\n",
    "p.fig.text(0.80, 0.36,\"n=\"+str(n2), fontsize=15)\n",
    "p.fig.text(0.80, 0.34,\"m=\"+str(m2), fontsize=15)\n",
    "p.fig.text(0.80, 0.32,\"s=\"+str(s2), fontsize=15)"
   ]
  },
  {
   "cell_type": "markdown",
   "id": "1a213f04",
   "metadata": {},
   "source": [
    "### Q13. 2000년 이후, 희생자 중 흑인의 비율이 높아졌는가?"
   ]
  },
  {
   "cell_type": "markdown",
   "id": "1cad2d8f",
   "metadata": {},
   "source": [
    "### A13."
   ]
  },
  {
   "cell_type": "markdown",
   "id": "3a7a0e8b",
   "metadata": {},
   "source": [
    "가설검정의 결과, 2000년 이전 희생자 중 흑인의 비율보다 2000년 이후 희생자 중 흑인의 비율이 높아졌다고 할 수 있다."
   ]
  },
  {
   "cell_type": "code",
   "execution_count": 55,
   "id": "16522f49",
   "metadata": {},
   "outputs": [
    {
     "data": {
      "text/plain": [
       "833"
      ]
     },
     "execution_count": 55,
     "metadata": {},
     "output_type": "execute_result"
    }
   ],
   "source": [
    "execution['Victim Count'][Date['year']<2000].sum() # 2000년 이전까지의 희생자 총 수 "
   ]
  },
  {
   "cell_type": "code",
   "execution_count": 56,
   "id": "724b9cb3",
   "metadata": {},
   "outputs": [
    {
     "data": {
      "text/plain": [
       "White              714\n",
       "Black              115\n",
       "Latino              41\n",
       "Asian               11\n",
       "Native American      2\n",
       "dtype: int64"
      ]
     },
     "execution_count": 56,
     "metadata": {},
     "output_type": "execute_result"
    }
   ],
   "source": [
    "VictimRace.loc[0:882].value_counts() # 2000년 이전까지 희생당한 인종의 수"
   ]
  },
  {
   "cell_type": "code",
   "execution_count": 57,
   "id": "477446a3",
   "metadata": {},
   "outputs": [
    {
     "data": {
      "text/plain": [
       "0.13"
      ]
     },
     "execution_count": 57,
     "metadata": {},
     "output_type": "execute_result"
    }
   ],
   "source": [
    "round(115/len(VictimRace.loc[0:882]),2) # 2000년 이전까지 흑인의 희생률"
   ]
  },
  {
   "cell_type": "markdown",
   "id": "4f9cab78",
   "metadata": {},
   "source": [
    "가설 세우기\n",
    "\n",
    "- H0 : p = 0.13\n",
    "- H1 : p > 0.13"
   ]
  },
  {
   "cell_type": "markdown",
   "id": "52f2166d",
   "metadata": {},
   "source": [
    "유의수준 정하기\n",
    "\n",
    "a = 0.01"
   ]
  },
  {
   "cell_type": "code",
   "execution_count": 58,
   "id": "ac1968d7",
   "metadata": {},
   "outputs": [
    {
     "data": {
      "text/plain": [
       "White              433\n",
       "Black              105\n",
       "Latino              81\n",
       "Asian               18\n",
       "Native American      1\n",
       "dtype: int64"
      ]
     },
     "execution_count": 58,
     "metadata": {},
     "output_type": "execute_result"
    }
   ],
   "source": [
    "VictimRace.loc[883:].value_counts() # 2000년 이후 희생당한 인종의 수"
   ]
  },
  {
   "cell_type": "code",
   "execution_count": 59,
   "id": "a80a48d2",
   "metadata": {},
   "outputs": [
    {
     "data": {
      "text/plain": [
       "1384"
      ]
     },
     "execution_count": 59,
     "metadata": {},
     "output_type": "execute_result"
    }
   ],
   "source": [
    "execution['Victim Count'][Date['year']>=2000].sum() # 2000년 이후 희생자 총 수"
   ]
  },
  {
   "cell_type": "markdown",
   "id": "07730182",
   "metadata": {},
   "source": [
    "표본의 크기가 충분히 크므로 중심극한 정리를 적용하여 영분포를 구한다."
   ]
  },
  {
   "cell_type": "code",
   "execution_count": 60,
   "id": "3e5c0d92",
   "metadata": {},
   "outputs": [
    {
     "data": {
      "text/plain": [
       "0.013314380468978919"
      ]
     },
     "execution_count": 60,
     "metadata": {},
     "output_type": "execute_result"
    }
   ],
   "source": [
    "(0.13*(1-0.13)/638)**0.5 # 영분포 ~ N(0.13,(0.0133)^2)"
   ]
  },
  {
   "cell_type": "markdown",
   "id": "aa916ed3",
   "metadata": {},
   "source": [
    "검정통계량 계산"
   ]
  },
  {
   "cell_type": "code",
   "execution_count": 61,
   "id": "d6483782",
   "metadata": {},
   "outputs": [
    {
     "data": {
      "text/plain": [
       "0.165"
      ]
     },
     "execution_count": 61,
     "metadata": {},
     "output_type": "execute_result"
    }
   ],
   "source": [
    "round(105/638,3) #데이터로부터 얻은 표본비율(관측 통계량)은 0.165이다."
   ]
  },
  {
   "cell_type": "code",
   "execution_count": 62,
   "id": "dd43ea49",
   "metadata": {},
   "outputs": [
    {
     "data": {
      "text/plain": [
       "2.6315789473684212"
      ]
     },
     "execution_count": 62,
     "metadata": {},
     "output_type": "execute_result"
    }
   ],
   "source": [
    "z=(0.165-0.13)/0.0133 #표준화된 검정통계량\n",
    "z"
   ]
  },
  {
   "cell_type": "markdown",
   "id": "0af61a74",
   "metadata": {},
   "source": [
    "유의확률 계산"
   ]
  },
  {
   "cell_type": "code",
   "execution_count": 63,
   "id": "20609b61",
   "metadata": {},
   "outputs": [
    {
     "data": {
      "text/plain": [
       "0.004249455934601132"
      ]
     },
     "execution_count": 63,
     "metadata": {},
     "output_type": "execute_result"
    }
   ],
   "source": [
    "1-stats.norm(0,1).cdf(z)  # p-value"
   ]
  },
  {
   "cell_type": "markdown",
   "id": "e84eeac3",
   "metadata": {},
   "source": [
    "유의성 판단\n",
    "\n",
    "p-value = 0.0042 , a = 0.01  \n",
    "유의확률 p-value가 유의수준 a 보다 작으므로 영가설을 기각한다. "
   ]
  },
  {
   "cell_type": "markdown",
   "id": "db00a111",
   "metadata": {},
   "source": [
    "### Q14. 남부지역 중 사형수 관할 지역이 버지니아 주, 플로리다 주이냐에 따라 사형 방법이 달라졌는가?"
   ]
  },
  {
   "cell_type": "markdown",
   "id": "ebc655a2",
   "metadata": {},
   "source": [
    "### A14."
   ]
  },
  {
   "cell_type": "markdown",
   "id": "557a9e26",
   "metadata": {},
   "source": [
    "가설 검정의 결과, 버지니아 주와 플로리다 주에서 독살형 집행 비율이 달랐다고 할 수 있으므로  \n",
    "두 주에 따라 사형 방법이 달라졌다고 할 수 있다."
   ]
  },
  {
   "cell_type": "code",
   "execution_count": 64,
   "id": "df256a55",
   "metadata": {},
   "outputs": [],
   "source": [
    "VAFL=execution[(execution['State']=='FL') | (execution['State']=='VA')].loc[:,['State','Method']]"
   ]
  },
  {
   "cell_type": "code",
   "execution_count": 65,
   "id": "9f3b4b49",
   "metadata": {},
   "outputs": [
    {
     "data": {
      "text/html": [
       "<div>\n",
       "<style scoped>\n",
       "    .dataframe tbody tr th:only-of-type {\n",
       "        vertical-align: middle;\n",
       "    }\n",
       "\n",
       "    .dataframe tbody tr th {\n",
       "        vertical-align: top;\n",
       "    }\n",
       "\n",
       "    .dataframe thead th {\n",
       "        text-align: right;\n",
       "    }\n",
       "</style>\n",
       "<table border=\"1\" class=\"dataframe\">\n",
       "  <thead>\n",
       "    <tr style=\"text-align: right;\">\n",
       "      <th></th>\n",
       "      <th>State</th>\n",
       "      <th>Method</th>\n",
       "    </tr>\n",
       "  </thead>\n",
       "  <tbody>\n",
       "    <tr>\n",
       "      <th>0</th>\n",
       "      <td>FL</td>\n",
       "      <td>Electrocution</td>\n",
       "    </tr>\n",
       "    <tr>\n",
       "      <th>1</th>\n",
       "      <td>VA</td>\n",
       "      <td>Electrocution</td>\n",
       "    </tr>\n",
       "    <tr>\n",
       "      <th>2</th>\n",
       "      <td>FL</td>\n",
       "      <td>Electrocution</td>\n",
       "    </tr>\n",
       "    <tr>\n",
       "      <th>3</th>\n",
       "      <td>FL</td>\n",
       "      <td>Electrocution</td>\n",
       "    </tr>\n",
       "    <tr>\n",
       "      <th>4</th>\n",
       "      <td>FL</td>\n",
       "      <td>Electrocution</td>\n",
       "    </tr>\n",
       "    <tr>\n",
       "      <th>...</th>\n",
       "      <td>...</td>\n",
       "      <td>...</td>\n",
       "    </tr>\n",
       "    <tr>\n",
       "      <th>198</th>\n",
       "      <td>FL</td>\n",
       "      <td>Lethal Injection</td>\n",
       "    </tr>\n",
       "    <tr>\n",
       "      <th>199</th>\n",
       "      <td>FL</td>\n",
       "      <td>Lethal Injection</td>\n",
       "    </tr>\n",
       "    <tr>\n",
       "      <th>200</th>\n",
       "      <td>VA</td>\n",
       "      <td>Lethal Injection</td>\n",
       "    </tr>\n",
       "    <tr>\n",
       "      <th>201</th>\n",
       "      <td>FL</td>\n",
       "      <td>Lethal Injection</td>\n",
       "    </tr>\n",
       "    <tr>\n",
       "      <th>202</th>\n",
       "      <td>FL</td>\n",
       "      <td>Lethal Injection</td>\n",
       "    </tr>\n",
       "  </tbody>\n",
       "</table>\n",
       "<p>203 rows × 2 columns</p>\n",
       "</div>"
      ],
      "text/plain": [
       "    State            Method\n",
       "0      FL     Electrocution\n",
       "1      VA     Electrocution\n",
       "2      FL     Electrocution\n",
       "3      FL     Electrocution\n",
       "4      FL     Electrocution\n",
       "..    ...               ...\n",
       "198    FL  Lethal Injection\n",
       "199    FL  Lethal Injection\n",
       "200    VA  Lethal Injection\n",
       "201    FL  Lethal Injection\n",
       "202    FL  Lethal Injection\n",
       "\n",
       "[203 rows x 2 columns]"
      ]
     },
     "execution_count": 65,
     "metadata": {},
     "output_type": "execute_result"
    }
   ],
   "source": [
    "VAFL=VAFL.reset_index()  #인덱스 리셋\n",
    "VAFL=VAFL.loc[:,['State','Method']]\n",
    "VAFL"
   ]
  },
  {
   "cell_type": "code",
   "execution_count": 66,
   "id": "b94636c0",
   "metadata": {},
   "outputs": [
    {
     "data": {
      "text/html": [
       "<div>\n",
       "<style scoped>\n",
       "    .dataframe tbody tr th:only-of-type {\n",
       "        vertical-align: middle;\n",
       "    }\n",
       "\n",
       "    .dataframe tbody tr th {\n",
       "        vertical-align: top;\n",
       "    }\n",
       "\n",
       "    .dataframe thead th {\n",
       "        text-align: right;\n",
       "    }\n",
       "</style>\n",
       "<table border=\"1\" class=\"dataframe\">\n",
       "  <thead>\n",
       "    <tr style=\"text-align: right;\">\n",
       "      <th></th>\n",
       "      <th>State</th>\n",
       "      <th>Method</th>\n",
       "    </tr>\n",
       "  </thead>\n",
       "  <tbody>\n",
       "    <tr>\n",
       "      <th>0</th>\n",
       "      <td>FL</td>\n",
       "      <td>Electrocution</td>\n",
       "    </tr>\n",
       "    <tr>\n",
       "      <th>1</th>\n",
       "      <td>VA</td>\n",
       "      <td>Electrocution</td>\n",
       "    </tr>\n",
       "    <tr>\n",
       "      <th>2</th>\n",
       "      <td>FL</td>\n",
       "      <td>Electrocution</td>\n",
       "    </tr>\n",
       "    <tr>\n",
       "      <th>3</th>\n",
       "      <td>FL</td>\n",
       "      <td>Electrocution</td>\n",
       "    </tr>\n",
       "    <tr>\n",
       "      <th>4</th>\n",
       "      <td>FL</td>\n",
       "      <td>Electrocution</td>\n",
       "    </tr>\n",
       "  </tbody>\n",
       "</table>\n",
       "</div>"
      ],
      "text/plain": [
       "  State         Method\n",
       "0    FL  Electrocution\n",
       "1    VA  Electrocution\n",
       "2    FL  Electrocution\n",
       "3    FL  Electrocution\n",
       "4    FL  Electrocution"
      ]
     },
     "execution_count": 66,
     "metadata": {},
     "output_type": "execute_result"
    }
   ],
   "source": [
    "VAFL.head(5)"
   ]
  },
  {
   "cell_type": "code",
   "execution_count": 67,
   "id": "1c08279c",
   "metadata": {},
   "outputs": [
    {
     "data": {
      "text/html": [
       "<div>\n",
       "<style scoped>\n",
       "    .dataframe tbody tr th:only-of-type {\n",
       "        vertical-align: middle;\n",
       "    }\n",
       "\n",
       "    .dataframe tbody tr th {\n",
       "        vertical-align: top;\n",
       "    }\n",
       "\n",
       "    .dataframe thead th {\n",
       "        text-align: right;\n",
       "    }\n",
       "</style>\n",
       "<table border=\"1\" class=\"dataframe\">\n",
       "  <thead>\n",
       "    <tr style=\"text-align: right;\">\n",
       "      <th>Method</th>\n",
       "      <th>Electrocution</th>\n",
       "      <th>Lethal Injection</th>\n",
       "      <th>All</th>\n",
       "    </tr>\n",
       "    <tr>\n",
       "      <th>State</th>\n",
       "      <th></th>\n",
       "      <th></th>\n",
       "      <th></th>\n",
       "    </tr>\n",
       "  </thead>\n",
       "  <tbody>\n",
       "    <tr>\n",
       "      <th>FL</th>\n",
       "      <td>44</td>\n",
       "      <td>48</td>\n",
       "      <td>92</td>\n",
       "    </tr>\n",
       "    <tr>\n",
       "      <th>VA</th>\n",
       "      <td>31</td>\n",
       "      <td>80</td>\n",
       "      <td>111</td>\n",
       "    </tr>\n",
       "    <tr>\n",
       "      <th>All</th>\n",
       "      <td>75</td>\n",
       "      <td>128</td>\n",
       "      <td>203</td>\n",
       "    </tr>\n",
       "  </tbody>\n",
       "</table>\n",
       "</div>"
      ],
      "text/plain": [
       "Method  Electrocution  Lethal Injection  All\n",
       "State                                       \n",
       "FL                 44                48   92\n",
       "VA                 31                80  111\n",
       "All                75               128  203"
      ]
     },
     "execution_count": 67,
     "metadata": {},
     "output_type": "execute_result"
    }
   ],
   "source": [
    "table = pd.crosstab(VAFL['State'],VAFL['Method'])\n",
    "pd.crosstab(VAFL['State'],VAFL['Method'],margins=True)"
   ]
  },
  {
   "cell_type": "code",
   "execution_count": 68,
   "id": "fe81f91c",
   "metadata": {},
   "outputs": [
    {
     "data": {
      "text/html": [
       "<div>\n",
       "<style scoped>\n",
       "    .dataframe tbody tr th:only-of-type {\n",
       "        vertical-align: middle;\n",
       "    }\n",
       "\n",
       "    .dataframe tbody tr th {\n",
       "        vertical-align: top;\n",
       "    }\n",
       "\n",
       "    .dataframe thead th {\n",
       "        text-align: right;\n",
       "    }\n",
       "</style>\n",
       "<table border=\"1\" class=\"dataframe\">\n",
       "  <thead>\n",
       "    <tr style=\"text-align: right;\">\n",
       "      <th>Method</th>\n",
       "      <th>Electrocution</th>\n",
       "      <th>Lethal Injection</th>\n",
       "    </tr>\n",
       "    <tr>\n",
       "      <th>State</th>\n",
       "      <th></th>\n",
       "      <th></th>\n",
       "    </tr>\n",
       "  </thead>\n",
       "  <tbody>\n",
       "    <tr>\n",
       "      <th>FL</th>\n",
       "      <td>0.478261</td>\n",
       "      <td>0.521739</td>\n",
       "    </tr>\n",
       "    <tr>\n",
       "      <th>VA</th>\n",
       "      <td>0.279279</td>\n",
       "      <td>0.720721</td>\n",
       "    </tr>\n",
       "  </tbody>\n",
       "</table>\n",
       "</div>"
      ],
      "text/plain": [
       "Method  Electrocution  Lethal Injection\n",
       "State                                  \n",
       "FL           0.478261          0.521739\n",
       "VA           0.279279          0.720721"
      ]
     },
     "execution_count": 68,
     "metadata": {},
     "output_type": "execute_result"
    }
   ],
   "source": [
    "prop = table.apply(lambda x : x/sum(x), axis = 1) # 주(플로리다, 버지니아)에 따른 독살형,전기충격형 방법의 비율\n",
    "prop"
   ]
  },
  {
   "cell_type": "markdown",
   "id": "b44a6c68",
   "metadata": {},
   "source": [
    "- 플로리다에서 독살형의 비율 52.17%  \n",
    "- 버지니아에서 독살형의 비율 72.07%  \n",
    "\n",
    "플로리다보다 버지니아에서 독살형을 더 많이 집행하고 있다."
   ]
  },
  {
   "cell_type": "code",
   "execution_count": 69,
   "id": "7a1cb6de",
   "metadata": {},
   "outputs": [
    {
     "data": {
      "text/plain": [
       "0.1989815902859381"
      ]
     },
     "execution_count": 69,
     "metadata": {},
     "output_type": "execute_result"
    }
   ],
   "source": [
    "prop.iloc[1,1] - prop.iloc[0,1] # 독살형의 차이"
   ]
  },
  {
   "cell_type": "code",
   "execution_count": 70,
   "id": "88f801b2",
   "metadata": {},
   "outputs": [
    {
     "data": {
      "text/plain": [
       "1.3813813813813813"
      ]
     },
     "execution_count": 70,
     "metadata": {},
     "output_type": "execute_result"
    }
   ],
   "source": [
    "prop.iloc[1,1] / prop.iloc[0,1] # 독살형의 비"
   ]
  },
  {
   "cell_type": "code",
   "execution_count": 71,
   "id": "c3d3921c",
   "metadata": {},
   "outputs": [
    {
     "data": {
      "text/plain": [
       "<AxesSubplot:xlabel='State', ylabel='Count'>"
      ]
     },
     "execution_count": 71,
     "metadata": {},
     "output_type": "execute_result"
    },
    {
     "data": {
      "image/png": "[encoded data removed]",
      "text/plain": [
       "<Figure size 720x720 with 1 Axes>"
      ]
     },
     "metadata": {},
     "output_type": "display_data"
    }
   ],
   "source": [
    "sns.histplot(x='State',multiple = 'fill',data=VAFL,hue='Method', shrink = 0.8)"
   ]
  },
  {
   "cell_type": "markdown",
   "id": "c92d33b2",
   "metadata": {},
   "source": [
    "- 영가설 : 버지나아 주의 독살형 비율은 플로리다 주의 독살형 비율과 같다.   \n",
    "- 대안가설 : 버지나아 주의 독살형 비율은 플로리다 주의 독살형 비율과 같지 않다. \n",
    "\n",
    "H0 : P(VA)-P(FL) = 0  \n",
    "H1 :  P(VA)-P(FL) ≠ 0  \n",
    "\n",
    "- 유의수준 : a = 0.01"
   ]
  },
  {
   "cell_type": "markdown",
   "id": "7f4857b5",
   "metadata": {},
   "source": [
    "Statisics : 두 그룹의 독살형 표본 비율의 차 = 0.199"
   ]
  },
  {
   "cell_type": "code",
   "execution_count": 72,
   "id": "f7642f6f",
   "metadata": {},
   "outputs": [
    {
     "data": {
      "text/plain": [
       "0.1989815902859381"
      ]
     },
     "execution_count": 72,
     "metadata": {},
     "output_type": "execute_result"
    }
   ],
   "source": [
    "diff=prop.iloc[1,1] - prop.iloc[0,1]\n",
    "diff"
   ]
  },
  {
   "cell_type": "code",
   "execution_count": 73,
   "id": "73e96515",
   "metadata": {},
   "outputs": [],
   "source": [
    "import random "
   ]
  },
  {
   "cell_type": "code",
   "execution_count": 74,
   "id": "ea794415",
   "metadata": {},
   "outputs": [],
   "source": [
    "# 반응변수인 Method의 값을 무작위로 섞어서 두 그룹에 배정하는 simulation을 5000번 반복한다.\n",
    "# 위 과정으로 생성된 5000개의 표본에서 버지니아 주 독살형의 비율과 플로리다 주 독살형의 비율의 차를 계산\n",
    "# 독살형 비율의 차이 5000개를 null_diff에 저장.\n",
    "\n",
    "\n",
    "null_diff = []\n",
    "VAFL_s = VAFL.copy()\n",
    "\n",
    "random.seed(1112)\n",
    "\n",
    "for i in range(5000) :\n",
    "     random.shuffle(VAFL_s['Method'])\n",
    "     prop_table = pd.crosstab(VAFL_s['State'],VAFL_s['Method'], normalize=\"index\") # 행 기준 비율에 대한 2*2 분할표\n",
    "     prop_d = prop_table.iloc[1,1] # 버지니아 주에서 독살형의 비율 \n",
    "     prop_c = prop_table.iloc[0,1] # 플로리다 주에서 독살형의 비율 \n",
    "     res = prop_d - prop_c # 비율의 차이\n",
    "     null_diff.append(res)"
   ]
  },
  {
   "cell_type": "code",
   "execution_count": 75,
   "id": "e4354519",
   "metadata": {},
   "outputs": [
    {
     "data": {
      "text/plain": [
       "0.002"
      ]
     },
     "execution_count": 75,
     "metadata": {},
     "output_type": "execute_result"
    }
   ],
   "source": [
    "# 유의 확률 : 버지니아와 플로리다 주에서 독살형 비율의 차이의 영가설 하의 분포에서 관측된 차이값보다 클 확률\n",
    "p_value = sum(null_diff >= diff) / 5000\n",
    "p_value"
   ]
  },
  {
   "cell_type": "code",
   "execution_count": 76,
   "id": "37772599",
   "metadata": {},
   "outputs": [
    {
     "data": {
      "text/plain": [
       "Text(0.5, 1.0, 'distribution of difference')"
      ]
     },
     "execution_count": 76,
     "metadata": {},
     "output_type": "execute_result"
    },
    {
     "data": {
      "image/png": "[encoded data removed]",
      "text/plain": [
       "<Figure size 720x720 with 1 Axes>"
      ]
     },
     "metadata": {},
     "output_type": "display_data"
    }
   ],
   "source": [
    "#영가설하의 독살형 비율의 차이 분포 시각화\n",
    "sns.histplot(null_diff, color=\"green\")\n",
    "plt.axvline(diff, color='red', linestyle='dashed', linewidth=1) #p-value가 0에 가까움이 확인된다.\n",
    "plt.title('distribution of difference')"
   ]
  },
  {
   "cell_type": "markdown",
   "id": "2e36d2e3",
   "metadata": {},
   "source": [
    "결론"
   ]
  },
  {
   "cell_type": "markdown",
   "id": "fbd2fb99",
   "metadata": {},
   "source": [
    "버지니아 주와 플로리다 주에서 독살형 집행 비율의 차이는 0.199로 버지니아 주의 비율이 더 컸다.  \n",
    "이 차이의 유의성을 판단하기 위해 영분포 하에서 모의실험을 진행한 후, p-value를 구하였다.   \n",
    "p-value는 0.002로 유의수준 0.01보다 작아 두 주 사이의 독살형 집행 비율의 차이는 통계적으로 유의하다.  "
   ]
  },
  {
   "cell_type": "markdown",
   "id": "bb611507",
   "metadata": {},
   "source": [
    "### Q15. 연간 희생자 수 평균에 대한 95% 신뢰구간 구해보기"
   ]
  },
  {
   "cell_type": "markdown",
   "id": "133ac273",
   "metadata": {},
   "source": [
    "### A15."
   ]
  },
  {
   "cell_type": "markdown",
   "id": "e1da5ed3",
   "metadata": {},
   "source": [
    "(43.288, 73.397)"
   ]
  },
  {
   "cell_type": "code",
   "execution_count": 77,
   "id": "82cea539",
   "metadata": {
    "scrolled": true
   },
   "outputs": [
    {
     "data": {
      "text/html": [
       "<div>\n",
       "<style scoped>\n",
       "    .dataframe tbody tr th:only-of-type {\n",
       "        vertical-align: middle;\n",
       "    }\n",
       "\n",
       "    .dataframe tbody tr th {\n",
       "        vertical-align: top;\n",
       "    }\n",
       "\n",
       "    .dataframe thead th {\n",
       "        text-align: right;\n",
       "    }\n",
       "</style>\n",
       "<table border=\"1\" class=\"dataframe\">\n",
       "  <thead>\n",
       "    <tr style=\"text-align: right;\">\n",
       "      <th></th>\n",
       "      <th>year</th>\n",
       "      <th>Victim Count</th>\n",
       "    </tr>\n",
       "  </thead>\n",
       "  <tbody>\n",
       "    <tr>\n",
       "      <th>0</th>\n",
       "      <td>1977</td>\n",
       "      <td>1</td>\n",
       "    </tr>\n",
       "    <tr>\n",
       "      <th>1</th>\n",
       "      <td>1979</td>\n",
       "      <td>1</td>\n",
       "    </tr>\n",
       "    <tr>\n",
       "      <th>2</th>\n",
       "      <td>1979</td>\n",
       "      <td>1</td>\n",
       "    </tr>\n",
       "    <tr>\n",
       "      <th>3</th>\n",
       "      <td>1981</td>\n",
       "      <td>4</td>\n",
       "    </tr>\n",
       "    <tr>\n",
       "      <th>4</th>\n",
       "      <td>1982</td>\n",
       "      <td>1</td>\n",
       "    </tr>\n",
       "    <tr>\n",
       "      <th>...</th>\n",
       "      <td>...</td>\n",
       "      <td>...</td>\n",
       "    </tr>\n",
       "    <tr>\n",
       "      <th>1437</th>\n",
       "      <td>2016</td>\n",
       "      <td>2</td>\n",
       "    </tr>\n",
       "    <tr>\n",
       "      <th>1438</th>\n",
       "      <td>2016</td>\n",
       "      <td>1</td>\n",
       "    </tr>\n",
       "    <tr>\n",
       "      <th>1439</th>\n",
       "      <td>2016</td>\n",
       "      <td>1</td>\n",
       "    </tr>\n",
       "    <tr>\n",
       "      <th>1440</th>\n",
       "      <td>2016</td>\n",
       "      <td>1</td>\n",
       "    </tr>\n",
       "    <tr>\n",
       "      <th>1441</th>\n",
       "      <td>2016</td>\n",
       "      <td>1</td>\n",
       "    </tr>\n",
       "  </tbody>\n",
       "</table>\n",
       "<p>1442 rows × 2 columns</p>\n",
       "</div>"
      ],
      "text/plain": [
       "      year  Victim Count\n",
       "0     1977             1\n",
       "1     1979             1\n",
       "2     1979             1\n",
       "3     1981             4\n",
       "4     1982             1\n",
       "...    ...           ...\n",
       "1437  2016             2\n",
       "1438  2016             1\n",
       "1439  2016             1\n",
       "1440  2016             1\n",
       "1441  2016             1\n",
       "\n",
       "[1442 rows x 2 columns]"
      ]
     },
     "execution_count": 77,
     "metadata": {},
     "output_type": "execute_result"
    }
   ],
   "source": [
    "execution['year']=Date['year']\n",
    "d=execution.loc[:,['year','Victim Count']] #년도, 희생자 수 데이터\n",
    "d"
   ]
  },
  {
   "cell_type": "code",
   "execution_count": 78,
   "id": "bf20707f",
   "metadata": {},
   "outputs": [
    {
     "data": {
      "text/plain": [
       "array([1977, 1979, 1981, 1982, 1983, 1984, 1985, 1986, 1987, 1988, 1989,\n",
       "       1990, 1991, 1992, 1993, 1994, 1995, 1996, 1997, 1998, 1999, 2000,\n",
       "       2001, 2002, 2003, 2004, 2005, 2006, 2007, 2008, 2009, 2010, 2011,\n",
       "       2012, 2013, 2014, 2015, 2016], dtype=int64)"
      ]
     },
     "execution_count": 78,
     "metadata": {},
     "output_type": "execute_result"
    }
   ],
   "source": [
    "year=execution['year'].unique() #년도 값\n",
    "year #1978, 1980년은 사형이 집행된 사형수에 의한 희생자 수 0명"
   ]
  },
  {
   "cell_type": "code",
   "execution_count": 79,
   "id": "cc366595",
   "metadata": {},
   "outputs": [],
   "source": [
    "year=execution['year'].unique() #년도 값\n",
    "year\n",
    "sample=[]\n",
    "for y in year:\n",
    "    a=d[d['year']== y].sum()\n",
    "    sample.append(a[1])"
   ]
  },
  {
   "cell_type": "code",
   "execution_count": 80,
   "id": "392819ad",
   "metadata": {},
   "outputs": [
    {
     "data": {
      "text/plain": [
       "[1,\n",
       " 2,\n",
       " 4,\n",
       " 2,\n",
       " 6,\n",
       " 25,\n",
       " 30,\n",
       " 21,\n",
       " 34,\n",
       " 19,\n",
       " 16,\n",
       " 42,\n",
       " 18,\n",
       " 43,\n",
       " 56,\n",
       " 47,\n",
       " 71,\n",
       " 71,\n",
       " 98,\n",
       " 97,\n",
       " 130,\n",
       " 117,\n",
       " 256,\n",
       " 95,\n",
       " 98,\n",
       " 75,\n",
       " 95,\n",
       " 83,\n",
       " 67,\n",
       " 52,\n",
       " 75,\n",
       " 62,\n",
       " 64,\n",
       " 67,\n",
       " 62,\n",
       " 47,\n",
       " 43,\n",
       " 26]"
      ]
     },
     "execution_count": 80,
     "metadata": {},
     "output_type": "execute_result"
    }
   ],
   "source": [
    "sample # 연간 희생자 수 표본값"
   ]
  },
  {
   "cell_type": "code",
   "execution_count": 81,
   "id": "52e26309",
   "metadata": {},
   "outputs": [
    {
     "data": {
      "text/plain": [
       "[<matplotlib.lines.Line2D at 0x1ba4b266c70>]"
      ]
     },
     "execution_count": 81,
     "metadata": {},
     "output_type": "execute_result"
    },
    {
     "data": {
      "image/png": "[encoded data removed]",
      "text/plain": [
       "<Figure size 720x720 with 1 Axes>"
      ]
     },
     "metadata": {},
     "output_type": "display_data"
    }
   ],
   "source": [
    "plt.plot(sample,'+',color=\"red\") "
   ]
  },
  {
   "cell_type": "code",
   "execution_count": 82,
   "id": "273dce56",
   "metadata": {},
   "outputs": [
    {
     "data": {
      "text/plain": [
       "58.3421052631579"
      ]
     },
     "execution_count": 82,
     "metadata": {},
     "output_type": "execute_result"
    }
   ],
   "source": [
    "x_bar=sum(sample)/len(sample)\n",
    "x_bar #표본평균"
   ]
  },
  {
   "cell_type": "code",
   "execution_count": 83,
   "id": "573312a0",
   "metadata": {},
   "outputs": [
    {
     "data": {
      "text/plain": [
       "47.34877852574988"
      ]
     },
     "execution_count": 83,
     "metadata": {},
     "output_type": "execute_result"
    }
   ],
   "source": [
    "s=np.std(sample,ddof=1) #표본표준편차\n",
    "s"
   ]
  },
  {
   "cell_type": "code",
   "execution_count": 84,
   "id": "bfc291d4",
   "metadata": {},
   "outputs": [
    {
     "data": {
      "text/plain": [
       "1.959963984540054"
      ]
     },
     "execution_count": 84,
     "metadata": {},
     "output_type": "execute_result"
    }
   ],
   "source": [
    "q_975 = stats.norm.ppf(0.975, 0, 1)  # z_0.025\n",
    "q_975"
   ]
  },
  {
   "cell_type": "code",
   "execution_count": 85,
   "id": "b80b7e42",
   "metadata": {},
   "outputs": [
    {
     "data": {
      "text/plain": [
       "[43.287649060550976, 73.39656146576482]"
      ]
     },
     "execution_count": 85,
     "metadata": {},
     "output_type": "execute_result"
    }
   ],
   "source": [
    "se = s/np.sqrt(len(sample))\n",
    "[ x_bar - q_975 * se , x_bar + q_975 * se]"
   ]
  },
  {
   "cell_type": "markdown",
   "id": "01ea07df",
   "metadata": {},
   "source": [
    "## 참고"
   ]
  },
  {
   "cell_type": "markdown",
   "id": "fa775ed8",
   "metadata": {},
   "source": [
    "- 티머시 맥베이\n",
    "https://ko.wikipedia.org/wiki/%ED%8B%B0%EB%A8%B8%EC%8B%9C_%EB%A7%A5%EB%B2%A0%EC%9D%B4\n",
    "- 2000년도 미국 인구\n",
    "https://ko.wikipedia.org/wiki/%EB%AF%B8%EA%B5%AD%EC%9D%98_%EC%9D%B8%EA%B5%AC"
   ]
  }
 ],
 "metadata": {
  "kernelspec": {
   "display_name": "Python 3",
   "language": "python",
   "name": "python3"
  },
  "language_info": {
   "codemirror_mode": {
    "name": "ipython",
    "version": 3
   },
   "file_extension": ".py",
   "mimetype": "text/x-python",
   "name": "python",
   "nbconvert_exporter": "python",
   "pygments_lexer": "ipython3",
   "version": "3.8.8"
  }
 },
 "nbformat": 4,
 "nbformat_minor": 5
}
